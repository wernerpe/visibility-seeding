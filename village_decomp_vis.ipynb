{
 "cells": [
  {
   "cell_type": "code",
   "execution_count": 1,
   "metadata": {},
   "outputs": [
    {
     "name": "stderr",
     "output_type": "stream",
     "text": [
      "/home/peter/.local/lib/python3.8/site-packages/scipy/__init__.py:143: UserWarning: A NumPy version >=1.19.5 and <1.27.0 is required for this version of SciPy (detected version 1.17.4)\n",
      "  warnings.warn(f\"A NumPy version >={np_minversion} and <{np_maxversion}\"\n"
     ]
    },
    {
     "name": "stdout",
     "output_type": "stream",
     "text": [
      "You can open the visualizer by visiting the following URL:\n",
      "http://127.0.0.1:7000/static/\n"
     ]
    }
   ],
   "source": [
    "import numpy as np\n",
    "from uav_boxes import Village\n",
    "from seeding_utils import point_near_regions, vis_reg, point_in_regions\n",
    "from scipy.sparse import lil_matrix\n",
    "import numpy as np\n",
    "from tqdm import tqdm\n",
    "from region_generation import generate_regions_multi_threading\n",
    "import pickle \n",
    "from pydrake.all import HPolyhedron\n",
    "world = Village()\n",
    "village_side = 39\n",
    "village_height = 10\n",
    "world.build(village_height=village_height, village_side=village_side, building_every=5, density=0.15)"
   ]
  },
  {
   "cell_type": "code",
   "execution_count": 2,
   "metadata": {},
   "outputs": [],
   "source": [
    "\n",
    "path = 'logs/experiment_village_redu_39_10_08_11_17_51_59___0_500_0.050_0.200/data/it_17.pkl'\n",
    "with open(path, 'rb') as f:\n",
    "   d =  pickle.load(f)"
   ]
  },
  {
   "cell_type": "code",
   "execution_count": 3,
   "metadata": {},
   "outputs": [],
   "source": [
    "ra = []\n",
    "rb = []\n",
    "for ga,gb in zip(d['ra'], d['rb']):\n",
    "    ra+=ga\n",
    "    rb+=gb\n",
    "regions = [HPolyhedron(a,b) for a,b in zip(ra, rb)]"
   ]
  },
  {
   "cell_type": "code",
   "execution_count": 4,
   "metadata": {},
   "outputs": [],
   "source": [
    "world.plot_regions(regions)"
   ]
  },
  {
   "cell_type": "code",
   "execution_count": 5,
   "metadata": {},
   "outputs": [],
   "source": [
    "from dijkstraspp import DijkstraSPPsolver"
   ]
  },
  {
   "cell_type": "code",
   "execution_count": 6,
   "metadata": {},
   "outputs": [
    {
     "name": "stdout",
     "output_type": "stream",
     "text": [
      "[DijkstraSPP] Pre-Building adjacency matrix  0 / 115\n",
      "[DijkstraSPP] Pre-Building adjacency matrix  10 / 115\n",
      "[DijkstraSPP] Pre-Building adjacency matrix  20 / 115\n",
      "[DijkstraSPP] Pre-Building adjacency matrix  30 / 115\n",
      "[DijkstraSPP] Pre-Building adjacency matrix  40 / 115\n",
      "[DijkstraSPP] Pre-Building adjacency matrix  50 / 115\n",
      "[DijkstraSPP] Pre-Building adjacency matrix  60 / 115\n",
      "[DijkstraSPP] Pre-Building adjacency matrix  70 / 115\n",
      "[DijkstraSPP] Pre-Building adjacency matrix  80 / 115\n",
      "[DijkstraSPP] Pre-Building adjacency matrix  90 / 115\n",
      "[DijkstraSPP] Pre-Building adjacency matrix  100 / 115\n",
      "[DijkstraSPP] Pre-Building adjacency matrix  110 / 115\n",
      "[DijkstraSPP] Pre-Building d-adjacency matrix  0 / 491\n"
     ]
    }
   ],
   "source": [
    "def conv(pt):\n",
    "    return pt\n",
    "\n",
    "dspp = DijkstraSPPsolver(regions, conv)"
   ]
  },
  {
   "cell_type": "code",
   "execution_count": 7,
   "metadata": {},
   "outputs": [
    {
     "name": "stdout",
     "output_type": "stream",
     "text": [
      "True\n",
      "True\n"
     ]
    }
   ],
   "source": [
    "start= np.zeros((3,1))\n",
    "end = np.array([village_side,village_side, 4]) \n",
    "print(point_in_regions(start,regions ))\n",
    "print(point_in_regions(end,regions ))"
   ]
  },
  {
   "cell_type": "code",
   "execution_count": 8,
   "metadata": {},
   "outputs": [],
   "source": [
    "def densify_waypoints(waypoints):\n",
    "    densify = 20\n",
    "    dists = []\n",
    "    dense_waypoints = []\n",
    "    for idx in range(len(waypoints[:-1])):\n",
    "        a = waypoints[idx]\n",
    "        b = waypoints[idx+1]\n",
    "        t = np.linspace(1,0, 10)\n",
    "        locs = []\n",
    "        dists = []\n",
    "        for tval in t:\n",
    "            pa = a*tval + b*(1-tval)\n",
    "            locs.append(pa)\n",
    "        for i in range(len(locs)-1):\n",
    "            dists.append(np.linalg.norm(locs[i]- locs[i+1]))\n",
    "        d = np.sum(dists)\n",
    "        #print(d * densify)\n",
    "        t = np.linspace(1,0,int(densify*d))\n",
    "        for tval in t:\n",
    "            dense_waypoints.append(waypoints[idx]*tval + waypoints[idx+1]*(1-tval))\n",
    "    return dense_waypoints\n",
    "\n"
   ]
  },
  {
   "cell_type": "code",
   "execution_count": 9,
   "metadata": {},
   "outputs": [
    {
     "name": "stdout",
     "output_type": "stream",
     "text": [
      "[DijkstraSPP] optimized distance/ start-distance = 63.14 / 70.81 = 0.89\n"
     ]
    }
   ],
   "source": [
    "wp_sparse, _ = dspp.solve(start.squeeze(), end.squeeze())\n",
    "wp_dense = densify_waypoints(wp_sparse)\n",
    "world.plot_points(wp_dense)"
   ]
  },
  {
   "cell_type": "code",
   "execution_count": 38,
   "metadata": {},
   "outputs": [],
   "source": []
  },
  {
   "cell_type": "code",
   "execution_count": 39,
   "metadata": {},
   "outputs": [],
   "source": []
  },
  {
   "cell_type": "code",
   "execution_count": null,
   "metadata": {},
   "outputs": [],
   "source": []
  }
 ],
 "metadata": {
  "kernelspec": {
   "display_name": "Python 3",
   "language": "python",
   "name": "python3"
  },
  "language_info": {
   "codemirror_mode": {
    "name": "ipython",
    "version": 3
   },
   "file_extension": ".py",
   "mimetype": "text/x-python",
   "name": "python",
   "nbconvert_exporter": "python",
   "pygments_lexer": "ipython3",
   "version": "3.8.10"
  },
  "orig_nbformat": 4
 },
 "nbformat": 4,
 "nbformat_minor": 2
}
