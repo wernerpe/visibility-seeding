{
 "cells": [
  {
   "cell_type": "code",
   "execution_count": 5,
   "metadata": {},
   "outputs": [
    {
     "name": "stdout",
     "output_type": "stream",
     "text": [
      "Experiments with b = fpg-poly_000300_h5.:\n",
      "  Experiments with N = 1:\n",
      "    Experiment data: [76, 0.9526, 946.9134435653687, 9.535, 114.538, 0, 1386.0430000000001]\n",
      "    Experiment data: [75, 0.9526, 927.6305270195007, 10.027, 116.141, 0, 1357.2659999999998]\n",
      "    Experiment data: [82, 0.9501, 1012.690022945404, 8.982000000000001, 116.31700000000001, 0, 1508.6550000000002]\n",
      "  Experiments with N = 3:\n",
      "    Experiment data: [65, 0.9504, 1069.5529987812042, 176.91899999999998, 18.609, 0, 35778.439000000006]\n",
      "    Experiment data: [66, 0.9564, 1035.4909932613373, 182.599, 19.051, 0, 34916.117]\n",
      "    Experiment data: [72, 0.9508, 1188.2772495746613, 199.79500000000002, 22.762, 0, 42386.846]\n",
      "  Experiments with N = 2:\n",
      "    Experiment data: [66, 0.9559, 826.5863094329834, 11.542, 114.517, 0, 1371.029]\n",
      "    Experiment data: [75, 0.9542, 952.3554849624634, 12.433, 115.724, 0, 1486.844]\n",
      "    Experiment data: [73, 0.956, 922.8208734989166, 17.135, 114.79, 0, 1511.0520000000001]\n",
      "Experiments with b = srpg_iso_aligned_mc00172.:\n",
      "  Experiments with N = 2:\n",
      "    Experiment data: [42, 0.9481, 284.5170347690582, 19.526, 50.608999999999995, 0, 462.36600000000004]\n",
      "    Experiment data: [47, 0.95, 295.2277572154999, 9.391, 49.032999999999994, 0, 469.024]\n",
      "    Experiment data: [44, 0.9482, 286.2180087566376, 13.434999999999999, 49.083, 0, 471.0920000000001]\n",
      "  Experiments with N = 1:\n",
      "    Experiment data: [52, 0.9501, 315.75267457962036, 6.516, 49.244, 0, 461.073]\n",
      "    Experiment data: [54, 0.9575, 322.43734192848206, 7.132000000000001, 49.544999999999995, 0, 483.244]\n",
      "    Experiment data: [52, 0.9516, 308.2035481929779, 6.669, 47.85, 0, 456.544]\n",
      "  Experiments with N = 3:\n",
      "    Experiment data: [45, 0.9359, 281.26106309890747, 32.09, 8.760000000000002, 0, 6589.620999999999]\n",
      "    Experiment data: [46, 0.9363, 294.45501613616943, 35.202999999999996, 9.185, 0, 6809.423000000001]\n",
      "    Experiment data: [45, 0.9372, 274.6095085144043, 32.41000000000001, 8.826, 0, 6408.573999999999]\n",
      "Experiments with b = fpg-poly_000060_h1.:\n",
      "  Experiments with N = 1:\n",
      "    Experiment data: [16, 0.9417, 60.09548020362854, 0.236, 32.892, 0, 26.966999999999995]\n",
      "    Experiment data: [16, 0.9308, 74.82528352737427, 4.087000000000001, 41.653, 0, 89.64800000000001]\n",
      "    Experiment data: [16, 0.9611, 60.46797513961792, 0.23, 33.263, 0, 26.975000000000005]\n",
      "  Experiments with N = 3:\n",
      "    Experiment data: [13, 0.9304, 27.95890235900879, 2.052, 0.697, 0, 193.24599999999998]\n",
      "    Experiment data: [14, 0.9455, 31.291107416152954, 2.009, 0.825, 0, 231.664]\n",
      "    Experiment data: [14, 0.9348, 35.30080199241638, 1.9979999999999998, 0.814, 0, 259.095]\n",
      "  Experiments with N = 2:\n",
      "    Experiment data: [14, 0.935, 62.41012239456177, 0.23, 33.51, 0, 28.669999999999998]\n",
      "    Experiment data: [13, 0.9366, 59.260662317276, 0.235, 32.51, 0, 26.516000000000005]\n",
      "    Experiment data: [14, 0.9344, 60.43359041213989, 0.231, 33.042, 0, 27.160999999999994]\n",
      "Experiments with b = cheese102.:\n",
      "  Experiments with N = 2:\n",
      "    Experiment data: [23, 0.9228, 106.08211326599121, 0.282, 64.025, 0, 41.77499999999999]\n",
      "    Experiment data: [24, 0.9198, 107.5478196144104, 0.291, 63.199, 0, 44.05800000000001]\n",
      "    Experiment data: [23, 0.9253, 103.82545018196106, 0.289, 62.133, 0, 41.403]\n",
      "  Experiments with N = 3:\n",
      "    Experiment data: [23, 0.9269, 55.339961528778076, 4.19, 2.254, 0, 621.229]\n",
      "    Experiment data: [22, 0.922, 52.15575408935547, 4.048, 2.073, 0, 572.842]\n",
      "    Experiment data: [28, 0.9276, 69.98182773590088, 4.883, 3.384, 0, 993.0390000000001]\n",
      "  Experiments with N = 1:\n",
      "    Experiment data: [28, 0.9222, 129.178067445755, 4.388999999999999, 78.93900000000001, 0, 145.543]\n",
      "    Experiment data: [27, 0.9247, 126.8265655040741, 4.301, 77.584, 0, 144.075]\n",
      "    Experiment data: [27, 0.9232, 128.24391222000122, 3.868, 79.19300000000001, 0, 144.584]\n",
      "Experiments with b = fpg-poly_000070_h1.:\n",
      "  Experiments with N = 3:\n",
      "    Experiment data: [15, 0.9419, 39.71769571304321, 2.808, 0.941, 0, 312.80500000000006]\n",
      "    Experiment data: [16, 0.9437, 37.84186387062073, 2.367, 1.075, 0, 322.30199999999996]\n",
      "    Experiment data: [15, 0.9556, 40.64436388015747, 3.001, 0.951, 0, 320.905]\n",
      "  Experiments with N = 1:\n",
      "    Experiment data: [20, 0.9479, 82.23867845535278, 6.6659999999999995, 37.403, 0, 100.461]\n",
      "    Experiment data: [19, 0.9383, 80.43423557281494, 5.9399999999999995, 37.238, 0, 97.772]\n",
      "    Experiment data: [16, 0.9434, 71.97340250015259, 6.257000000000001, 35.838, 0, 86.044]\n",
      "  Experiments with N = 2:\n",
      "    Experiment data: [14, 0.9473, 60.21056795120239, 0.28, 30.711, 0, 29.22]\n",
      "    Experiment data: [13, 0.951, 60.05650186538696, 0.299, 29.446, 0, 30.312]\n",
      "    Experiment data: [13, 0.9485, 58.17651724815369, 0.298, 29.907, 0, 27.972]\n"
     ]
    },
    {
     "name": "stderr",
     "output_type": "stream",
     "text": [
      "<ipython-input-5-1f3a2163938f>:127: DeprecationWarning: Calling np.sum(generator) is deprecated, and in the future will give a different result. Use np.sum(np.fromiter(generator)) or the python sum builtin instead.\n",
      "  np.sum(len(g) for g in data['rb']), coverage , data['ttotal'], tsample, tvis, tmhs, tregions])\n"
     ]
    }
   ],
   "source": [
    "import os\n",
    "import glob\n",
    "import pickle\n",
    "import numpy as np\n",
    "\n",
    "def parse_polyname(experiment_name):\n",
    "    parts = experiment_name.split('_')\n",
    "    index = -1\n",
    "    for i,p in enumerate(name_parts):\n",
    "        if '.json' in p:\n",
    "            index = i\n",
    "\n",
    "    s = ''\n",
    "    for p in parts[1:index+1]:\n",
    "        s+=p+'_'\n",
    "    s += parts[-1]\n",
    "    return  s[:-14].replace('.json','').replace('000','0').replace('.instance','')\n",
    "\n",
    "def parse_logfile(filename):\n",
    "    logfile = open(filename, 'r')\n",
    "    lines = logfile.readlines()\n",
    "    logfile.close()\n",
    "\n",
    "    iteration_data = []\n",
    "    current_iteration = {}\n",
    "\n",
    "    for line in lines:\n",
    "        if line.startswith('ITERATION:'):\n",
    "            if current_iteration:\n",
    "                iteration_data.append(current_iteration)\n",
    "                current_iteration = {}\n",
    "        elif line.startswith('summary'):\n",
    "            current_iteration['summary'] = line.strip()\n",
    "        elif line.startswith('number of regions step'):\n",
    "            current_iteration['number_of_regions_step'] = int(line.split()[-1])\n",
    "        elif line.startswith('number of regions total'):\n",
    "            current_iteration['number_of_regions_total'] = int(line.split()[-1])\n",
    "        elif line.startswith('tstep'):\n",
    "            a = line.replace(',', '')\n",
    "            current_iteration['tstep'] = float(a.split()[1])\n",
    "            current_iteration['t_total'] = float(a.split()[3])\n",
    "        elif line.startswith('tsample'):\n",
    "            a = line.replace(',', '')\n",
    "            current_iteration['tsample'] = float(a.split()[1])\n",
    "            current_iteration['t_visgraph'] = float(a.split()[3])\n",
    "        elif line.startswith('t_mhs'):\n",
    "            current_iteration['t_mhs'] = float(line.split()[1])\n",
    "        elif line.startswith('t_regions'):\n",
    "            current_iteration['t_regions'] = float(line.split()[1])\n",
    "        elif line.startswith('coverage'):\n",
    "            current_iteration['coverage'] = float(line.split()[1])\n",
    "        elif '[VisSeeder] Coverage met, terminated' in line:\n",
    "            current_iteration['termination'] = line.strip()\n",
    "\n",
    "    if current_iteration:\n",
    "        iteration_data.append(current_iteration)\n",
    "    return iteration_data\n",
    "\n",
    "\n",
    "logs_directory = 'logs'\n",
    "\n",
    "# Get a list of all subdirectories in the logs directory\n",
    "experiment_directories = [directory for directory in glob.glob(os.path.join(logs_directory, '*')) if os.path.isdir(directory)]\n",
    "\n",
    "# Define a dictionary to store the grouped experiments\n",
    "grouped_experiments = {}\n",
    "\n",
    "# Iterate over each experiment directory\n",
    "for experiment_directory in experiment_directories:\n",
    "    # Parse the experiment name\n",
    "    experiment_name = os.path.basename(experiment_directory)\n",
    "    name_parts = experiment_name.split('_')\n",
    "    \n",
    "\n",
    "    # Extract the relevant values from the experiment name\n",
    "    b = parse_polyname(experiment_name)\n",
    "    if 'nxccv' in name_parts:\n",
    "        N = 1\n",
    "    elif 'postit' in name_parts:\n",
    "        N = 3\n",
    "    else:\n",
    "        N=2\n",
    "    #N = #int(name_parts[-3])\n",
    "    \n",
    "    # Get the last pickle file in the 'data' subdirectory\n",
    "    data_directory = os.path.join(experiment_directory, 'data')\n",
    "    pickle_files = glob.glob(os.path.join(data_directory, '*.pkl'))\n",
    "    pkl_files = os.listdir(data_directory)\n",
    "    pkl_idx = np.argsort([int(s.replace('it_', '').replace('.pkl', '')) for s in pkl_files])\n",
    "    \n",
    "    #pickle_files.sort()\n",
    "    \n",
    "    last_pickle_file = data_directory+'/'+pkl_files[pkl_idx[-1]]#pickle_files[-1]#max(pickle_files, key=os.path.getctime)\n",
    "    \n",
    "    # Load the last pickle file\n",
    "    with open(last_pickle_file, 'rb') as file:\n",
    "        data = pickle.load(file)\n",
    "    \n",
    "    # Find the 'summar' subdirectory and get the path to the text file\n",
    "    summar_directory = os.path.join(experiment_directory, 'summary')\n",
    "    text_files = glob.glob(os.path.join(summar_directory, '*.txt'))\n",
    "    last_text_file = max(text_files, key=os.path.getctime)\n",
    "    \n",
    "\n",
    "    iteration_dictionaries = parse_logfile(last_text_file)\n",
    "    tsample = np.sum([i['tsample'] for i in iteration_dictionaries[1:]])\n",
    "    tvis = np.sum([i['t_visgraph'] for i in iteration_dictionaries[1:]])\n",
    "    tmhs = np.sum([0 for i in iteration_dictionaries[1:]])\n",
    "    tregions = np.sum([i['t_total'] -i['t_visgraph']-i['tsample']  for i in iteration_dictionaries[1:]])\n",
    "    coverage = iteration_dictionaries[-1]['coverage']\n",
    "    # # Read the last line of the text file to extract coverage\n",
    "    # with open(last_text_file, 'r') as file:\n",
    "    #     lines = file.readlines()\n",
    "    #     last_line = lines[-1].strip()\n",
    "    #     coverage = float(last_line.split()[1])\n",
    "\n",
    "    # Group experiments by 'b' value\n",
    "    if b not in grouped_experiments:\n",
    "        grouped_experiments[b] = {}\n",
    "    \n",
    "    # Group experiments by 'N' value\n",
    "    if N not in grouped_experiments[b]:\n",
    "        grouped_experiments[b][N] = []\n",
    "    \n",
    "    # Add the experiment data to the grouped experiments dictionary\n",
    "    grouped_experiments[b][N].append([\n",
    "            np.sum(len(g) for g in data['rb']), coverage , data['ttotal'], tsample, tvis, tmhs, tregions])\n",
    "\n",
    "# Print the grouped experiments\n",
    "for b, experiments in grouped_experiments.items():\n",
    "    print(f\"Experiments with b = {b}:\")\n",
    "    for N, experiment_data in experiments.items():\n",
    "        print(f\"  Experiments with N = {N}:\")\n",
    "        for dat in experiment_data:\n",
    "            print(f\"    Experiment data: {dat}\")"
   ]
  },
  {
   "cell_type": "code",
   "execution_count": 6,
   "metadata": {},
   "outputs": [],
   "source": [
    "polynames = []\n",
    "for b in grouped_experiments.keys():\n",
    "    polynames.append(b)\n",
    "\n",
    "polynames.sort()"
   ]
  },
  {
   "cell_type": "code",
   "execution_count": 7,
   "metadata": {},
   "outputs": [
    {
     "data": {
      "text/plain": [
       "['cheese102.',\n",
       " 'fpg-poly_000060_h1.',\n",
       " 'fpg-poly_000070_h1.',\n",
       " 'fpg-poly_000300_h5.',\n",
       " 'srpg_iso_aligned_mc00172.']"
      ]
     },
     "execution_count": 7,
     "metadata": {},
     "output_type": "execute_result"
    }
   ],
   "source": [
    "polynames"
   ]
  },
  {
   "cell_type": "code",
   "execution_count": 9,
   "metadata": {},
   "outputs": [
    {
     "data": {
      "image/png": "[encoded data removed]",
      "text/plain": [
       "<Figure size 1080x360 with 3 Axes>"
      ]
     },
     "metadata": {
      "needs_background": "light"
     },
     "output_type": "display_data"
    }
   ],
   "source": [
    "import matplotlib.pyplot as plt\n",
    "import numpy as np\n",
    "\n",
    "# Sample data\n",
    "categories = [b for b in polynames]\n",
    "values1 = [np.mean(grouped_experiments[b][1], axis =0)[0] for b in polynames]\n",
    "values2 = [np.mean(grouped_experiments[b][2], axis =0)[0] for b in polynames]\n",
    "values3 = [np.mean(grouped_experiments[b][3], axis =0)[0] for b in polynames]\n",
    "std1 = [np.std(grouped_experiments[b][1], axis =0)[0] for b in polynames]\n",
    "std2 = [np.std(grouped_experiments[b][2], axis =0)[0] for b in polynames]\n",
    "std3 = [np.std(grouped_experiments[b][3], axis =0)[0] for b in polynames]\n",
    "\n",
    "# Set the position of the bars on the x-axis\n",
    "ind = np.arange(len(categories))*3\n",
    "\n",
    "# Set the width of the bars\n",
    "width = 0.65\n",
    "\n",
    "# Create the figure and axes\n",
    "fig, axs = plt.subplots(nrows =1, ncols = 3, figsize = (15, 5))\n",
    "\n",
    "ax = axs[0]\n",
    "\n",
    "# Create the first set of bars\n",
    "rects1 = ax.bar(ind - width, values1, width, label='Idea1')\n",
    "ax.errorbar(ind-width, values1, yerr=[std1, std1], fmt='none', ecolor='k', capsize=2)\n",
    "# Create the second set of bars\n",
    "rects2 = ax.bar(ind, values2, width, label='Idea2')\n",
    "ax.errorbar(ind, values2, yerr=[std2, std2], fmt='none', ecolor='k', capsize=2)\n",
    "\n",
    "rects3 = ax.bar(ind+width, values3, width, label='Naiive')\n",
    "ax.errorbar(ind+width, values3, yerr=[std3, std3], fmt='none', ecolor='k', capsize=2)\n",
    "\n",
    "# Set custom tick labels\n",
    "ax.set_xticks(ind)\n",
    "ax.set_xticklabels(categories, rotation = 80)\n",
    "ax.set_yscale('log')\n",
    "# Add labels, title, and legend\n",
    "ax.set_ylabel('Number of Regions')\n",
    "ax.set_title('')\n",
    "ax.legend()\n",
    "\n",
    "\n",
    "values1 = [np.mean(grouped_experiments[b][1], axis =0)[1] for b in polynames]\n",
    "values2 = [np.mean(grouped_experiments[b][2], axis =0)[1] for b in polynames]\n",
    "values3 = [np.mean(grouped_experiments[b][3], axis =0)[1] for b in polynames]\n",
    "std1 = [np.std(grouped_experiments[b][1], axis =0)[1] for b in polynames]\n",
    "std2 = [np.std(grouped_experiments[b][2], axis =0)[1] for b in polynames]\n",
    "std3 = [np.std(grouped_experiments[b][3], axis =0)[1] for b in polynames]\n",
    "\n",
    "ax = axs[1]\n",
    "\n",
    "# Create the first set of bars\n",
    "rects1 = ax.bar(ind - width, values1, width, label='Idea1')\n",
    "ax.errorbar(ind-width, values1, yerr=[std1, std1], fmt='none', ecolor='k', capsize=2)\n",
    "# Create the second set of bars\n",
    "rects2 = ax.bar(ind, values2, width, label='Idea2')\n",
    "ax.errorbar(ind, values2, yerr=[std2, std2], fmt='none', ecolor='k', capsize=2)\n",
    "\n",
    "rects3 = ax.bar(ind+width, values3, width, label='Naiive')\n",
    "ax.errorbar(ind+width, values3, yerr=[std3, std3], fmt='none', ecolor='k', capsize=2)\n",
    "\n",
    "# Set custom tick labels\n",
    "ax.set_xticks(ind)\n",
    "ax.set_xticklabels(categories, rotation = 80)\n",
    "\n",
    "# Add labels, title, and legend\n",
    "ax.set_ylabel('Coverage')\n",
    "ax.set_title('')\n",
    "ax.legend()\n",
    "\n",
    "\n",
    "\n",
    "values1 = [np.mean(grouped_experiments[b][1], axis =0)[2] for b in polynames]\n",
    "values2 = [np.mean(grouped_experiments[b][2], axis =0)[2] for b in polynames]\n",
    "values3 = [np.mean(grouped_experiments[b][3], axis =0)[2] for b in polynames]\n",
    "std1 = [np.std(grouped_experiments[b][1], axis =0)[2] for b in polynames]\n",
    "std2 = [np.std(grouped_experiments[b][2], axis =0)[2] for b in polynames]\n",
    "std3 = [np.std(grouped_experiments[b][3], axis =0)[2] for b in polynames]\n",
    "\n",
    "ax = axs[2]\n",
    "\n",
    "# Create the first set of bars\n",
    "rects1 = ax.bar(ind - width, values1, width, label='Idea1')\n",
    "ax.errorbar(ind-width, values1, yerr=[std1, std1], fmt='none', ecolor='k', capsize=2)\n",
    "# Create the second set of bars\n",
    "rects2 = ax.bar(ind, values2, width, label='Idea2')\n",
    "ax.errorbar(ind, values2, yerr=[std2, std2], fmt='none', ecolor='k', capsize=2)\n",
    "\n",
    "rects3 = ax.bar(ind+width, values3, width, label='Naiive')\n",
    "ax.errorbar(ind+width, values3, yerr=[std3, std3], fmt='none', ecolor='k', capsize=2)\n",
    "\n",
    "# Set custom tick labels\n",
    "ax.set_xticks(ind)\n",
    "ax.set_xticklabels(categories, rotation = 80)\n",
    "\n",
    "# Add labels, title, and legend\n",
    "ax.set_ylabel('Time')\n",
    "ax.set_yscale('log')\n",
    "ax.set_title('')\n",
    "ax.legend()\n",
    "\n",
    "plt.tight_layout()\n",
    "plt.savefig(\"cgshop_instances_clique.pdf\")"
   ]
  },
  {
   "cell_type": "code",
   "execution_count": 7,
   "metadata": {},
   "outputs": [
    {
     "data": {
      "text/plain": [
       "{2: [[23, 0.9228, 106.08211326599121, 0.282, 64.025, 0, 41.77499999999999],\n",
       "  [24, 0.9198, 107.5478196144104, 0.291, 63.199, 0, 44.05800000000001],\n",
       "  [23, 0.9253, 103.82545018196106, 0.289, 62.133, 0, 41.403]]}"
      ]
     },
     "execution_count": 7,
     "metadata": {},
     "output_type": "execute_result"
    }
   ],
   "source": [
    "grouped_experiments[polynames[0]]"
   ]
  },
  {
   "cell_type": "code",
   "execution_count": 31,
   "metadata": {},
   "outputs": [
    {
     "data": {
      "text/plain": [
       "['experiment',\n",
       " 'fpg-poly',\n",
       " '0000000300',\n",
       " 'h5.instance.json',\n",
       " '2',\n",
       " '500',\n",
       " '0.100',\n",
       " '0727224631',\n",
       " '']"
      ]
     },
     "execution_count": 31,
     "metadata": {},
     "output_type": "execute_result"
    }
   ],
   "source": [
    "experiment_name"
   ]
  },
  {
   "cell_type": "code",
   "execution_count": 1,
   "metadata": {},
   "outputs": [],
   "source": [
    "with open('graph.metis', 'r') as f:\n",
    "    lines = f.readlines()"
   ]
  },
  {
   "cell_type": "code",
   "execution_count": 8,
   "metadata": {},
   "outputs": [
    {
     "name": "stderr",
     "output_type": "stream",
     "text": [
      "<ipython-input-8-ed4885a9902e>:4: DeprecationWarning: Calling np.sum(generator) is deprecated, and in the future will give a different result. Use np.sum(np.fromiter(generator)) or the python sum builtin instead.\n",
      "  num_e = np.sum(len(e) for e in edge_lines_comp)\n"
     ]
    }
   ],
   "source": [
    "import numpy as np\n",
    "edge_lines = lines[1:]\n",
    "edge_lines_comp = [e.split(' ') for e in edge_lines]\n",
    "num_e = np.sum(len(e) for e in edge_lines_comp)\n"
   ]
  },
  {
   "cell_type": "code",
   "execution_count": 10,
   "metadata": {},
   "outputs": [
    {
     "data": {
      "text/plain": [
       "500"
      ]
     },
     "execution_count": 10,
     "metadata": {},
     "output_type": "execute_result"
    }
   ],
   "source": [
    "len(edge_lines)"
   ]
  }
 ],
 "metadata": {
  "kernelspec": {
   "display_name": "Python 3",
   "language": "python",
   "name": "python3"
  },
  "language_info": {
   "codemirror_mode": {
    "name": "ipython",
    "version": 3
   },
   "file_extension": ".py",
   "mimetype": "text/x-python",
   "name": "python",
   "nbconvert_exporter": "python",
   "pygments_lexer": "ipython3",
   "version": "3.8.10"
  },
  "orig_nbformat": 4
 },
 "nbformat": 4,
 "nbformat_minor": 2
}
