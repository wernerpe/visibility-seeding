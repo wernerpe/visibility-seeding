{
 "cells": [
  {
   "cell_type": "code",
   "execution_count": 1,
   "id": "3cb02744",
   "metadata": {},
   "outputs": [
    {
     "name": "stderr",
     "output_type": "stream",
     "text": [
      "/home/peter/.local/lib/python3.8/site-packages/scipy/__init__.py:143: UserWarning: A NumPy version >=1.19.5 and <1.27.0 is required for this version of SciPy (detected version 1.17.4)\n",
      "  warnings.warn(f\"A NumPy version >={np_minversion} and <{np_maxversion}\"\n"
     ]
    }
   ],
   "source": [
    "import numpy as np\n",
    "from uav_boxes import Village\n",
    "from seeding_utils import point_near_regions, vis_reg, point_in_regions\n",
    "from scipy.sparse import lil_matrix\n",
    "import numpy as np\n",
    "from tqdm import tqdm\n",
    "from region_generation import generate_regions_multi_threading"
   ]
  },
  {
   "cell_type": "code",
   "execution_count": 2,
   "id": "e6f7832b",
   "metadata": {},
   "outputs": [
    {
     "name": "stdout",
     "output_type": "stream",
     "text": [
      "You can open the visualizer by visiting the following URL:\n",
      "http://127.0.0.1:7000/static/\n",
      "273\n"
     ]
    }
   ],
   "source": [
    "world = Village()\n",
    "village_side = 29\n",
    "world.build(village_height=3, village_side=village_side, building_every=5, density=0.15)\n",
    "print(len(world.obstacles))"
   ]
  },
  {
   "cell_type": "code",
   "execution_count": 3,
   "id": "a6f5b4b9",
   "metadata": {},
   "outputs": [],
   "source": [
    "N = 1\n",
    "seed = 0\n",
    "alpha = 0.05\n",
    "eps = 0.2"
   ]
  },
  {
   "cell_type": "code",
   "execution_count": 4,
   "id": "cb76001a",
   "metadata": {},
   "outputs": [],
   "source": [
    "def sample_cfree_handle(n, m, regions=None):\n",
    "    points = np.zeros((n,3))\n",
    "    m = m*100\n",
    "    if regions is None: regions = []\t\t\n",
    "    for i in range(n):\n",
    "        bt_tries = 0\n",
    "        while bt_tries<m:\n",
    "            point = world.sample_cfree(1)[0]\n",
    "            #point = world.sample_cfree(1)[0]\n",
    "            if point_near_regions(point, regions, tries = 100, eps = 0.1):\n",
    "                bt_tries+=1\n",
    "            else:\n",
    "                break\n",
    "        # if bt_tries == m:\n",
    "        #     return points, True\n",
    "        points[i] = point\n",
    "    return points, False\n",
    "\n",
    "def estimate_coverage(regions):\n",
    "    n_s = 5000\n",
    "    samples = world.sample_cfree(n_s)\n",
    "    in_s = 0\n",
    "    for s in samples:\n",
    "        if point_in_regions(s, regions):\n",
    "            in_s+=1\n",
    "    return (1.0*in_s)/n_s\n",
    "\n",
    "def vgraph_builder(points, regions, region_vis_obstacles=True):\n",
    "    n = len(points)\n",
    "    adj_mat = lil_matrix((n,n))\n",
    "    for i in tqdm(range(n)):\n",
    "        point = points[i, :]\n",
    "        for j in range(len(points[:i])):\n",
    "            other = points[j]\n",
    "            if region_vis_obstacles:\n",
    "                if vis_reg(point, other, world, regions):\n",
    "                    adj_mat[i,j] = adj_mat[j,i] = 1\n",
    "            else:\n",
    "                if vis_reg(point, other, world, []):\n",
    "                    adj_mat[i,j] = adj_mat[j,i] = 1\n",
    "    return adj_mat.toarray()\n",
    "\n",
    "def iris_w_obstacles(points, region_obstacles, old_regions = None, use_region_obstacles = True):\n",
    "    if N>1:\n",
    "        #+ region_obstacles\n",
    "        obstacles = [r for r in world.obstacles]\n",
    "        if use_region_obstacles:\n",
    "            obstacles += region_obstacles\n",
    "        regions, _, is_full = generate_regions_multi_threading(points, obstacles, world.iris_domain, estimate_coverage, coverage_threshold=1-eps, old_regs = old_regions)\n",
    "    else:\n",
    "        #if N=1 coverage estimate happens at every step\n",
    "        obstacles = [r for r in world.obstacles]\n",
    "        if use_region_obstacles:\n",
    "            obstacles += region_obstacles\n",
    "        regions, _, _ = generate_regions_multi_threading(points, obstacles, world.iris_domain, estimate_coverage, coverage_threshold=1-eps, old_regs=old_regions)\n",
    "        is_full = 1-eps <= estimate_coverage(old_regions+regions)\n",
    "    return regions, is_full"
   ]
  },
  {
   "cell_type": "code",
   "execution_count": 22,
   "id": "c104ce7a",
   "metadata": {},
   "outputs": [
    {
     "name": "stdout",
     "output_type": "stream",
     "text": [
      "logdir created\n",
      "[00:24:07] [VisSeeder] GuardInsertion attempts M: 13\n",
      "[00:24:07] [VisSeeder] 0.95 probability that unseen region is less than 20.0 '%' of Cfree \n"
     ]
    },
    {
     "name": "stderr",
     "output_type": "stream",
     "text": [
      "100%|██████████| 1/1 [00:00<00:00, 25115.59it/s]"
     ]
    },
    {
     "name": "stdout",
     "output_type": "stream",
     "text": [
      "[00:24:07] [VisSeeder] Found  1  hidden points\n",
      "[00:24:07]  1 / 1\n"
     ]
    },
    {
     "name": "stderr",
     "output_type": "stream",
     "text": [
      "\n",
      "100%|██████████| 1/1 [00:00<00:00, 23563.51it/s]\n"
     ]
    },
    {
     "name": "stdout",
     "output_type": "stream",
     "text": [
      "[00:24:17] [VisSeeder] Found  1  hidden points\n",
      "[00:24:17]  1 / 1\n"
     ]
    },
    {
     "name": "stderr",
     "output_type": "stream",
     "text": [
      "100%|██████████| 1/1 [00:00<00:00, 26715.31it/s]\n"
     ]
    },
    {
     "name": "stdout",
     "output_type": "stream",
     "text": [
      "[00:24:35] [VisSeeder] Found  1  hidden points\n",
      "[00:24:35]  1 / 1\n"
     ]
    },
    {
     "name": "stderr",
     "output_type": "stream",
     "text": [
      "100%|██████████| 1/1 [00:00<00:00, 26051.58it/s]\n"
     ]
    },
    {
     "name": "stdout",
     "output_type": "stream",
     "text": [
      "[00:24:46] [VisSeeder] Found  1  hidden points\n",
      "[00:24:46]  1 / 1\n"
     ]
    },
    {
     "name": "stderr",
     "output_type": "stream",
     "text": [
      "100%|██████████| 1/1 [00:00<00:00, 27413.75it/s]\n"
     ]
    },
    {
     "name": "stdout",
     "output_type": "stream",
     "text": [
      "[00:24:57] [VisSeeder] Found  1  hidden points\n",
      "[00:24:57]  1 / 1\n"
     ]
    },
    {
     "name": "stderr",
     "output_type": "stream",
     "text": [
      "100%|██████████| 1/1 [00:00<00:00, 29959.31it/s]\n"
     ]
    },
    {
     "name": "stdout",
     "output_type": "stream",
     "text": [
      "[00:25:09] [VisSeeder] Found  1  hidden points\n",
      "[00:25:09]  1 / 1\n"
     ]
    },
    {
     "name": "stderr",
     "output_type": "stream",
     "text": [
      "100%|██████████| 1/1 [00:00<00:00, 27776.85it/s]\n"
     ]
    },
    {
     "name": "stdout",
     "output_type": "stream",
     "text": [
      "[00:25:22] [VisSeeder] Found  1  hidden points\n",
      "[00:25:22]  1 / 1\n"
     ]
    },
    {
     "name": "stderr",
     "output_type": "stream",
     "text": [
      "100%|██████████| 1/1 [00:00<00:00, 30615.36it/s]\n"
     ]
    },
    {
     "name": "stdout",
     "output_type": "stream",
     "text": [
      "[00:25:33] [VisSeeder] Found  1  hidden points\n",
      "[00:25:33]  1 / 1\n"
     ]
    },
    {
     "name": "stderr",
     "output_type": "stream",
     "text": [
      "100%|██████████| 1/1 [00:00<00:00, 30840.47it/s]\n"
     ]
    },
    {
     "name": "stdout",
     "output_type": "stream",
     "text": [
      "[00:25:49] [VisSeeder] Found  1  hidden points\n",
      "[00:25:49]  1 / 1\n"
     ]
    },
    {
     "name": "stderr",
     "output_type": "stream",
     "text": [
      "100%|██████████| 1/1 [00:00<00:00, 31775.03it/s]\n"
     ]
    },
    {
     "name": "stdout",
     "output_type": "stream",
     "text": [
      "[00:26:06] [VisSeeder] Found  1  hidden points\n",
      "[00:26:06]  1 / 1\n"
     ]
    },
    {
     "name": "stderr",
     "output_type": "stream",
     "text": [
      "100%|██████████| 1/1 [00:00<00:00, 31300.78it/s]\n"
     ]
    },
    {
     "name": "stdout",
     "output_type": "stream",
     "text": [
      "[00:26:17] [VisSeeder] Found  1  hidden points\n",
      "[00:26:17]  1 / 1\n"
     ]
    },
    {
     "name": "stderr",
     "output_type": "stream",
     "text": [
      "100%|██████████| 1/1 [00:00<00:00, 31068.92it/s]\n"
     ]
    },
    {
     "name": "stdout",
     "output_type": "stream",
     "text": [
      "[00:26:28] [VisSeeder] Found  1  hidden points\n",
      "[00:26:28]  1 / 1\n"
     ]
    },
    {
     "name": "stderr",
     "output_type": "stream",
     "text": [
      "100%|██████████| 1/1 [00:00<00:00, 30840.47it/s]\n"
     ]
    },
    {
     "name": "stdout",
     "output_type": "stream",
     "text": [
      "[00:26:36] [VisSeeder] Found  1  hidden points\n",
      "[00:26:36]  1 / 1\n"
     ]
    },
    {
     "name": "stderr",
     "output_type": "stream",
     "text": [
      "100%|██████████| 1/1 [00:00<00:00, 24385.49it/s]\n"
     ]
    },
    {
     "name": "stdout",
     "output_type": "stream",
     "text": [
      "[00:26:50] [VisSeeder] Found  1  hidden points\n",
      "[00:26:50]  1 / 1\n"
     ]
    },
    {
     "name": "stderr",
     "output_type": "stream",
     "text": [
      "100%|██████████| 1/1 [00:00<00:00, 26715.31it/s]\n"
     ]
    },
    {
     "name": "stdout",
     "output_type": "stream",
     "text": [
      "[00:27:07] [VisSeeder] Found  1  hidden points\n",
      "[00:27:07]  1 / 1\n"
     ]
    },
    {
     "name": "stderr",
     "output_type": "stream",
     "text": [
      "100%|██████████| 1/1 [00:00<00:00, 31068.92it/s]\n"
     ]
    },
    {
     "name": "stdout",
     "output_type": "stream",
     "text": [
      "[00:27:21] [VisSeeder] Found  1  hidden points\n",
      "[00:27:21]  1 / 1\n"
     ]
    },
    {
     "name": "stderr",
     "output_type": "stream",
     "text": [
      "100%|██████████| 1/1 [00:00<00:00, 30840.47it/s]\n"
     ]
    },
    {
     "name": "stdout",
     "output_type": "stream",
     "text": [
      "[00:27:38] [VisSeeder] Found  1  hidden points\n",
      "[00:27:38]  1 / 1\n"
     ]
    },
    {
     "name": "stderr",
     "output_type": "stream",
     "text": [
      "100%|██████████| 1/1 [00:00<00:00, 31068.92it/s]\n"
     ]
    },
    {
     "name": "stdout",
     "output_type": "stream",
     "text": [
      "[00:27:54] [VisSeeder] Found  1  hidden points\n",
      "[00:27:54]  1 / 1\n"
     ]
    },
    {
     "name": "stderr",
     "output_type": "stream",
     "text": [
      "100%|██████████| 1/1 [00:00<00:00, 29330.80it/s]\n"
     ]
    },
    {
     "name": "stdout",
     "output_type": "stream",
     "text": [
      "[00:28:03] [VisSeeder] Found  1  hidden points\n",
      "[00:28:03]  1 / 1\n"
     ]
    },
    {
     "name": "stderr",
     "output_type": "stream",
     "text": [
      "100%|██████████| 1/1 [00:00<00:00, 31068.92it/s]\n"
     ]
    },
    {
     "name": "stdout",
     "output_type": "stream",
     "text": [
      "[00:28:17] [VisSeeder] Found  1  hidden points\n",
      "[00:28:17]  1 / 1\n"
     ]
    },
    {
     "name": "stderr",
     "output_type": "stream",
     "text": [
      "100%|██████████| 1/1 [00:00<00:00, 31068.92it/s]\n"
     ]
    },
    {
     "name": "stdout",
     "output_type": "stream",
     "text": [
      "[00:28:35] [VisSeeder] Found  1  hidden points\n",
      "[00:28:35]  1 / 1\n"
     ]
    },
    {
     "name": "stderr",
     "output_type": "stream",
     "text": [
      "100%|██████████| 1/1 [00:00<00:00, 30174.85it/s]\n"
     ]
    },
    {
     "name": "stdout",
     "output_type": "stream",
     "text": [
      "[00:28:46] [VisSeeder] Found  1  hidden points\n",
      "[00:28:46]  1 / 1\n"
     ]
    },
    {
     "name": "stderr",
     "output_type": "stream",
     "text": [
      "100%|██████████| 1/1 [00:00<00:00, 33554.43it/s]\n"
     ]
    },
    {
     "name": "stdout",
     "output_type": "stream",
     "text": [
      "[00:29:01] [VisSeeder] Found  1  hidden points\n",
      "[00:29:01]  1 / 1\n"
     ]
    },
    {
     "name": "stderr",
     "output_type": "stream",
     "text": [
      "100%|██████████| 1/1 [00:00<00:00, 30615.36it/s]\n"
     ]
    },
    {
     "name": "stdout",
     "output_type": "stream",
     "text": [
      "[00:29:10] [VisSeeder] Found  1  hidden points\n",
      "[00:29:10]  1 / 1\n"
     ]
    },
    {
     "name": "stderr",
     "output_type": "stream",
     "text": [
      "100%|██████████| 1/1 [00:00<00:00, 31300.78it/s]\n"
     ]
    },
    {
     "name": "stdout",
     "output_type": "stream",
     "text": [
      "[00:29:21] [VisSeeder] Found  1  hidden points\n",
      "[00:29:21]  1 / 1\n"
     ]
    },
    {
     "name": "stderr",
     "output_type": "stream",
     "text": [
      "100%|██████████| 1/1 [00:00<00:00, 32017.59it/s]\n"
     ]
    },
    {
     "name": "stdout",
     "output_type": "stream",
     "text": [
      "[00:29:36] [VisSeeder] Found  1  hidden points\n",
      "[00:29:36]  1 / 1\n"
     ]
    },
    {
     "name": "stderr",
     "output_type": "stream",
     "text": [
      "100%|██████████| 1/1 [00:00<00:00, 31775.03it/s]\n"
     ]
    },
    {
     "name": "stdout",
     "output_type": "stream",
     "text": [
      "[00:29:54] [VisSeeder] Found  1  hidden points\n",
      "[00:29:54]  1 / 1\n"
     ]
    },
    {
     "name": "stderr",
     "output_type": "stream",
     "text": [
      "100%|██████████| 1/1 [00:00<00:00, 31300.78it/s]\n"
     ]
    },
    {
     "name": "stdout",
     "output_type": "stream",
     "text": [
      "[00:30:09] [VisSeeder] Found  1  hidden points\n",
      "[00:30:09]  1 / 1\n"
     ]
    },
    {
     "name": "stderr",
     "output_type": "stream",
     "text": [
      "100%|██████████| 1/1 [00:00<00:00, 32513.98it/s]\n"
     ]
    },
    {
     "name": "stdout",
     "output_type": "stream",
     "text": [
      "[00:30:21] [VisSeeder] Found  1  hidden points\n",
      "[00:30:21]  1 / 1\n"
     ]
    },
    {
     "name": "stderr",
     "output_type": "stream",
     "text": [
      "100%|██████████| 1/1 [00:00<00:00, 31068.92it/s]\n"
     ]
    },
    {
     "name": "stdout",
     "output_type": "stream",
     "text": [
      "[00:30:36] [VisSeeder] Found  1  hidden points\n",
      "[00:30:36]  1 / 1\n"
     ]
    },
    {
     "name": "stderr",
     "output_type": "stream",
     "text": [
      "100%|██████████| 1/1 [00:00<00:00, 30393.51it/s]\n"
     ]
    },
    {
     "name": "stdout",
     "output_type": "stream",
     "text": [
      "[00:30:45] [VisSeeder] Found  1  hidden points\n",
      "[00:30:45]  1 / 1\n"
     ]
    },
    {
     "name": "stderr",
     "output_type": "stream",
     "text": [
      "100%|██████████| 1/1 [00:00<00:00, 31536.12it/s]\n"
     ]
    },
    {
     "name": "stdout",
     "output_type": "stream",
     "text": [
      "[00:30:58] [VisSeeder] Found  1  hidden points\n",
      "[00:30:58]  1 / 1\n"
     ]
    },
    {
     "name": "stderr",
     "output_type": "stream",
     "text": [
      "100%|██████████| 1/1 [00:00<00:00, 31068.92it/s]\n"
     ]
    },
    {
     "name": "stdout",
     "output_type": "stream",
     "text": [
      "[00:31:10] [VisSeeder] Found  1  hidden points\n",
      "[00:31:10]  1 / 1\n"
     ]
    },
    {
     "name": "stderr",
     "output_type": "stream",
     "text": [
      "100%|██████████| 1/1 [00:00<00:00, 28149.69it/s]\n"
     ]
    },
    {
     "name": "stdout",
     "output_type": "stream",
     "text": [
      "[00:31:22] [VisSeeder] Found  1  hidden points\n",
      "[00:31:22]  1 / 1\n"
     ]
    },
    {
     "name": "stderr",
     "output_type": "stream",
     "text": [
      "100%|██████████| 1/1 [00:00<00:00, 31536.12it/s]\n"
     ]
    },
    {
     "name": "stdout",
     "output_type": "stream",
     "text": [
      "[00:31:34] [VisSeeder] Found  1  hidden points\n",
      "[00:31:34]  1 / 1\n"
     ]
    },
    {
     "name": "stderr",
     "output_type": "stream",
     "text": [
      "100%|██████████| 1/1 [00:00<00:00, 32017.59it/s]\n"
     ]
    },
    {
     "name": "stdout",
     "output_type": "stream",
     "text": [
      "[00:31:44] [VisSeeder] Found  1  hidden points\n",
      "[00:31:44]  1 / 1\n"
     ]
    },
    {
     "name": "stderr",
     "output_type": "stream",
     "text": [
      "100%|██████████| 1/1 [00:00<00:00, 31068.92it/s]\n"
     ]
    },
    {
     "name": "stdout",
     "output_type": "stream",
     "text": [
      "[00:32:02] [VisSeeder] Found  1  hidden points\n",
      "[00:32:02]  1 / 1\n"
     ]
    },
    {
     "name": "stderr",
     "output_type": "stream",
     "text": [
      "100%|██████████| 1/1 [00:00<00:00, 31300.78it/s]\n"
     ]
    },
    {
     "name": "stdout",
     "output_type": "stream",
     "text": [
      "[00:32:14] [VisSeeder] Found  1  hidden points\n",
      "[00:32:14]  1 / 1\n"
     ]
    },
    {
     "name": "stderr",
     "output_type": "stream",
     "text": [
      "100%|██████████| 1/1 [00:00<00:00, 32263.88it/s]\n"
     ]
    },
    {
     "name": "stdout",
     "output_type": "stream",
     "text": [
      "[00:32:29] [VisSeeder] Found  1  hidden points\n",
      "[00:32:29]  1 / 1\n"
     ]
    },
    {
     "name": "stderr",
     "output_type": "stream",
     "text": [
      "100%|██████████| 1/1 [00:00<00:00, 30615.36it/s]\n"
     ]
    },
    {
     "name": "stdout",
     "output_type": "stream",
     "text": [
      "[00:32:44] [VisSeeder] Found  1  hidden points\n",
      "[00:32:44]  1 / 1\n"
     ]
    },
    {
     "name": "stderr",
     "output_type": "stream",
     "text": [
      "100%|██████████| 1/1 [00:00<00:00, 24672.38it/s]\n"
     ]
    },
    {
     "name": "stdout",
     "output_type": "stream",
     "text": [
      "[00:32:57] [VisSeeder] Found  1  hidden points\n",
      "[00:32:57]  1 / 1\n"
     ]
    },
    {
     "name": "stderr",
     "output_type": "stream",
     "text": [
      "100%|██████████| 1/1 [00:00<00:00, 31068.92it/s]\n"
     ]
    },
    {
     "name": "stdout",
     "output_type": "stream",
     "text": [
      "[00:33:06] [VisSeeder] Found  1  hidden points\n",
      "[00:33:06]  1 / 1\n"
     ]
    },
    {
     "name": "stderr",
     "output_type": "stream",
     "text": [
      "100%|██████████| 1/1 [00:00<00:00, 31775.03it/s]\n"
     ]
    },
    {
     "name": "stdout",
     "output_type": "stream",
     "text": [
      "[00:33:16] [VisSeeder] Found  1  hidden points\n",
      "[00:33:16]  1 / 1\n"
     ]
    },
    {
     "name": "stderr",
     "output_type": "stream",
     "text": [
      "100%|██████████| 1/1 [00:00<00:00, 30174.85it/s]\n"
     ]
    },
    {
     "name": "stdout",
     "output_type": "stream",
     "text": [
      "[00:33:26] [VisSeeder] Found  1  hidden points\n",
      "[00:33:26]  1 / 1\n"
     ]
    },
    {
     "name": "stderr",
     "output_type": "stream",
     "text": [
      "100%|██████████| 1/1 [00:00<00:00, 31775.03it/s]\n"
     ]
    },
    {
     "name": "stdout",
     "output_type": "stream",
     "text": [
      "[00:33:35] [VisSeeder] Found  1  hidden points\n",
      "[00:33:35]  1 / 1\n"
     ]
    },
    {
     "name": "stderr",
     "output_type": "stream",
     "text": [
      "100%|██████████| 1/1 [00:00<00:00, 30840.47it/s]\n"
     ]
    },
    {
     "name": "stdout",
     "output_type": "stream",
     "text": [
      "[00:33:51] [VisSeeder] Found  1  hidden points\n",
      "[00:33:51]  1 / 1\n"
     ]
    },
    {
     "name": "stderr",
     "output_type": "stream",
     "text": [
      "100%|██████████| 1/1 [00:00<00:00, 31068.92it/s]\n"
     ]
    },
    {
     "name": "stdout",
     "output_type": "stream",
     "text": [
      "[00:34:09] [VisSeeder] Found  1  hidden points\n",
      "[00:34:09]  1 / 1\n"
     ]
    },
    {
     "name": "stderr",
     "output_type": "stream",
     "text": [
      "100%|██████████| 1/1 [00:00<00:00, 30174.85it/s]\n"
     ]
    },
    {
     "name": "stdout",
     "output_type": "stream",
     "text": [
      "[00:34:22] [VisSeeder] Found  1  hidden points\n",
      "[00:34:22]  1 / 1\n"
     ]
    },
    {
     "name": "stderr",
     "output_type": "stream",
     "text": [
      "100%|██████████| 1/1 [00:00<00:00, 30174.85it/s]\n"
     ]
    },
    {
     "name": "stdout",
     "output_type": "stream",
     "text": [
      "[00:34:35] [VisSeeder] Found  1  hidden points\n",
      "[00:34:35]  1 / 1\n"
     ]
    },
    {
     "name": "stderr",
     "output_type": "stream",
     "text": [
      "100%|██████████| 1/1 [00:00<00:00, 29746.84it/s]\n"
     ]
    },
    {
     "name": "stdout",
     "output_type": "stream",
     "text": [
      "[00:34:51] [VisSeeder] Found  1  hidden points\n",
      "[00:34:51]  1 / 1\n"
     ]
    },
    {
     "name": "stderr",
     "output_type": "stream",
     "text": [
      "100%|██████████| 1/1 [00:00<00:00, 31775.03it/s]\n"
     ]
    },
    {
     "name": "stdout",
     "output_type": "stream",
     "text": [
      "[00:35:07] [VisSeeder] Found  1  hidden points\n",
      "[00:35:07]  1 / 1\n"
     ]
    },
    {
     "name": "stderr",
     "output_type": "stream",
     "text": [
      "100%|██████████| 1/1 [00:00<00:00, 32017.59it/s]\n"
     ]
    },
    {
     "name": "stdout",
     "output_type": "stream",
     "text": [
      "[00:35:20] [VisSeeder] Found  1  hidden points\n",
      "[00:35:20]  1 / 1\n"
     ]
    },
    {
     "name": "stderr",
     "output_type": "stream",
     "text": [
      "100%|██████████| 1/1 [00:00<00:00, 31775.03it/s]\n"
     ]
    },
    {
     "name": "stdout",
     "output_type": "stream",
     "text": [
      "[00:35:29] [VisSeeder] Found  1  hidden points\n",
      "[00:35:29]  1 / 1\n"
     ]
    },
    {
     "name": "stderr",
     "output_type": "stream",
     "text": [
      "100%|██████████| 1/1 [00:00<00:00, 30615.36it/s]\n"
     ]
    },
    {
     "name": "stdout",
     "output_type": "stream",
     "text": [
      "[00:35:42] [VisSeeder] Found  1  hidden points\n",
      "[00:35:42]  1 / 1\n"
     ]
    },
    {
     "name": "stderr",
     "output_type": "stream",
     "text": [
      "100%|██████████| 1/1 [00:00<00:00, 30615.36it/s]\n"
     ]
    },
    {
     "name": "stdout",
     "output_type": "stream",
     "text": [
      "[00:35:55] [VisSeeder] Found  1  hidden points\n",
      "[00:35:55]  1 / 1\n"
     ]
    },
    {
     "name": "stderr",
     "output_type": "stream",
     "text": [
      "100%|██████████| 1/1 [00:00<00:00, 30393.51it/s]\n"
     ]
    },
    {
     "name": "stdout",
     "output_type": "stream",
     "text": [
      "[00:36:11] [VisSeeder] Found  1  hidden points\n",
      "[00:36:11]  1 / 1\n"
     ]
    },
    {
     "name": "stderr",
     "output_type": "stream",
     "text": [
      "100%|██████████| 1/1 [00:00<00:00, 28339.89it/s]\n"
     ]
    },
    {
     "name": "stdout",
     "output_type": "stream",
     "text": [
      "[00:36:24] [VisSeeder] Found  1  hidden points\n",
      "[00:36:24]  1 / 1\n"
     ]
    },
    {
     "name": "stderr",
     "output_type": "stream",
     "text": [
      "100%|██████████| 1/1 [00:00<00:00, 32017.59it/s]\n"
     ]
    },
    {
     "name": "stdout",
     "output_type": "stream",
     "text": [
      "[00:36:40] [VisSeeder] Found  1  hidden points\n",
      "[00:36:40]  1 / 1\n"
     ]
    },
    {
     "name": "stderr",
     "output_type": "stream",
     "text": [
      "100%|██████████| 1/1 [00:00<00:00, 31536.12it/s]\n"
     ]
    },
    {
     "name": "stdout",
     "output_type": "stream",
     "text": [
      "[00:36:53] [VisSeeder] Found  1  hidden points\n",
      "[00:36:53]  1 / 1\n"
     ]
    },
    {
     "name": "stderr",
     "output_type": "stream",
     "text": [
      "100%|██████████| 1/1 [00:00<00:00, 31775.03it/s]\n"
     ]
    },
    {
     "name": "stdout",
     "output_type": "stream",
     "text": [
      "[00:37:09] [VisSeeder] Found  1  hidden points\n",
      "[00:37:09]  1 / 1\n"
     ]
    },
    {
     "name": "stderr",
     "output_type": "stream",
     "text": [
      "100%|██████████| 1/1 [00:00<00:00, 30393.51it/s]\n"
     ]
    },
    {
     "name": "stdout",
     "output_type": "stream",
     "text": [
      "[00:37:25] [VisSeeder] Found  1  hidden points\n",
      "[00:37:25]  1 / 1\n"
     ]
    },
    {
     "name": "stderr",
     "output_type": "stream",
     "text": [
      "100%|██████████| 1/1 [00:00<00:00, 32017.59it/s]\n"
     ]
    },
    {
     "name": "stdout",
     "output_type": "stream",
     "text": [
      "[00:37:35] [VisSeeder] Found  1  hidden points\n",
      "[00:37:35]  1 / 1\n"
     ]
    },
    {
     "name": "stderr",
     "output_type": "stream",
     "text": [
      "100%|██████████| 1/1 [00:00<00:00, 31300.78it/s]\n"
     ]
    },
    {
     "name": "stdout",
     "output_type": "stream",
     "text": [
      "[00:37:55] [VisSeeder] Found  1  hidden points\n",
      "[00:37:55]  1 / 1\n"
     ]
    },
    {
     "name": "stderr",
     "output_type": "stream",
     "text": [
      "100%|██████████| 1/1 [00:00<00:00, 29746.84it/s]\n"
     ]
    },
    {
     "name": "stdout",
     "output_type": "stream",
     "text": [
      "[00:38:11] [VisSeeder] Found  1  hidden points\n",
      "[00:38:11]  1 / 1\n"
     ]
    },
    {
     "name": "stderr",
     "output_type": "stream",
     "text": [
      "100%|██████████| 1/1 [00:00<00:00, 30393.51it/s]\n"
     ]
    },
    {
     "name": "stdout",
     "output_type": "stream",
     "text": [
      "[00:38:30] [VisSeeder] Found  1  hidden points\n",
      "[00:38:30]  1 / 1\n"
     ]
    },
    {
     "name": "stderr",
     "output_type": "stream",
     "text": [
      "100%|██████████| 1/1 [00:00<00:00, 29537.35it/s]\n"
     ]
    },
    {
     "name": "stdout",
     "output_type": "stream",
     "text": [
      "[00:38:43] [VisSeeder] Found  1  hidden points\n",
      "[00:38:43]  1 / 1\n"
     ]
    },
    {
     "name": "stderr",
     "output_type": "stream",
     "text": [
      "100%|██████████| 1/1 [00:00<00:00, 30840.47it/s]\n"
     ]
    },
    {
     "name": "stdout",
     "output_type": "stream",
     "text": [
      "[00:38:53] [VisSeeder] Found  1  hidden points\n",
      "[00:38:53]  1 / 1\n"
     ]
    },
    {
     "name": "stderr",
     "output_type": "stream",
     "text": [
      "100%|██████████| 1/1 [00:00<00:00, 29537.35it/s]\n"
     ]
    },
    {
     "name": "stdout",
     "output_type": "stream",
     "text": [
      "[00:39:04] [VisSeeder] Found  1  hidden points\n",
      "[00:39:04]  1 / 1\n"
     ]
    },
    {
     "name": "stderr",
     "output_type": "stream",
     "text": [
      "100%|██████████| 1/1 [00:00<00:00, 32017.59it/s]\n"
     ]
    },
    {
     "name": "stdout",
     "output_type": "stream",
     "text": [
      "[00:39:17] [VisSeeder] Found  1  hidden points\n",
      "[00:39:17]  1 / 1\n"
     ]
    },
    {
     "name": "stderr",
     "output_type": "stream",
     "text": [
      "100%|██████████| 1/1 [00:00<00:00, 31536.12it/s]\n"
     ]
    },
    {
     "name": "stdout",
     "output_type": "stream",
     "text": [
      "[00:39:37] [VisSeeder] Found  1  hidden points\n",
      "[00:39:37]  1 / 1\n"
     ]
    },
    {
     "name": "stderr",
     "output_type": "stream",
     "text": [
      "100%|██████████| 1/1 [00:00<00:00, 31300.78it/s]\n"
     ]
    },
    {
     "name": "stdout",
     "output_type": "stream",
     "text": [
      "[00:39:57] [VisSeeder] Found  1  hidden points\n",
      "[00:39:57]  1 / 1\n"
     ]
    },
    {
     "name": "stderr",
     "output_type": "stream",
     "text": [
      "100%|██████████| 1/1 [00:00<00:00, 30615.36it/s]\n"
     ]
    },
    {
     "name": "stdout",
     "output_type": "stream",
     "text": [
      "[00:40:14] [VisSeeder] Found  1  hidden points\n",
      "[00:40:14]  1 / 1\n"
     ]
    },
    {
     "name": "stderr",
     "output_type": "stream",
     "text": [
      "100%|██████████| 1/1 [00:00<00:00, 31775.03it/s]\n"
     ]
    },
    {
     "name": "stdout",
     "output_type": "stream",
     "text": [
      "[00:40:24] [VisSeeder] Found  1  hidden points\n",
      "[00:40:24]  1 / 1\n"
     ]
    },
    {
     "name": "stderr",
     "output_type": "stream",
     "text": [
      "100%|██████████| 1/1 [00:00<00:00, 27962.03it/s]\n"
     ]
    },
    {
     "name": "stdout",
     "output_type": "stream",
     "text": [
      "[00:40:37] [VisSeeder] Found  1  hidden points\n",
      "[00:40:37]  1 / 1\n"
     ]
    },
    {
     "name": "stderr",
     "output_type": "stream",
     "text": [
      "100%|██████████| 1/1 [00:00<00:00, 32017.59it/s]\n"
     ]
    },
    {
     "name": "stdout",
     "output_type": "stream",
     "text": [
      "[00:40:48] [VisSeeder] Found  1  hidden points\n",
      "[00:40:48]  1 / 1\n"
     ]
    },
    {
     "name": "stderr",
     "output_type": "stream",
     "text": [
      "100%|██████████| 1/1 [00:00<00:00, 30615.36it/s]\n"
     ]
    },
    {
     "name": "stdout",
     "output_type": "stream",
     "text": [
      "[00:41:05] [VisSeeder] Found  1  hidden points\n",
      "[00:41:05]  1 / 1\n"
     ]
    },
    {
     "name": "stderr",
     "output_type": "stream",
     "text": [
      "100%|██████████| 1/1 [00:00<00:00, 31300.78it/s]\n"
     ]
    },
    {
     "name": "stdout",
     "output_type": "stream",
     "text": [
      "[00:41:22] [VisSeeder] Found  1  hidden points\n",
      "[00:41:22]  1 / 1\n"
     ]
    },
    {
     "name": "stderr",
     "output_type": "stream",
     "text": [
      "100%|██████████| 1/1 [00:00<00:00, 29959.31it/s]\n"
     ]
    },
    {
     "name": "stdout",
     "output_type": "stream",
     "text": [
      "[00:41:32] [VisSeeder] Found  1  hidden points\n",
      "[00:41:32]  1 / 1\n"
     ]
    },
    {
     "name": "stderr",
     "output_type": "stream",
     "text": [
      "100%|██████████| 1/1 [00:00<00:00, 31068.92it/s]\n"
     ]
    },
    {
     "name": "stdout",
     "output_type": "stream",
     "text": [
      "[00:41:46] [VisSeeder] Found  1  hidden points\n",
      "[00:41:46]  1 / 1\n"
     ]
    },
    {
     "name": "stderr",
     "output_type": "stream",
     "text": [
      "100%|██████████| 1/1 [00:00<00:00, 30615.36it/s]\n"
     ]
    },
    {
     "name": "stdout",
     "output_type": "stream",
     "text": [
      "[00:42:03] [VisSeeder] Found  1  hidden points\n",
      "[00:42:03]  1 / 1\n"
     ]
    },
    {
     "name": "stderr",
     "output_type": "stream",
     "text": [
      "100%|██████████| 1/1 [00:00<00:00, 31536.12it/s]\n"
     ]
    },
    {
     "name": "stdout",
     "output_type": "stream",
     "text": [
      "[00:42:17] [VisSeeder] Found  1  hidden points\n",
      "[00:42:17]  1 / 1\n"
     ]
    },
    {
     "name": "stderr",
     "output_type": "stream",
     "text": [
      "100%|██████████| 1/1 [00:00<00:00, 30393.51it/s]\n"
     ]
    },
    {
     "name": "stdout",
     "output_type": "stream",
     "text": [
      "[00:42:31] [VisSeeder] Found  1  hidden points\n",
      "[00:42:31]  1 / 1\n"
     ]
    },
    {
     "name": "stderr",
     "output_type": "stream",
     "text": [
      "100%|██████████| 1/1 [00:00<00:00, 30615.36it/s]\n"
     ]
    },
    {
     "name": "stdout",
     "output_type": "stream",
     "text": [
      "[00:42:42] [VisSeeder] Found  1  hidden points\n",
      "[00:42:42]  1 / 1\n"
     ]
    },
    {
     "name": "stderr",
     "output_type": "stream",
     "text": [
      "100%|██████████| 1/1 [00:00<00:00, 31300.78it/s]\n"
     ]
    },
    {
     "name": "stdout",
     "output_type": "stream",
     "text": [
      "[00:42:56] [VisSeeder] Found  1  hidden points\n",
      "[00:42:56]  1 / 1\n"
     ]
    },
    {
     "name": "stderr",
     "output_type": "stream",
     "text": [
      "100%|██████████| 1/1 [00:00<00:00, 31536.12it/s]\n"
     ]
    },
    {
     "name": "stdout",
     "output_type": "stream",
     "text": [
      "[00:43:10] [VisSeeder] Found  1  hidden points\n",
      "[00:43:10]  1 / 1\n"
     ]
    },
    {
     "name": "stderr",
     "output_type": "stream",
     "text": [
      "100%|██████████| 1/1 [00:00<00:00, 30393.51it/s]\n"
     ]
    },
    {
     "name": "stdout",
     "output_type": "stream",
     "text": [
      "[00:43:31] [VisSeeder] Found  1  hidden points\n",
      "[00:43:31]  1 / 1\n"
     ]
    },
    {
     "name": "stderr",
     "output_type": "stream",
     "text": [
      "100%|██████████| 1/1 [00:00<00:00, 30393.51it/s]\n"
     ]
    },
    {
     "name": "stdout",
     "output_type": "stream",
     "text": [
      "[00:43:51] [VisSeeder] Found  1  hidden points\n",
      "[00:43:51]  1 / 1\n"
     ]
    },
    {
     "name": "stderr",
     "output_type": "stream",
     "text": [
      "100%|██████████| 1/1 [00:00<00:00, 30615.36it/s]\n"
     ]
    },
    {
     "name": "stdout",
     "output_type": "stream",
     "text": [
      "[00:44:09] [VisSeeder] Found  1  hidden points\n",
      "[00:44:09]  1 / 1\n"
     ]
    },
    {
     "name": "stderr",
     "output_type": "stream",
     "text": [
      "100%|██████████| 1/1 [00:00<00:00, 29746.84it/s]\n"
     ]
    },
    {
     "name": "stdout",
     "output_type": "stream",
     "text": [
      "[00:44:20] [VisSeeder] Found  1  hidden points\n",
      "[00:44:20]  1 / 1\n"
     ]
    },
    {
     "name": "stderr",
     "output_type": "stream",
     "text": [
      "100%|██████████| 1/1 [00:00<00:00, 30393.51it/s]\n"
     ]
    },
    {
     "name": "stdout",
     "output_type": "stream",
     "text": [
      "[00:44:31] [VisSeeder] Found  1  hidden points\n",
      "[00:44:31]  1 / 1\n"
     ]
    },
    {
     "name": "stderr",
     "output_type": "stream",
     "text": [
      "100%|██████████| 1/1 [00:00<00:00, 30840.47it/s]\n"
     ]
    },
    {
     "name": "stdout",
     "output_type": "stream",
     "text": [
      "[00:44:45] [VisSeeder] Found  1  hidden points\n",
      "[00:44:45]  1 / 1\n"
     ]
    },
    {
     "name": "stderr",
     "output_type": "stream",
     "text": [
      "100%|██████████| 1/1 [00:00<00:00, 25575.02it/s]\n"
     ]
    },
    {
     "name": "stdout",
     "output_type": "stream",
     "text": [
      "[00:44:56] [VisSeeder] Found  1  hidden points\n",
      "[00:44:56]  1 / 1\n"
     ]
    },
    {
     "name": "stderr",
     "output_type": "stream",
     "text": [
      "100%|██████████| 1/1 [00:00<00:00, 30393.51it/s]\n"
     ]
    },
    {
     "name": "stdout",
     "output_type": "stream",
     "text": [
      "[00:45:07] [VisSeeder] Found  1  hidden points\n",
      "[00:45:07]  1 / 1\n"
     ]
    },
    {
     "name": "stderr",
     "output_type": "stream",
     "text": [
      "100%|██████████| 1/1 [00:00<00:00, 31536.12it/s]\n"
     ]
    },
    {
     "name": "stdout",
     "output_type": "stream",
     "text": [
      "[00:45:18] [VisSeeder] Found  1  hidden points\n",
      "[00:45:18]  1 / 1\n"
     ]
    },
    {
     "name": "stderr",
     "output_type": "stream",
     "text": [
      "100%|██████████| 1/1 [00:00<00:00, 31068.92it/s]\n"
     ]
    },
    {
     "name": "stdout",
     "output_type": "stream",
     "text": [
      "[00:45:30] [VisSeeder] Found  1  hidden points\n",
      "[00:45:30]  1 / 1\n"
     ]
    },
    {
     "name": "stderr",
     "output_type": "stream",
     "text": [
      "100%|██████████| 1/1 [00:00<00:00, 30840.47it/s]\n"
     ]
    },
    {
     "name": "stdout",
     "output_type": "stream",
     "text": [
      "[00:45:41] [VisSeeder] Found  1  hidden points\n",
      "[00:45:41]  1 / 1\n"
     ]
    },
    {
     "name": "stderr",
     "output_type": "stream",
     "text": [
      "100%|██████████| 1/1 [00:00<00:00, 31068.92it/s]\n"
     ]
    },
    {
     "name": "stdout",
     "output_type": "stream",
     "text": [
      "[00:45:52] [VisSeeder] Found  1  hidden points\n",
      "[00:45:52]  1 / 1\n"
     ]
    },
    {
     "name": "stderr",
     "output_type": "stream",
     "text": [
      "100%|██████████| 1/1 [00:00<00:00, 31068.92it/s]\n"
     ]
    },
    {
     "name": "stdout",
     "output_type": "stream",
     "text": [
      "[00:46:07] [VisSeeder] Found  1  hidden points\n",
      "[00:46:07]  1 / 1\n"
     ]
    },
    {
     "name": "stderr",
     "output_type": "stream",
     "text": [
      "100%|██████████| 1/1 [00:00<00:00, 32017.59it/s]\n"
     ]
    },
    {
     "name": "stdout",
     "output_type": "stream",
     "text": [
      "[00:46:18] [VisSeeder] Found  1  hidden points\n",
      "[00:46:18]  1 / 1\n"
     ]
    },
    {
     "name": "stderr",
     "output_type": "stream",
     "text": [
      "100%|██████████| 1/1 [00:00<00:00, 30393.51it/s]\n"
     ]
    },
    {
     "name": "stdout",
     "output_type": "stream",
     "text": [
      "[00:46:39] [VisSeeder] Found  1  hidden points\n",
      "[00:46:39]  1 / 1\n"
     ]
    },
    {
     "name": "stderr",
     "output_type": "stream",
     "text": [
      "100%|██████████| 1/1 [00:00<00:00, 31300.78it/s]\n"
     ]
    },
    {
     "name": "stdout",
     "output_type": "stream",
     "text": [
      "[00:46:57] [VisSeeder] Found  1  hidden points\n",
      "[00:46:57]  1 / 1\n"
     ]
    },
    {
     "name": "stderr",
     "output_type": "stream",
     "text": [
      "100%|██████████| 1/1 [00:00<00:00, 29959.31it/s]\n"
     ]
    },
    {
     "name": "stdout",
     "output_type": "stream",
     "text": [
      "[00:47:15] [VisSeeder] Found  1  hidden points\n",
      "[00:47:15]  1 / 1\n"
     ]
    },
    {
     "name": "stderr",
     "output_type": "stream",
     "text": [
      "100%|██████████| 1/1 [00:00<00:00, 32017.59it/s]\n"
     ]
    },
    {
     "name": "stdout",
     "output_type": "stream",
     "text": [
      "[00:47:30] [VisSeeder] Found  1  hidden points\n",
      "[00:47:30]  1 / 1\n"
     ]
    },
    {
     "name": "stderr",
     "output_type": "stream",
     "text": [
      "100%|██████████| 1/1 [00:00<00:00, 30840.47it/s]\n"
     ]
    },
    {
     "name": "stdout",
     "output_type": "stream",
     "text": [
      "[00:47:53] [VisSeeder] Found  1  hidden points\n",
      "[00:47:53]  1 / 1\n"
     ]
    },
    {
     "name": "stderr",
     "output_type": "stream",
     "text": [
      "100%|██████████| 1/1 [00:00<00:00, 25115.59it/s]\n"
     ]
    },
    {
     "name": "stdout",
     "output_type": "stream",
     "text": [
      "[00:48:11] [VisSeeder] Found  1  hidden points\n",
      "[00:48:11]  1 / 1\n"
     ]
    },
    {
     "name": "stderr",
     "output_type": "stream",
     "text": [
      "100%|██████████| 1/1 [00:00<00:00, 32017.59it/s]\n"
     ]
    },
    {
     "name": "stdout",
     "output_type": "stream",
     "text": [
      "[00:48:22] [VisSeeder] Found  1  hidden points\n",
      "[00:48:22]  1 / 1\n"
     ]
    },
    {
     "name": "stderr",
     "output_type": "stream",
     "text": [
      "100%|██████████| 1/1 [00:00<00:00, 31775.03it/s]\n"
     ]
    },
    {
     "name": "stdout",
     "output_type": "stream",
     "text": [
      "[00:48:34] [VisSeeder] Found  1  hidden points\n",
      "[00:48:34]  1 / 1\n"
     ]
    },
    {
     "name": "stderr",
     "output_type": "stream",
     "text": [
      "100%|██████████| 1/1 [00:00<00:00, 30615.36it/s]\n"
     ]
    },
    {
     "name": "stdout",
     "output_type": "stream",
     "text": [
      "[00:48:49] [VisSeeder] Found  1  hidden points\n",
      "[00:48:49]  1 / 1\n"
     ]
    },
    {
     "name": "stderr",
     "output_type": "stream",
     "text": [
      "100%|██████████| 1/1 [00:00<00:00, 30615.36it/s]\n"
     ]
    },
    {
     "name": "stdout",
     "output_type": "stream",
     "text": [
      "[00:49:00] [VisSeeder] Found  1  hidden points\n",
      "[00:49:00]  1 / 1\n"
     ]
    },
    {
     "name": "stderr",
     "output_type": "stream",
     "text": [
      "100%|██████████| 1/1 [00:00<00:00, 29330.80it/s]\n"
     ]
    },
    {
     "name": "stdout",
     "output_type": "stream",
     "text": [
      "[00:49:15] [VisSeeder] Found  1  hidden points\n",
      "[00:49:15]  1 / 1\n"
     ]
    },
    {
     "name": "stderr",
     "output_type": "stream",
     "text": [
      "100%|██████████| 1/1 [00:00<00:00, 30615.36it/s]\n"
     ]
    },
    {
     "name": "stdout",
     "output_type": "stream",
     "text": [
      "[00:49:34] [VisSeeder] Found  1  hidden points\n",
      "[00:49:34]  1 / 1\n"
     ]
    },
    {
     "name": "stderr",
     "output_type": "stream",
     "text": [
      "100%|██████████| 1/1 [00:00<00:00, 27413.75it/s]\n"
     ]
    },
    {
     "name": "stdout",
     "output_type": "stream",
     "text": [
      "[00:49:52] [VisSeeder] Found  1  hidden points\n",
      "[00:49:52]  1 / 1\n"
     ]
    },
    {
     "name": "stderr",
     "output_type": "stream",
     "text": [
      "100%|██████████| 1/1 [00:00<00:00, 31300.78it/s]\n"
     ]
    },
    {
     "name": "stdout",
     "output_type": "stream",
     "text": [
      "[00:50:08] [VisSeeder] Found  1  hidden points\n",
      "[00:50:08]  1 / 1\n"
     ]
    },
    {
     "name": "stderr",
     "output_type": "stream",
     "text": [
      "100%|██████████| 1/1 [00:00<00:00, 31068.92it/s]\n"
     ]
    },
    {
     "name": "stdout",
     "output_type": "stream",
     "text": [
      "[00:50:30] [VisSeeder] Found  1  hidden points\n",
      "[00:50:30]  1 / 1\n"
     ]
    },
    {
     "name": "stderr",
     "output_type": "stream",
     "text": [
      "100%|██████████| 1/1 [00:00<00:00, 29746.84it/s]\n"
     ]
    },
    {
     "name": "stdout",
     "output_type": "stream",
     "text": [
      "[00:50:41] [VisSeeder] Found  1  hidden points\n",
      "[00:50:41]  1 / 1\n"
     ]
    },
    {
     "name": "stderr",
     "output_type": "stream",
     "text": [
      "100%|██████████| 1/1 [00:00<00:00, 23045.63it/s]\n"
     ]
    },
    {
     "name": "stdout",
     "output_type": "stream",
     "text": [
      "[00:50:56] [VisSeeder] Found  1  hidden points\n",
      "[00:50:56]  1 / 1\n"
     ]
    },
    {
     "name": "stderr",
     "output_type": "stream",
     "text": [
      "100%|██████████| 1/1 [00:00<00:00, 25266.89it/s]\n"
     ]
    },
    {
     "name": "stdout",
     "output_type": "stream",
     "text": [
      "[00:51:12] [VisSeeder] Found  1  hidden points\n",
      "[00:51:12]  1 / 1\n"
     ]
    },
    {
     "name": "stderr",
     "output_type": "stream",
     "text": [
      "100%|██████████| 1/1 [00:00<00:00, 29746.84it/s]\n"
     ]
    },
    {
     "name": "stdout",
     "output_type": "stream",
     "text": [
      "[00:51:24] [VisSeeder] Found  1  hidden points\n",
      "[00:51:24]  1 / 1\n"
     ]
    },
    {
     "name": "stderr",
     "output_type": "stream",
     "text": [
      "100%|██████████| 1/1 [00:00<00:00, 30840.47it/s]\n"
     ]
    },
    {
     "name": "stdout",
     "output_type": "stream",
     "text": [
      "[00:51:39] [VisSeeder] Found  1  hidden points\n",
      "[00:51:39]  1 / 1\n"
     ]
    },
    {
     "name": "stderr",
     "output_type": "stream",
     "text": [
      "100%|██████████| 1/1 [00:00<00:00, 32017.59it/s]\n"
     ]
    },
    {
     "name": "stdout",
     "output_type": "stream",
     "text": [
      "[00:51:54] [VisSeeder] Found  1  hidden points\n",
      "[00:51:54]  1 / 1\n"
     ]
    },
    {
     "name": "stderr",
     "output_type": "stream",
     "text": [
      "100%|██████████| 1/1 [00:00<00:00, 30615.36it/s]\n"
     ]
    },
    {
     "name": "stdout",
     "output_type": "stream",
     "text": [
      "[00:52:17] [VisSeeder] Found  1  hidden points\n",
      "[00:52:17]  1 / 1\n"
     ]
    },
    {
     "name": "stderr",
     "output_type": "stream",
     "text": [
      "100%|██████████| 1/1 [00:00<00:00, 32263.88it/s]\n"
     ]
    },
    {
     "name": "stdout",
     "output_type": "stream",
     "text": [
      "[00:52:29] [VisSeeder] Found  1  hidden points\n",
      "[00:52:29]  1 / 1\n"
     ]
    },
    {
     "name": "stderr",
     "output_type": "stream",
     "text": [
      "100%|██████████| 1/1 [00:00<00:00, 31775.03it/s]\n"
     ]
    },
    {
     "name": "stdout",
     "output_type": "stream",
     "text": [
      "[00:52:41] [VisSeeder] Found  1  hidden points\n",
      "[00:52:41]  1 / 1\n"
     ]
    },
    {
     "name": "stderr",
     "output_type": "stream",
     "text": [
      "100%|██████████| 1/1 [00:00<00:00, 30840.47it/s]\n"
     ]
    },
    {
     "name": "stdout",
     "output_type": "stream",
     "text": [
      "[00:52:53] [VisSeeder] Found  1  hidden points\n",
      "[00:52:53]  1 / 1\n"
     ]
    },
    {
     "name": "stderr",
     "output_type": "stream",
     "text": [
      "100%|██████████| 1/1 [00:00<00:00, 30393.51it/s]\n"
     ]
    },
    {
     "name": "stdout",
     "output_type": "stream",
     "text": [
      "[00:53:04] [VisSeeder] Found  1  hidden points\n",
      "[00:53:04]  1 / 1\n"
     ]
    },
    {
     "name": "stderr",
     "output_type": "stream",
     "text": [
      "100%|██████████| 1/1 [00:00<00:00, 31300.78it/s]\n"
     ]
    },
    {
     "name": "stdout",
     "output_type": "stream",
     "text": [
      "[00:53:20] [VisSeeder] Found  1  hidden points\n",
      "[00:53:20]  1 / 1\n"
     ]
    },
    {
     "name": "stderr",
     "output_type": "stream",
     "text": [
      "100%|██████████| 1/1 [00:00<00:00, 31300.78it/s]\n"
     ]
    },
    {
     "name": "stdout",
     "output_type": "stream",
     "text": [
      "[00:53:43] [VisSeeder] Found  1  hidden points\n",
      "[00:53:43]  1 / 1\n"
     ]
    },
    {
     "name": "stderr",
     "output_type": "stream",
     "text": [
      "100%|██████████| 1/1 [00:00<00:00, 31536.12it/s]\n"
     ]
    },
    {
     "name": "stdout",
     "output_type": "stream",
     "text": [
      "[00:53:55] [VisSeeder] Found  1  hidden points\n",
      "[00:53:55]  1 / 1\n"
     ]
    },
    {
     "name": "stderr",
     "output_type": "stream",
     "text": [
      "100%|██████████| 1/1 [00:00<00:00, 31300.78it/s]\n"
     ]
    },
    {
     "name": "stdout",
     "output_type": "stream",
     "text": [
      "[00:54:11] [VisSeeder] Found  1  hidden points\n",
      "[00:54:11]  1 / 1\n"
     ]
    },
    {
     "name": "stderr",
     "output_type": "stream",
     "text": [
      "100%|██████████| 1/1 [00:00<00:00, 31775.03it/s]\n"
     ]
    },
    {
     "name": "stdout",
     "output_type": "stream",
     "text": [
      "[00:54:23] [VisSeeder] Found  1  hidden points\n",
      "[00:54:23]  1 / 1\n"
     ]
    },
    {
     "name": "stderr",
     "output_type": "stream",
     "text": [
      "100%|██████████| 1/1 [00:00<00:00, 30615.36it/s]\n"
     ]
    },
    {
     "name": "stdout",
     "output_type": "stream",
     "text": [
      "[00:54:35] [VisSeeder] Found  1  hidden points\n",
      "[00:54:35]  1 / 1\n"
     ]
    },
    {
     "name": "stderr",
     "output_type": "stream",
     "text": [
      "100%|██████████| 1/1 [00:00<00:00, 29537.35it/s]\n"
     ]
    },
    {
     "name": "stdout",
     "output_type": "stream",
     "text": [
      "[00:54:48] [VisSeeder] Found  1  hidden points\n",
      "[00:54:48]  1 / 1\n"
     ]
    },
    {
     "name": "stderr",
     "output_type": "stream",
     "text": [
      "100%|██████████| 1/1 [00:00<00:00, 29537.35it/s]\n"
     ]
    },
    {
     "name": "stdout",
     "output_type": "stream",
     "text": [
      "[00:55:11] [VisSeeder] Found  1  hidden points\n",
      "[00:55:11]  1 / 1\n"
     ]
    },
    {
     "name": "stderr",
     "output_type": "stream",
     "text": [
      "100%|██████████| 1/1 [00:00<00:00, 30615.36it/s]\n"
     ]
    },
    {
     "name": "stdout",
     "output_type": "stream",
     "text": [
      "[00:55:26] [VisSeeder] Found  1  hidden points\n",
      "[00:55:26]  1 / 1\n"
     ]
    },
    {
     "name": "stderr",
     "output_type": "stream",
     "text": [
      "100%|██████████| 1/1 [00:00<00:00, 30615.36it/s]\n"
     ]
    },
    {
     "name": "stdout",
     "output_type": "stream",
     "text": [
      "[00:55:50] [VisSeeder] Found  1  hidden points\n",
      "[00:55:50]  1 / 1\n"
     ]
    }
   ],
   "source": [
    "from vislogging import Logger3D\n",
    "from visibility_seeding import VisSeeder\n",
    "from region_generation import generate_regions_ellipses_multi_threading\n",
    "# # Capture the image\n",
    "# image_data = w.meshcat.StaticHtml()\n",
    "from time import strftime, gmtime\n",
    "N = 1\n",
    "logger = Logger3D(world, f\"village_naive_{village_side}_\"+strftime(\"%m_%d_%H_%M_%S_\", gmtime())+\"_\", seed, N, alpha, eps, estimate_coverage)\n",
    "VS = VisSeeder(N = N,\n",
    "            alpha = alpha,\n",
    "            eps = eps,\n",
    "            max_iterations = 300,\n",
    "            sample_cfree = sample_cfree_handle,\n",
    "            build_vgraph = vgraph_builder,\n",
    "            iris_w_obstacles = iris_w_obstacles,\n",
    "            verbose = True,\n",
    "            logger = logger\n",
    "            )\n",
    "\n",
    "regions = VS.run()"
   ]
  },
  {
   "cell_type": "code",
   "execution_count": 5,
   "id": "0e515974",
   "metadata": {},
   "outputs": [
    {
     "name": "stdout",
     "output_type": "stream",
     "text": [
      "logdir created\n",
      "[13:19:06] [VisCliqueDecomp] Attempting to cover 80.0 '%' of Cfree \n"
     ]
    },
    {
     "name": "stderr",
     "output_type": "stream",
     "text": [
      "  0%|          | 0/100 [00:00<?, ?it/s]"
     ]
    },
    {
     "name": "stderr",
     "output_type": "stream",
     "text": [
      "100%|██████████| 100/100 [00:27<00:00,  3.65it/s]\n"
     ]
    },
    {
     "name": "stdout",
     "output_type": "stream",
     "text": [
      "VERTEX CLIQUE COVERING PROBLEM (CCP) SOLVER\n",
      " version 0.2\n",
      " Finding clique coverings using our heuristic...\n",
      " GIS:\n",
      " Run 1:\n",
      " The algorithm found a an independent set of size 18.\n",
      " IG-GCC:\n",
      " Run 72:\n",
      " Time\\t\\tVCC\\tIS\n",
      " 0.000396\\t27\\t21\n",
      " 0.000415\\t26\\t22\n",
      " 0.000425\\t24\\t22\n",
      " 0.000511\\t23\\t22\n",
      "  [iterations: 3891203][independent set: 19]\n",
      " \n",
      " The algorithm needed 20 cliques.\n",
      " \n",
      " On average, it took 0 seconds and 0 iterations. Success rate: 0 / 1.\n",
      " Final results: IG-GCC: 20.00, BRE: 0.00, GIS: 18.00, RLS-IS: 19.00\n",
      " Approximation: 1.052632, discrepancy: 1\n",
      " tmp/vgraph.metis, 100, 1258, 71, 30.0001, 23\n",
      " BEGIN_OUTPUT_FOR_TABLES\n",
      " run_type=ReduVCC\n",
      " input_graph_vertices=100\n",
      " input_graph_edges=629\n",
      " reduced_graph_vertices=71\n",
      " reduced_graph_edges=636\n",
      " total_time_to_best=0.000519276\n",
      " time_to_best_without_unwind=0.000515223\n",
      " clique_cover_size=23\n",
      " verified_cover=passed\n",
      " optimal=unknown\n",
      " \n",
      "VERTEX CLIQUE COVERING PROBLEM (CCP) SOLVER\n",
      " version 0.2\n",
      " Finding clique coverings using our heuristic...\n",
      " GIS:\n",
      " Run 1:\n",
      " The algorithm found a an independent set of size 18.\n",
      " IG-GCC:\n",
      " Run 72:\n",
      " Time\\t\\tVCC\\tIS\n",
      " 0.000389\\t27\\t21\n",
      " 0.000405\\t26\\t22\n",
      " 0.000415\\t24\\t22\n",
      " 0.000502\\t23\\t22\n",
      "  [iterations: 3896321][independent set: 19]\n",
      " \n",
      " The algorithm needed 20 cliques.\n",
      " \n",
      " On average, it took 0 seconds and 0 iterations. Success rate: 0 / 1.\n",
      " Final results: IG-GCC: 20.00, BRE: 0.00, GIS: 18.00, RLS-IS: 19.00\n",
      " Approximation: 1.052632, discrepancy: 1\n",
      " tmp/vgraph.metis, 100, 1258, 71, 30.0001, 23\n",
      " BEGIN_OUTPUT_FOR_TABLES\n",
      " run_type=ReduVCC\n",
      " input_graph_vertices=100\n",
      " input_graph_edges=629\n",
      " reduced_graph_vertices=71\n",
      " reduced_graph_edges=636\n",
      " total_time_to_best=0.000507832\n",
      " time_to_best_without_unwind=0.000504017\n",
      " clique_cover_size=23\n",
      " verified_cover=passed\n",
      " optimal=unknown\n",
      " \n",
      "[13:20:34] [VisCliqueDecomp] Found  23  cliques\n",
      "[13:20:34]  1 / 1\n",
      "[13:20:43]  1 / 1\n",
      "Iris failed at  [20.74979408 12.22420885  1.93330692]\n",
      "[13:20:46]  1 / 1\n",
      "[13:20:55]  1 / 1\n",
      "[13:21:02]  1 / 1\n",
      "[13:21:08]  1 / 1\n",
      "Iris failed at  [ 4.13204268 23.50880383  1.76015863]\n",
      "[13:21:11]  1 / 1\n",
      "[13:21:20]  1 / 1\n",
      "[13:21:30]  1 / 1\n",
      "[13:21:39]  1 / 1\n",
      "[13:21:48]  1 / 1\n",
      "[13:21:57]  1 / 1\n",
      "Iris failed at  [11.54432382 23.76609341  0.96611153]\n"
     ]
    },
    {
     "name": "stderr",
     "output_type": "stream",
     "text": [
      "100%|██████████| 100/100 [00:26<00:00,  3.74it/s]\n"
     ]
    },
    {
     "name": "stdout",
     "output_type": "stream",
     "text": [
      "VERTEX CLIQUE COVERING PROBLEM (CCP) SOLVER\n",
      " version 0.2\n",
      " Finding clique coverings using our heuristic...\n",
      " GIS:\n",
      " Run 1:\n",
      " The algorithm found a an independent set of size 14.\n",
      " IG-GCC:\n",
      " Run 43:\n",
      " Time\\t\\tVCC\\tIS\n",
      " 0.000391\\t30\\t29\n",
      "  [iterations: 0][independent set: 15]\n",
      " \n",
      " The algorithm needed 16 cliques.\n",
      " \n",
      " On average, it took 0 seconds and 0 iterations. Success rate: 0 / 1.\n",
      " Final results: IG-GCC: 16.00, BRE: 0.00, GIS: 14.00, RLS-IS: 15.00\n",
      " Approximation: 1.066667, discrepancy: 1\n",
      " tmp/vgraph.metis, 100, 1140, 42, 0.000440836, 30\n",
      " BEGIN_OUTPUT_FOR_TABLES\n",
      " run_type=ReduVCC\n",
      " input_graph_vertices=100\n",
      " input_graph_edges=570\n",
      " reduced_graph_vertices=42\n",
      " reduced_graph_edges=356\n",
      " total_time_to_best=0.000397921\n",
      " time_to_best_without_unwind=0.000392914\n",
      " clique_cover_size=30\n",
      " verified_cover=passed\n",
      " optimal=unknown\n",
      " \n",
      "VERTEX CLIQUE COVERING PROBLEM (CCP) SOLVER\n",
      " version 0.2\n",
      " Finding clique coverings using our heuristic...\n",
      " GIS:\n",
      " Run 1:\n",
      " The algorithm found a an independent set of size 14.\n",
      " IG-GCC:\n",
      " Run 43:\n",
      " Time\\t\\tVCC\\tIS\n",
      " 0.000389\\t30\\t29\n",
      " 0.000400\\t29\\t29\n",
      "  [iterations: 6409861][independent set: 17]\n",
      " \n",
      " The algorithm needed 15 cliques.\n",
      " \n",
      " On average, it took 0 seconds and 0 iterations. Success rate: 0 / 1.\n",
      " Final results: IG-GCC: 15.00, BRE: 0.00, GIS: 14.00, RLS-IS: 17.00\n",
      " Approximation: 1.000000, discrepancy: 0\n",
      " tmp/vgraph.metis, 100, 1140, 42, 30.0001, 29\n",
      " BEGIN_OUTPUT_FOR_TABLES\n",
      " run_type=ReduVCC\n",
      " input_graph_vertices=100\n",
      " input_graph_edges=570\n",
      " reduced_graph_vertices=42\n",
      " reduced_graph_edges=356\n",
      " total_time_to_best=0.000408888\n",
      " time_to_best_without_unwind=0.000402927\n",
      " clique_cover_size=29\n",
      " verified_cover=passed\n",
      " optimal=unknown\n",
      " \n",
      "[13:22:58] [VisCliqueDecomp] Found  29  cliques\n",
      "[13:22:58]  1 / 1\n",
      "[13:23:09]  1 / 1\n",
      "Iris failed at  [ 7.71623497 11.3347662   0.85204094]\n",
      "[13:23:11]  1 / 1\n",
      "[13:23:20]  1 / 1\n",
      "[13:23:30]  1 / 1\n",
      "[13:23:39]  1 / 1\n",
      "[13:23:49]  1 / 1\n",
      "[13:23:58]  1 / 1\n",
      "Iris failed at  [20.71465049 11.27159891  0.11181888]\n",
      "[13:24:01]  1 / 1\n",
      "Iris failed at  [26.28101984  6.73696065  0.41867174]\n",
      "[13:24:04]  1 / 1\n",
      "Iris failed at  [2.74103706 1.62117395 0.2058381 ]\n",
      "[13:24:07]  1 / 1\n",
      "[13:24:16]  1 / 1\n",
      "Iris failed at  [16.82167859 10.66496205  1.77134427]\n",
      "[13:24:19]  1 / 1\n",
      "[13:24:28]  1 / 1\n",
      "[13:24:37]  1 / 1\n"
     ]
    },
    {
     "name": "stderr",
     "output_type": "stream",
     "text": [
      "100%|██████████| 100/100 [00:25<00:00,  3.96it/s]\n"
     ]
    },
    {
     "name": "stdout",
     "output_type": "stream",
     "text": [
      "VERTEX CLIQUE COVERING PROBLEM (CCP) SOLVER\n",
      " version 0.2\n",
      " Finding clique coverings using our heuristic...\n",
      " GIS:\n",
      " Run 1:\n",
      " The algorithm found a an independent set of size 21.\n",
      " IG-GCC:\n",
      " Run 62:\n",
      " Time\\t\\tVCC\\tIS\n",
      " 0.000393\\t36\\t30\n",
      " 0.000405\\t34\\t30\n",
      " 0.000412\\t33\\t30\n",
      " 0.000447\\t32\\t30\n",
      " 0.000489\\t31\\t30\n",
      "  [iterations: 5777384][independent set: 21]\n",
      " \n",
      " The algorithm needed 22 cliques.\n",
      " \n",
      " On average, it took 0 seconds and 0 iterations. Success rate: 0 / 1.\n",
      " Final results: IG-GCC: 22.00, BRE: 0.00, GIS: 21.00, RLS-IS: 21.00\n",
      " Approximation: 1.047619, discrepancy: 1\n",
      " tmp/vgraph.metis, 100, 1042, 61, 30.0001, 31\n",
      " BEGIN_OUTPUT_FOR_TABLES\n",
      " run_type=ReduVCC\n",
      " input_graph_vertices=100\n",
      " input_graph_edges=521\n",
      " reduced_graph_vertices=61\n",
      " reduced_graph_edges=368\n",
      " total_time_to_best=0.000496149\n",
      " time_to_best_without_unwind=0.000492096\n",
      " clique_cover_size=31\n",
      " verified_cover=passed\n",
      " optimal=unknown\n",
      " \n",
      "VERTEX CLIQUE COVERING PROBLEM (CCP) SOLVER\n",
      " version 0.2\n",
      " Finding clique coverings using our heuristic...\n",
      " GIS:\n",
      " Run 1:\n",
      " The algorithm found a an independent set of size 21.\n",
      " IG-GCC:\n",
      " Run 62:\n",
      " Time\\t\\tVCC\\tIS\n",
      " 0.000384\\t36\\t30\n",
      " 0.000395\\t34\\t30\n",
      " 0.000402\\t33\\t30\n",
      " 0.000437\\t32\\t30\n",
      " 0.000479\\t31\\t30\n",
      "  [iterations: 5784277][independent set: 21]\n",
      " \n",
      " The algorithm needed 22 cliques.\n",
      " \n",
      " On average, it took 0 seconds and 0 iterations. Success rate: 0 / 1.\n",
      " Final results: IG-GCC: 22.00, BRE: 0.00, GIS: 21.00, RLS-IS: 21.00\n",
      " Approximation: 1.047619, discrepancy: 1\n",
      " tmp/vgraph.metis, 100, 1042, 61, 30.0001, 31\n",
      " BEGIN_OUTPUT_FOR_TABLES\n",
      " run_type=ReduVCC\n",
      " input_graph_vertices=100\n",
      " input_graph_edges=521\n",
      " reduced_graph_vertices=61\n",
      " reduced_graph_edges=368\n",
      " total_time_to_best=0.000486851\n",
      " time_to_best_without_unwind=0.000481844\n",
      " clique_cover_size=31\n",
      " verified_cover=passed\n",
      " optimal=unknown\n",
      " \n",
      "[13:26:13] [VisCliqueDecomp] Found  31  cliques\n",
      "[13:26:13]  1 / 1\n",
      "Iris failed at  [ 0.29043197 14.09949447  1.95849582]\n",
      "[13:26:15]  1 / 1\n",
      "Iris failed at  [21.81426588  2.42949182  0.73280488]\n",
      "[13:26:18]  1 / 1\n",
      "[13:26:25]  1 / 1\n",
      "Iris failed at  [26.80537707 14.79608144  2.9134539 ]\n",
      "[13:26:28]  1 / 1\n",
      "[13:26:34]  1 / 1\n",
      "[13:26:43]  1 / 1\n",
      "[13:26:52]  1 / 1\n",
      "Iris failed at  [10.78996412 10.90989188  2.7688023 ]\n",
      "[13:26:55]  1 / 1\n",
      "Iris failed at  [14.30301312 16.46532997  0.39264172]\n",
      "[13:26:58]  1 / 1\n",
      "Iris failed at  [16.0885317  12.31875947  2.9922294 ]\n",
      "[13:27:01]  1 / 1\n",
      "[13:27:07]  1 / 1\n",
      "[13:27:17]  1 / 1\n",
      "[13:27:26]  1 / 1\n",
      "Iris failed at  [ 8.86516022 20.5660644   0.61570349]\n",
      "[13:27:29]  1 / 1\n",
      "[13:27:38]  1 / 1\n",
      "Iris failed at  [ 4.13871516 26.78027504  1.26548358]\n"
     ]
    },
    {
     "name": "stderr",
     "output_type": "stream",
     "text": [
      "100%|██████████| 100/100 [00:25<00:00,  3.92it/s]\n"
     ]
    },
    {
     "name": "stdout",
     "output_type": "stream",
     "text": [
      "VERTEX CLIQUE COVERING PROBLEM (CCP) SOLVER\n",
      " version 0.2\n",
      " Finding clique coverings using our heuristic...\n",
      " GIS:\n",
      " Run 1:\n",
      " The algorithm found a an independent set of size 17.\n",
      " IG-GCC:\n",
      " Run 43:\n",
      " Time\\t\\tVCC\\tIS\n",
      " 0.000494\\t29\\t28\n",
      " 0.000522\\t28\\t28\n",
      " 0.000532\\t27\\t28\n",
      "  [iterations: 8181595][independent set: 17]\n",
      " \n",
      " The algorithm needed 16 cliques.\n",
      " \n",
      " On average, it took 0 seconds and 0 iterations. Success rate: 0 / 1.\n",
      " Final results: IG-GCC: 16.00, BRE: 0.00, GIS: 17.00, RLS-IS: 17.00\n",
      " Approximation: 1.000000, discrepancy: 0\n",
      " tmp/vgraph.metis, 100, 1142, 42, 30.0001, 27\n",
      " BEGIN_OUTPUT_FOR_TABLES\n",
      " run_type=ReduVCC\n",
      " input_graph_vertices=100\n",
      " input_graph_edges=571\n",
      " reduced_graph_vertices=42\n",
      " reduced_graph_edges=244\n",
      " total_time_to_best=0.000540018\n",
      " time_to_best_without_unwind=0.000535011\n",
      " clique_cover_size=27\n",
      " verified_cover=passed\n",
      " optimal=unknown\n",
      " \n",
      "VERTEX CLIQUE COVERING PROBLEM (CCP) SOLVER\n",
      " version 0.2\n",
      " Finding clique coverings using our heuristic...\n",
      " GIS:\n",
      " Run 1:\n",
      " The algorithm found a an independent set of size 17.\n",
      " IG-GCC:\n",
      " Run 43:\n",
      " Time\\t\\tVCC\\tIS\n",
      " 0.000470\\t29\\t28\n",
      "  [iterations: 0][independent set: 17]\n",
      " \n",
      " The algorithm needed 18 cliques.\n",
      " \n",
      " On average, it took 0 seconds and 0 iterations. Success rate: 0 / 1.\n",
      " Final results: IG-GCC: 18.00, BRE: 0.00, GIS: 17.00, RLS-IS: 17.00\n",
      " Approximation: 1.058824, discrepancy: 1\n",
      " tmp/vgraph.metis, 100, 1142, 42, 0.000520945, 29\n",
      " BEGIN_OUTPUT_FOR_TABLES\n",
      " run_type=ReduVCC\n",
      " input_graph_vertices=100\n",
      " input_graph_edges=571\n",
      " reduced_graph_vertices=42\n",
      " reduced_graph_edges=244\n",
      " total_time_to_best=0.000476122\n",
      " time_to_best_without_unwind=0.000472069\n",
      " clique_cover_size=29\n",
      " verified_cover=passed\n",
      " optimal=unknown\n",
      " \n",
      "[13:28:38] [VisCliqueDecomp] Found  29  cliques\n",
      "[13:28:38]  1 / 1\n",
      "[13:28:47]  1 / 1\n",
      "[13:28:56]  1 / 1\n",
      "[13:29:05]  1 / 1\n",
      "[13:29:14]  1 / 1\n",
      "Iris failed at  [25.017559    2.05379773  1.84362115]\n",
      "[13:29:17]  1 / 1\n",
      "[13:29:27]  1 / 1\n",
      "[13:29:36]  1 / 1\n",
      "[13:29:45]  1 / 1\n",
      "[13:29:54]  1 / 1\n",
      "[13:30:03]  1 / 1\n",
      "Iris failed at  [15.19590271 26.03994618  0.87588108]\n",
      "[13:30:06]  1 / 1\n",
      "[13:30:15]  1 / 1\n",
      "Iris failed at  [1.2162059  1.1707501  0.84091542]\n",
      "[13:30:18]  1 / 1\n",
      "[13:30:27]  1 / 1\n"
     ]
    },
    {
     "name": "stderr",
     "output_type": "stream",
     "text": [
      "100%|██████████| 100/100 [00:25<00:00,  3.92it/s]\n"
     ]
    },
    {
     "name": "stdout",
     "output_type": "stream",
     "text": [
      "VERTEX CLIQUE COVERING PROBLEM (CCP) SOLVER\n",
      " version 0.2\n",
      " Finding clique coverings using our heuristic...\n",
      " GIS:\n",
      " Run 1:\n",
      " The algorithm found a an independent set of size 5.\n",
      " IG-GCC:\n",
      " Run 13:\n",
      " Time\\t\\tVCC\\tIS\n",
      " 0.000326\\t29\\t29\n",
      "  [iterations: 0][independent set: 5]\n",
      " \n",
      " The algorithm needed 5 cliques.\n",
      " \n",
      " On average, it took 0 seconds and 0 iterations. Success rate: 1 / 1.\n",
      " Final results: IG-GCC: 5.00, BRE: 0.00, GIS: 5.00, RLS-IS: 5.00\n",
      " Approximation: 1.000000, discrepancy: 0\n",
      " tmp/vgraph.metis, 100, 1012, 12, 0.000378847, 29\n",
      " BEGIN_OUTPUT_FOR_TABLES\n",
      " run_type=ReduVCC\n",
      " input_graph_vertices=100\n",
      " input_graph_edges=506\n",
      " reduced_graph_vertices=12\n",
      " reduced_graph_edges=42\n",
      " total_time_to_best=0.000333071\n",
      " time_to_best_without_unwind=0.000326872\n",
      " clique_cover_size=29\n",
      " verified_cover=passed\n",
      " optimal=unknown\n",
      " \n",
      "VERTEX CLIQUE COVERING PROBLEM (CCP) SOLVER\n",
      " version 0.2\n",
      " Finding clique coverings using our heuristic...\n",
      " GIS:\n",
      " Run 1:\n",
      " The algorithm found a an independent set of size 5.\n",
      " IG-GCC:\n",
      " Run 13:\n",
      " Time\\t\\tVCC\\tIS\n",
      " 0.000317\\t29\\t29\n",
      "  [iterations: 0][independent set: 5]\n",
      " \n",
      " The algorithm needed 5 cliques.\n",
      " \n",
      " On average, it took 0 seconds and 0 iterations. Success rate: 1 / 1.\n",
      " Final results: IG-GCC: 5.00, BRE: 0.00, GIS: 5.00, RLS-IS: 5.00\n",
      " Approximation: 1.000000, discrepancy: 0\n",
      " tmp/vgraph.metis, 100, 1012, 12, 0.000365973, 29\n",
      " BEGIN_OUTPUT_FOR_TABLES\n",
      " run_type=ReduVCC\n",
      " input_graph_vertices=100\n",
      " input_graph_edges=506\n",
      " reduced_graph_vertices=12\n",
      " reduced_graph_edges=42\n",
      " total_time_to_best=0.000324488\n",
      " time_to_best_without_unwind=0.000318289\n",
      " clique_cover_size=29\n",
      " verified_cover=passed\n",
      " optimal=unknown\n",
      " \n",
      "[13:31:04] [VisCliqueDecomp] Found  29  cliques\n",
      "[13:31:04]  1 / 1\n",
      "[13:31:13]  1 / 1\n",
      "[13:31:20]  1 / 1\n",
      "Iris failed at  [14.9788742  23.91519192  1.19683445]\n",
      "[13:31:23]  1 / 1\n",
      "[13:31:32]  1 / 1\n",
      "[13:31:42]  1 / 1\n",
      "[13:31:51]  1 / 1\n",
      "Iris failed at  [27.32063124 22.21285733  2.79735444]\n",
      "[13:31:54]  1 / 1\n",
      "[13:32:03]  1 / 1\n",
      "[13:32:12]  1 / 1\n",
      "[13:32:21]  1 / 1\n",
      "[13:32:31]  1 / 1\n",
      "[13:32:40]  1 / 1\n",
      "[13:32:50]  1 / 1\n",
      "[13:32:59]  1 / 1\n"
     ]
    },
    {
     "name": "stderr",
     "output_type": "stream",
     "text": [
      "100%|██████████| 100/100 [00:23<00:00,  4.30it/s]\n"
     ]
    },
    {
     "name": "stdout",
     "output_type": "stream",
     "text": [
      "VERTEX CLIQUE COVERING PROBLEM (CCP) SOLVER\n",
      " version 0.2\n",
      " Finding clique coverings using our heuristic...\n",
      " GIS:\n",
      " Run 1:\n",
      " The algorithm found a an independent set of size 17.\n",
      " IG-GCC:\n",
      " Run 49:\n",
      " Time\\t\\tVCC\\tIS\n",
      " 0.000307\\t35\\t32\n",
      "  [iterations: 0][independent set: 17]\n",
      " \n",
      " The algorithm needed 20 cliques.\n",
      " \n",
      " On average, it took 0 seconds and 0 iterations. Success rate: 0 / 1.\n",
      " Final results: IG-GCC: 20.00, BRE: 0.00, GIS: 17.00, RLS-IS: 17.00\n",
      " Approximation: 1.176471, discrepancy: 3\n",
      " tmp/vgraph.metis, 100, 988, 48, 0.000360966, 35\n",
      " BEGIN_OUTPUT_FOR_TABLES\n",
      " run_type=ReduVCC\n",
      " input_graph_vertices=100\n",
      " input_graph_edges=494\n",
      " reduced_graph_vertices=48\n",
      " reduced_graph_edges=274\n",
      " total_time_to_best=0.000313997\n",
      " time_to_best_without_unwind=0.000309944\n",
      " clique_cover_size=35\n",
      " verified_cover=passed\n",
      " optimal=unknown\n",
      " \n",
      "VERTEX CLIQUE COVERING PROBLEM (CCP) SOLVER\n",
      " version 0.2\n",
      " Finding clique coverings using our heuristic...\n",
      " GIS:\n",
      " Run 1:\n",
      " The algorithm found a an independent set of size 17.\n",
      " IG-GCC:\n",
      " Run 49:\n",
      " Time\\t\\tVCC\\tIS\n",
      " 0.000302\\t35\\t32\n",
      " 0.000350\\t34\\t34\n",
      "  [iterations: 7657488][independent set: 19]\n",
      " \n",
      " The algorithm needed 19 cliques.\n",
      " \n",
      " On average, it took 0 seconds and 0 iterations. Success rate: 1 / 1.\n",
      " Final results: IG-GCC: 19.00, BRE: 0.00, GIS: 17.00, RLS-IS: 19.00\n",
      " Approximation: 1.000000, discrepancy: 0\n",
      " tmp/vgraph.metis, 100, 988, 48, 30.0001, 34\n",
      " BEGIN_OUTPUT_FOR_TABLES\n",
      " run_type=ReduVCC\n",
      " input_graph_vertices=100\n",
      " input_graph_edges=494\n",
      " reduced_graph_vertices=48\n",
      " reduced_graph_edges=274\n",
      " total_time_to_best=0.000359058\n",
      " time_to_best_without_unwind=0.000354052\n",
      " clique_cover_size=34\n",
      " verified_cover=passed\n",
      " optimal=unknown\n",
      " \n",
      "[13:34:04] [VisCliqueDecomp] Found  34  cliques\n",
      "[13:34:04]  1 / 1\n",
      "Iris failed at  [11.35173194 20.25157208  1.30973088]\n",
      "[13:34:06]  1 / 1\n",
      "Iris failed at  [28.07067582  4.784814    1.29594593]\n",
      "[13:34:09]  1 / 1\n",
      "Iris failed at  [6.31957659 7.25867927 0.33818736]\n",
      "[13:34:12]  1 / 1\n",
      "[13:34:21]  1 / 1\n",
      "[13:34:31]  1 / 1\n",
      "[13:34:37]  1 / 1\n",
      "[13:34:46]  1 / 1\n",
      "[13:34:56]  1 / 1\n",
      "[13:35:05]  1 / 1\n",
      "[13:35:11]  1 / 1\n",
      "[13:35:18]  1 / 1\n",
      "[13:35:24]  1 / 1\n",
      "[13:35:34]  1 / 1\n",
      "[13:35:43]  1 / 1\n",
      "[13:35:49]  1 / 1\n",
      "[13:35:59]  1 / 1\n"
     ]
    },
    {
     "name": "stderr",
     "output_type": "stream",
     "text": [
      "100%|██████████| 100/100 [00:24<00:00,  4.12it/s]\n"
     ]
    },
    {
     "name": "stdout",
     "output_type": "stream",
     "text": [
      "tmp/vgraph.metis, 100, 940, 0, 0.000271797, 33\n",
      " BEGIN_OUTPUT_FOR_TABLES\n",
      " run_type=ReduVCC\n",
      " input_graph_vertices=100\n",
      " input_graph_edges=470\n",
      " reduced_graph_vertices=0\n",
      " reduced_graph_edges=0\n",
      " total_time_to_best=8.10623e-06\n",
      " time_to_best_without_unwind=0\n",
      " clique_cover_size=33\n",
      " verified_cover=passed\n",
      " optimal=unknown\n",
      " \n",
      "tmp/vgraph.metis, 100, 940, 0, 0.000270844, 33\n",
      " BEGIN_OUTPUT_FOR_TABLES\n",
      " run_type=ReduVCC\n",
      " input_graph_vertices=100\n",
      " input_graph_edges=470\n",
      " reduced_graph_vertices=0\n",
      " reduced_graph_edges=0\n",
      " total_time_to_best=7.86781e-06\n",
      " time_to_best_without_unwind=0\n",
      " clique_cover_size=33\n",
      " verified_cover=passed\n",
      " optimal=unknown\n",
      " \n",
      "[13:36:35] [VisCliqueDecomp] Found  33  cliques\n",
      "[13:36:35]  1 / 1\n",
      "[13:36:44]  1 / 1\n",
      "[13:36:54]  1 / 1\n",
      "Iris failed at  [27.8175743   9.80789291  0.29155083]\n",
      "[13:36:56]  1 / 1\n",
      "[13:37:06]  1 / 1\n",
      "Iris failed at  [ 1.69245252 14.24248527  1.97011408]\n",
      "[13:37:08]  1 / 1\n",
      "[13:37:18]  1 / 1\n",
      "[13:37:27]  1 / 1\n",
      "[13:37:37]  1 / 1\n",
      "Iris failed at  [ 4.77588132 10.87006988  0.63313762]\n",
      "[13:37:39]  1 / 1\n",
      "Iris failed at  [16.26070932 12.55099292  1.3590028 ]\n",
      "[13:37:42]  1 / 1\n",
      "Iris failed at  [11.11920716 10.53888279  0.61997986]\n",
      "[13:37:45]  1 / 1\n",
      "[13:37:54]  1 / 1\n",
      "[13:38:04]  1 / 1\n",
      "[13:38:13]  1 / 1\n",
      "[13:38:20]  1 / 1\n",
      "[13:38:29]  1 / 1\n"
     ]
    },
    {
     "name": "stderr",
     "output_type": "stream",
     "text": [
      "100%|██████████| 100/100 [00:22<00:00,  4.49it/s]\n"
     ]
    },
    {
     "name": "stdout",
     "output_type": "stream",
     "text": [
      "tmp/vgraph.metis, 100, 842, 0, 0.000154018, 34\n",
      " BEGIN_OUTPUT_FOR_TABLES\n",
      " run_type=ReduVCC\n",
      " input_graph_vertices=100\n",
      " input_graph_edges=421\n",
      " reduced_graph_vertices=0\n",
      " reduced_graph_edges=0\n",
      " total_time_to_best=5.96046e-06\n",
      " time_to_best_without_unwind=0\n",
      " clique_cover_size=34\n",
      " verified_cover=passed\n",
      " optimal=unknown\n",
      " \n",
      "tmp/vgraph.metis, 100, 842, 0, 0.000148058, 34\n",
      " BEGIN_OUTPUT_FOR_TABLES\n",
      " run_type=ReduVCC\n",
      " input_graph_vertices=100\n",
      " input_graph_edges=421\n",
      " reduced_graph_vertices=0\n",
      " reduced_graph_edges=0\n",
      " total_time_to_best=5.00679e-06\n",
      " time_to_best_without_unwind=-9.53674e-07\n",
      " clique_cover_size=34\n",
      " verified_cover=passed\n",
      " optimal=unknown\n",
      " \n",
      "[13:39:00] [VisCliqueDecomp] Found  34  cliques\n",
      "[13:39:00]  1 / 1\n",
      "Iris failed at  [29.25844266 15.11956219  2.89973861]\n",
      "[13:39:03]  1 / 1\n",
      "Iris failed at  [2.34784129 6.70074433 2.98677879]\n",
      "[13:39:06]  1 / 1\n",
      "Iris failed at  [11.58444745 10.24622144  2.53253666]\n",
      "[13:39:09]  1 / 1\n",
      "[13:39:18]  1 / 1\n",
      "[13:39:28]  1 / 1\n",
      "[13:39:37]  1 / 1\n",
      "Iris failed at  [18.72930234 16.94747865  0.58428267]\n",
      "[13:39:40]  1 / 1\n",
      "[13:39:49]  1 / 1\n",
      "[13:39:58]  1 / 1\n",
      "[13:40:08]  1 / 1\n",
      "[13:40:17]  1 / 1\n",
      "Iris failed at  [17.79514504 28.15147969  0.74774265]\n",
      "[13:40:20]  1 / 1\n",
      "[13:40:29]  1 / 1\n",
      "[13:40:39]  1 / 1\n",
      "[13:40:45]  1 / 1\n",
      "[13:40:52]  1 / 1\n"
     ]
    },
    {
     "name": "stderr",
     "output_type": "stream",
     "text": [
      "100%|██████████| 100/100 [00:24<00:00,  4.12it/s]\n"
     ]
    },
    {
     "name": "stdout",
     "output_type": "stream",
     "text": [
      "VERTEX CLIQUE COVERING PROBLEM (CCP) SOLVER\n",
      " version 0.2\n",
      " Finding clique coverings using our heuristic...\n",
      " GIS:\n",
      " Run 1:\n",
      " The algorithm found a an independent set of size 17.\n",
      " IG-GCC:\n",
      " Run 53:\n",
      " Time\\t\\tVCC\\tIS\n",
      " 0.000315\\t34\\t30\n",
      " 0.000326\\t33\\t30\n",
      " 0.000344\\t32\\t30\n",
      " 0.000379\\t31\\t30\n",
      "  [iterations: 6138788][independent set: 17]\n",
      " \n",
      " The algorithm needed 18 cliques.\n",
      " \n",
      " On average, it took 0 seconds and 0 iterations. Success rate: 0 / 1.\n",
      " Final results: IG-GCC: 18.00, BRE: 0.00, GIS: 17.00, RLS-IS: 17.00\n",
      " Approximation: 1.058824, discrepancy: 1\n",
      " tmp/vgraph.metis, 100, 994, 52, 30.0001, 31\n",
      " BEGIN_OUTPUT_FOR_TABLES\n",
      " run_type=ReduVCC\n",
      " input_graph_vertices=100\n",
      " input_graph_edges=497\n",
      " reduced_graph_vertices=52\n",
      " reduced_graph_edges=364\n",
      " total_time_to_best=0.000389099\n",
      " time_to_best_without_unwind=0.000383139\n",
      " clique_cover_size=31\n",
      " verified_cover=passed\n",
      " optimal=unknown\n",
      " \n",
      "VERTEX CLIQUE COVERING PROBLEM (CCP) SOLVER\n",
      " version 0.2\n",
      " Finding clique coverings using our heuristic...\n",
      " GIS:\n",
      " Run 1:\n",
      " The algorithm found a an independent set of size 17.\n",
      " IG-GCC:\n",
      " Run 53:\n",
      " Time\\t\\tVCC\\tIS\n",
      " 0.000318\\t34\\t30\n",
      " 0.000333\\t33\\t30\n",
      " 0.000351\\t32\\t30\n",
      " 0.000387\\t31\\t30\n",
      "  [iterations: 5944533][independent set: 17]\n",
      " \n",
      " The algorithm needed 18 cliques.\n",
      " \n",
      " On average, it took 0 seconds and 0 iterations. Success rate: 0 / 1.\n",
      " Final results: IG-GCC: 18.00, BRE: 0.00, GIS: 17.00, RLS-IS: 17.00\n",
      " Approximation: 1.058824, discrepancy: 1\n",
      " tmp/vgraph.metis, 100, 994, 52, 30.0001, 31\n",
      " BEGIN_OUTPUT_FOR_TABLES\n",
      " run_type=ReduVCC\n",
      " input_graph_vertices=100\n",
      " input_graph_edges=497\n",
      " reduced_graph_vertices=52\n",
      " reduced_graph_edges=364\n",
      " total_time_to_best=0.000396013\n",
      " time_to_best_without_unwind=0.000391006\n",
      " clique_cover_size=31\n",
      " verified_cover=passed\n",
      " optimal=unknown\n",
      " \n",
      "[13:42:27] [VisCliqueDecomp] Found  31  cliques\n",
      "[13:42:27]  1 / 1\n",
      "[13:42:36]  1 / 1\n",
      "Iris failed at  [26.0931726  16.34076534  1.72312443]\n",
      "[13:42:39]  1 / 1\n",
      "[13:42:48]  1 / 1\n",
      "[13:42:57]  1 / 1\n",
      "[13:43:03]  1 / 1\n",
      "Iris failed at  [23.28287333 20.99005593  2.79498049]\n",
      "[13:43:06]  1 / 1\n",
      "Iris failed at  [17.38127182 16.20399999  0.88516686]\n",
      "[13:43:09]  1 / 1\n",
      "[13:43:18]  1 / 1\n",
      "[13:43:27]  1 / 1\n",
      "[13:43:36]  1 / 1\n",
      "[13:43:46]  1 / 1\n",
      "Iris failed at  [ 1.24517937 21.59434939  1.29693714]\n",
      "[13:43:48]  1 / 1\n",
      "[13:43:58]  1 / 1\n",
      "[13:44:08]  1 / 1\n",
      "[13:44:15]  1 / 1\n"
     ]
    },
    {
     "name": "stderr",
     "output_type": "stream",
     "text": [
      "100%|██████████| 100/100 [00:22<00:00,  4.50it/s]\n"
     ]
    },
    {
     "name": "stdout",
     "output_type": "stream",
     "text": [
      "tmp/vgraph.metis, 100, 742, 0, 0.000158072, 33\n",
      " BEGIN_OUTPUT_FOR_TABLES\n",
      " run_type=ReduVCC\n",
      " input_graph_vertices=100\n",
      " input_graph_edges=371\n",
      " reduced_graph_vertices=0\n",
      " reduced_graph_edges=0\n",
      " total_time_to_best=6.91414e-06\n",
      " time_to_best_without_unwind=0\n",
      " clique_cover_size=33\n",
      " verified_cover=passed\n",
      " optimal=unknown\n",
      " \n",
      "tmp/vgraph.metis, 100, 742, 0, 0.000155926, 33\n",
      " BEGIN_OUTPUT_FOR_TABLES\n",
      " run_type=ReduVCC\n",
      " input_graph_vertices=100\n",
      " input_graph_edges=371\n",
      " reduced_graph_vertices=0\n",
      " reduced_graph_edges=0\n",
      " total_time_to_best=5.96046e-06\n",
      " time_to_best_without_unwind=0\n",
      " clique_cover_size=33\n",
      " verified_cover=passed\n",
      " optimal=unknown\n",
      " \n",
      "[13:44:48] [VisCliqueDecomp] Found  33  cliques\n",
      "[13:44:48]  1 / 1\n",
      "[13:44:57]  1 / 1\n",
      "[13:45:04]  1 / 1\n",
      "[13:45:10]  1 / 1\n",
      "[13:45:17]  1 / 1\n",
      "Iris failed at  [10.2688276  10.64005811  0.01531189]\n",
      "[13:45:20]  1 / 1\n",
      "[13:45:29]  1 / 1\n",
      "[13:45:39]  1 / 1\n"
     ]
    },
    {
     "data": {
      "text/plain": [
       "[<pydrake.geometry.optimization.HPolyhedron at 0x7f558395a730>,\n",
       " <pydrake.geometry.optimization.HPolyhedron at 0x7f5583959230>,\n",
       " <pydrake.geometry.optimization.HPolyhedron at 0x7f5583952870>,\n",
       " <pydrake.geometry.optimization.HPolyhedron at 0x7f55839588f0>,\n",
       " <pydrake.geometry.optimization.HPolyhedron at 0x7f5583957a70>,\n",
       " <pydrake.geometry.optimization.HPolyhedron at 0x7f5583957870>,\n",
       " <pydrake.geometry.optimization.HPolyhedron at 0x7f55839577f0>,\n",
       " <pydrake.geometry.optimization.HPolyhedron at 0x7f5583957a30>,\n",
       " <pydrake.geometry.optimization.HPolyhedron at 0x7f55839576f0>,\n",
       " <pydrake.geometry.optimization.HPolyhedron at 0x7f5580e3c770>,\n",
       " <pydrake.geometry.optimization.HPolyhedron at 0x7f5580e38730>,\n",
       " <pydrake.geometry.optimization.HPolyhedron at 0x7f5580e3e730>,\n",
       " <pydrake.geometry.optimization.HPolyhedron at 0x7f5580e3a7b0>,\n",
       " <pydrake.geometry.optimization.HPolyhedron at 0x7f5580e3b7f0>,\n",
       " <pydrake.geometry.optimization.HPolyhedron at 0x7f5580e34870>,\n",
       " <pydrake.geometry.optimization.HPolyhedron at 0x7f5580e37830>,\n",
       " <pydrake.geometry.optimization.HPolyhedron at 0x7f5580e37730>,\n",
       " <pydrake.geometry.optimization.HPolyhedron at 0x7f5580e376f0>,\n",
       " <pydrake.geometry.optimization.HPolyhedron at 0x7f5580e37570>,\n",
       " <pydrake.geometry.optimization.HPolyhedron at 0x7f5580e16770>,\n",
       " <pydrake.geometry.optimization.HPolyhedron at 0x7f5580e15530>,\n",
       " <pydrake.geometry.optimization.HPolyhedron at 0x7f5580e174b0>,\n",
       " <pydrake.geometry.optimization.HPolyhedron at 0x7f5580d984b0>,\n",
       " <pydrake.geometry.optimization.HPolyhedron at 0x7f5580d9a6f0>,\n",
       " <pydrake.geometry.optimization.HPolyhedron at 0x7f5580d99670>,\n",
       " <pydrake.geometry.optimization.HPolyhedron at 0x7f5580d99630>,\n",
       " <pydrake.geometry.optimization.HPolyhedron at 0x7f5580d998b0>,\n",
       " <pydrake.geometry.optimization.HPolyhedron at 0x7f5580d7d830>,\n",
       " <pydrake.geometry.optimization.HPolyhedron at 0x7f5580d7a730>,\n",
       " <pydrake.geometry.optimization.HPolyhedron at 0x7f5580d797b0>,\n",
       " <pydrake.geometry.optimization.HPolyhedron at 0x7f5580d77830>,\n",
       " <pydrake.geometry.optimization.HPolyhedron at 0x7f5580d76930>,\n",
       " <pydrake.geometry.optimization.HPolyhedron at 0x7f5580d75930>,\n",
       " <pydrake.geometry.optimization.HPolyhedron at 0x7f5580d78930>,\n",
       " <pydrake.geometry.optimization.HPolyhedron at 0x7f5580d7ea70>,\n",
       " <pydrake.geometry.optimization.HPolyhedron at 0x7f5580d7e470>,\n",
       " <pydrake.geometry.optimization.HPolyhedron at 0x7f5580d7e9f0>,\n",
       " <pydrake.geometry.optimization.HPolyhedron at 0x7f5580d7e4f0>,\n",
       " <pydrake.geometry.optimization.HPolyhedron at 0x7f5580d7e0b0>,\n",
       " <pydrake.geometry.optimization.HPolyhedron at 0x7f5580e262b0>,\n",
       " <pydrake.geometry.optimization.HPolyhedron at 0x7f5580e26730>,\n",
       " <pydrake.geometry.optimization.HPolyhedron at 0x7f5580e262f0>,\n",
       " <pydrake.geometry.optimization.HPolyhedron at 0x7f5580e266b0>,\n",
       " <pydrake.geometry.optimization.HPolyhedron at 0x7f5580e26630>,\n",
       " <pydrake.geometry.optimization.HPolyhedron at 0x7f5580e26330>,\n",
       " <pydrake.geometry.optimization.HPolyhedron at 0x7f5580e26f70>,\n",
       " <pydrake.geometry.optimization.HPolyhedron at 0x7f5580e26bf0>,\n",
       " <pydrake.geometry.optimization.HPolyhedron at 0x7f5580e26df0>,\n",
       " <pydrake.geometry.optimization.HPolyhedron at 0x7f5580e26070>,\n",
       " <pydrake.geometry.optimization.HPolyhedron at 0x7f5580e267f0>,\n",
       " <pydrake.geometry.optimization.HPolyhedron at 0x7f5580e3bb30>,\n",
       " <pydrake.geometry.optimization.HPolyhedron at 0x7f5580e353f0>,\n",
       " <pydrake.geometry.optimization.HPolyhedron at 0x7f5580e279b0>,\n",
       " <pydrake.geometry.optimization.HPolyhedron at 0x7f5580e289b0>,\n",
       " <pydrake.geometry.optimization.HPolyhedron at 0x7f5580e239b0>,\n",
       " <pydrake.geometry.optimization.HPolyhedron at 0x7f5580e2ca30>,\n",
       " <pydrake.geometry.optimization.HPolyhedron at 0x7f5580e2c9b0>,\n",
       " <pydrake.geometry.optimization.HPolyhedron at 0x7f5580e2c970>,\n",
       " <pydrake.geometry.optimization.HPolyhedron at 0x7f5580e2c930>,\n",
       " <pydrake.geometry.optimization.HPolyhedron at 0x7f5580e2c8b0>,\n",
       " <pydrake.geometry.optimization.HPolyhedron at 0x7f5580e2c830>,\n",
       " <pydrake.geometry.optimization.HPolyhedron at 0x7f5580e2c770>,\n",
       " <pydrake.geometry.optimization.HPolyhedron at 0x7f5580e2c5b0>,\n",
       " <pydrake.geometry.optimization.HPolyhedron at 0x7f5580e2c730>,\n",
       " <pydrake.geometry.optimization.HPolyhedron at 0x7f5580e2c030>,\n",
       " <pydrake.geometry.optimization.HPolyhedron at 0x7f5580e2cb30>,\n",
       " <pydrake.geometry.optimization.HPolyhedron at 0x7f5580e0e0b0>,\n",
       " <pydrake.geometry.optimization.HPolyhedron at 0x7f5580e0bf70>,\n",
       " <pydrake.geometry.optimization.HPolyhedron at 0x7f5580dff870>,\n",
       " <pydrake.geometry.optimization.HPolyhedron at 0x7f5580df3b30>,\n",
       " <pydrake.geometry.optimization.HPolyhedron at 0x7f5580e00130>,\n",
       " <pydrake.geometry.optimization.HPolyhedron at 0x7f5580e021b0>,\n",
       " <pydrake.geometry.optimization.HPolyhedron at 0x7f5580e043f0>,\n",
       " <pydrake.geometry.optimization.HPolyhedron at 0x7f5580e04030>,\n",
       " <pydrake.geometry.optimization.HPolyhedron at 0x7f5580e041f0>,\n",
       " <pydrake.geometry.optimization.HPolyhedron at 0x7f5580e042f0>,\n",
       " <pydrake.geometry.optimization.HPolyhedron at 0x7f5580e040f0>,\n",
       " <pydrake.geometry.optimization.HPolyhedron at 0x7f5580e04470>,\n",
       " <pydrake.geometry.optimization.HPolyhedron at 0x7f5580e5dd70>,\n",
       " <pydrake.geometry.optimization.HPolyhedron at 0x7f5580e6dbf0>,\n",
       " <pydrake.geometry.optimization.HPolyhedron at 0x7f5580e67c30>,\n",
       " <pydrake.geometry.optimization.HPolyhedron at 0x7f5580e6fd70>,\n",
       " <pydrake.geometry.optimization.HPolyhedron at 0x7f5580e6fb70>,\n",
       " <pydrake.geometry.optimization.HPolyhedron at 0x7f5580e6f970>,\n",
       " <pydrake.geometry.optimization.HPolyhedron at 0x7f5580e6f5b0>,\n",
       " <pydrake.geometry.optimization.HPolyhedron at 0x7f5580e6ff30>,\n",
       " <pydrake.geometry.optimization.HPolyhedron at 0x7f5580e775f0>,\n",
       " <pydrake.geometry.optimization.HPolyhedron at 0x7f5580e77cf0>,\n",
       " <pydrake.geometry.optimization.HPolyhedron at 0x7f5580e77730>,\n",
       " <pydrake.geometry.optimization.HPolyhedron at 0x7f5580e77e70>,\n",
       " <pydrake.geometry.optimization.HPolyhedron at 0x7f557e8e0cf0>,\n",
       " <pydrake.geometry.optimization.HPolyhedron at 0x7f557e8e1d70>,\n",
       " <pydrake.geometry.optimization.HPolyhedron at 0x7f557e8dbc70>,\n",
       " <pydrake.geometry.optimization.HPolyhedron at 0x7f557e8dccb0>,\n",
       " <pydrake.geometry.optimization.HPolyhedron at 0x7f557e8dddf0>,\n",
       " <pydrake.geometry.optimization.HPolyhedron at 0x7f557e8daeb0>,\n",
       " <pydrake.geometry.optimization.HPolyhedron at 0x7f557e8dae30>,\n",
       " <pydrake.geometry.optimization.HPolyhedron at 0x7f557e8dad70>,\n",
       " <pydrake.geometry.optimization.HPolyhedron at 0x7f557e8df0b0>,\n",
       " <pydrake.geometry.optimization.HPolyhedron at 0x7f557e8dbeb0>,\n",
       " <pydrake.geometry.optimization.HPolyhedron at 0x7f557e8db7b0>,\n",
       " <pydrake.geometry.optimization.HPolyhedron at 0x7f557e8ddf30>,\n",
       " <pydrake.geometry.optimization.HPolyhedron at 0x7f557e8aeef0>,\n",
       " <pydrake.geometry.optimization.HPolyhedron at 0x7f557e8aadf0>,\n",
       " <pydrake.geometry.optimization.HPolyhedron at 0x7f557e8aceb0>,\n",
       " <pydrake.geometry.optimization.HPolyhedron at 0x7f557e8a8ef0>,\n",
       " <pydrake.geometry.optimization.HPolyhedron at 0x7f557e8af070>,\n",
       " <pydrake.geometry.optimization.HPolyhedron at 0x7f557e8a6fb0>,\n",
       " <pydrake.geometry.optimization.HPolyhedron at 0x7f557e8a9070>]"
      ]
     },
     "execution_count": 5,
     "metadata": {},
     "output_type": "execute_result"
    }
   ],
   "source": [
    "from vislogging import LoggerClique3D\n",
    "from visibility_clique_decomposition import VisCliqueDecomp\n",
    "from region_generation import generate_regions_ellipses_multi_threading\n",
    "from time import strftime,gmtime\n",
    "from functools import partial\n",
    "\n",
    "approach = 0\n",
    "N = 100\n",
    "ap_names = ['redu', 'greedy', 'nx']\n",
    "loggerccd = LoggerClique3D(world, f\"village_{village_side}_{ap_names[approach]}_\"+strftime(\"%m_%d_%H_%M_%S_\", gmtime())+\"_\", seed, N, alpha, eps, estimate_coverage)\n",
    "def iris_ellipse_w_obstacles_handle(points, ellipsoids, old_regions = None):\n",
    "    if N>=1:\n",
    "        #+ region_obstacles\n",
    "        obstacles = [r for r in world.obstacles]\n",
    "        regions, _, is_full = generate_regions_ellipses_multi_threading(points, ellipsoids, obstacles, world.iris_domain, estimate_coverage, coverage_threshold=1-eps, old_regs = old_regions, maxiters=3)\n",
    "    return regions, is_full\n",
    "VCD = VisCliqueDecomp(  N = N,\n",
    "                        eps = eps,\n",
    "                        max_iterations=10,\n",
    "                        sample_cfree=sample_cfree_handle,\n",
    "                        col_handle=world.col_handle,\n",
    "                        build_vgraph=partial(vgraph_builder, regions = [], region_vis_obstacles = False),\n",
    "                        iris_w_obstacles= iris_ellipse_w_obstacles_handle,\n",
    "                        verbose=True,\n",
    "                        logger=loggerccd, \n",
    "                        approach = approach\n",
    "                    )\n",
    "\n",
    "VCD.run()"
   ]
  },
  {
   "cell_type": "code",
   "execution_count": 13,
   "id": "997b26d0",
   "metadata": {},
   "outputs": [],
   "source": [
    "world.plot_regions(VCD.regions, opacity=0.3)"
   ]
  },
  {
   "cell_type": "code",
   "execution_count": 6,
   "id": "ccc4632a",
   "metadata": {},
   "outputs": [
    {
     "name": "stdout",
     "output_type": "stream",
     "text": [
      "[20:54:24]  1 / 1\n",
      "[20:54:29]  1 / 1\n",
      "[20:54:34]  1 / 1\n",
      "[20:54:43]  1 / 1\n",
      "[20:54:46]  1 / 1\n"
     ]
    }
   ],
   "source": [
    "pts, _ = sample_cfree_handle(5,m =3123)\n",
    "r,_ = iris_w_obstacles(pts,[], [])"
   ]
  },
  {
   "cell_type": "code",
   "execution_count": 7,
   "id": "f157cfbe",
   "metadata": {},
   "outputs": [],
   "source": [
    "world.plot_regions(r)"
   ]
  },
  {
   "cell_type": "code",
   "execution_count": 35,
   "id": "17387e46",
   "metadata": {},
   "outputs": [
    {
     "data": {
      "text/plain": [
       "array([[7.33879512e+00, 6.35919360e+00, 3.58044029e+00],\n",
       "       [4.78985682e+00, 7.33115532e-03, 1.64176180e+00],\n",
       "       [2.86847355e+00, 6.35418916e+00, 4.70033879e+00],\n",
       "       [1.43195515e+00, 6.54694339e+00, 3.94139859e+00],\n",
       "       [8.33889784e+00, 2.93965916e+00, 4.94516101e+00]])"
      ]
     },
     "execution_count": 35,
     "metadata": {},
     "output_type": "execute_result"
    }
   ],
   "source": [
    "pts"
   ]
  },
  {
   "cell_type": "code",
   "execution_count": 34,
   "id": "21f12898",
   "metadata": {},
   "outputs": [
    {
     "ename": "ValueError",
     "evalue": "cannot reshape array of size 15 into shape (2)",
     "output_type": "error",
     "traceback": [
      "\u001b[0;31m---------------------------------------------------------------------------\u001b[0m",
      "\u001b[0;31mValueError\u001b[0m                                Traceback (most recent call last)",
      "\u001b[0;32m<ipython-input-34-3a65b7dc1618>\u001b[0m in \u001b[0;36m<module>\u001b[0;34m\u001b[0m\n\u001b[0;32m----> 1\u001b[0;31m \u001b[0mr\u001b[0m\u001b[0;34m,\u001b[0m\u001b[0m_\u001b[0m \u001b[0;34m=\u001b[0m \u001b[0miris_w_obstacles\u001b[0m\u001b[0;34m(\u001b[0m\u001b[0mpts\u001b[0m\u001b[0;34m,\u001b[0m\u001b[0;34m[\u001b[0m\u001b[0;34m]\u001b[0m\u001b[0;34m)\u001b[0m\u001b[0;34m\u001b[0m\u001b[0;34m\u001b[0m\u001b[0m\n\u001b[0m",
      "\u001b[0;32m<ipython-input-32-c302ada8a29d>\u001b[0m in \u001b[0;36miris_w_obstacles\u001b[0;34m(points, region_obstacles, old_regions, use_region_obstacles)\u001b[0m\n\u001b[1;32m     53\u001b[0m         \u001b[0;32mif\u001b[0m \u001b[0muse_region_obstacles\u001b[0m\u001b[0;34m:\u001b[0m\u001b[0;34m\u001b[0m\u001b[0;34m\u001b[0m\u001b[0m\n\u001b[1;32m     54\u001b[0m             \u001b[0mobstacles\u001b[0m \u001b[0;34m+=\u001b[0m \u001b[0mregion_obstacles\u001b[0m\u001b[0;34m\u001b[0m\u001b[0;34m\u001b[0m\u001b[0m\n\u001b[0;32m---> 55\u001b[0;31m         \u001b[0mregions\u001b[0m\u001b[0;34m,\u001b[0m \u001b[0m_\u001b[0m\u001b[0;34m,\u001b[0m \u001b[0m_\u001b[0m \u001b[0;34m=\u001b[0m \u001b[0mgenerate_regions_multi_threading\u001b[0m\u001b[0;34m(\u001b[0m\u001b[0mpoints\u001b[0m\u001b[0;34m,\u001b[0m \u001b[0mobstacles\u001b[0m\u001b[0;34m,\u001b[0m \u001b[0mworld\u001b[0m\u001b[0;34m.\u001b[0m\u001b[0miris_domain\u001b[0m\u001b[0;34m,\u001b[0m \u001b[0mestimate_coverage\u001b[0m\u001b[0;34m,\u001b[0m \u001b[0mcoverage_threshold\u001b[0m\u001b[0;34m=\u001b[0m\u001b[0;36m1\u001b[0m\u001b[0;34m-\u001b[0m\u001b[0meps\u001b[0m\u001b[0;34m,\u001b[0m \u001b[0mold_regs\u001b[0m\u001b[0;34m=\u001b[0m\u001b[0mold_regions\u001b[0m\u001b[0;34m)\u001b[0m\u001b[0;34m\u001b[0m\u001b[0;34m\u001b[0m\u001b[0m\n\u001b[0m\u001b[1;32m     56\u001b[0m         \u001b[0mis_full\u001b[0m \u001b[0;34m=\u001b[0m \u001b[0;36m1\u001b[0m\u001b[0;34m-\u001b[0m\u001b[0meps\u001b[0m \u001b[0;34m<=\u001b[0m \u001b[0mestimate_coverage\u001b[0m\u001b[0;34m(\u001b[0m\u001b[0mold_regions\u001b[0m\u001b[0;34m+\u001b[0m\u001b[0mregions\u001b[0m\u001b[0;34m)\u001b[0m\u001b[0;34m\u001b[0m\u001b[0;34m\u001b[0m\u001b[0m\n\u001b[1;32m     57\u001b[0m     \u001b[0;32mreturn\u001b[0m \u001b[0mregions\u001b[0m\u001b[0;34m,\u001b[0m \u001b[0mis_full\u001b[0m\u001b[0;34m\u001b[0m\u001b[0;34m\u001b[0m\u001b[0m\n",
      "\u001b[0;32m~/git/visiris/region_generation.py\u001b[0m in \u001b[0;36mgenerate_regions_multi_threading\u001b[0;34m(pts, obstacles, domain, estimate_coverage, coverage_threshold, old_regs)\u001b[0m\n\u001b[1;32m    107\u001b[0m         \u001b[0mA_dom\u001b[0m \u001b[0;34m=\u001b[0m \u001b[0mdomain\u001b[0m\u001b[0;34m.\u001b[0m\u001b[0mA\u001b[0m\u001b[0;34m(\u001b[0m\u001b[0;34m)\u001b[0m\u001b[0;34m\u001b[0m\u001b[0;34m\u001b[0m\u001b[0m\n\u001b[1;32m    108\u001b[0m         \u001b[0mb_dom\u001b[0m \u001b[0;34m=\u001b[0m \u001b[0mdomain\u001b[0m\u001b[0;34m.\u001b[0m\u001b[0mb\u001b[0m\u001b[0;34m(\u001b[0m\u001b[0;34m)\u001b[0m\u001b[0;34m\u001b[0m\u001b[0;34m\u001b[0m\u001b[0m\n\u001b[0;32m--> 109\u001b[0;31m         \u001b[0;32mif\u001b[0m \u001b[0mlen\u001b[0m\u001b[0;34m(\u001b[0m\u001b[0mpts\u001b[0m\u001b[0;34m.\u001b[0m\u001b[0mreshape\u001b[0m\u001b[0;34m(\u001b[0m\u001b[0;34m-\u001b[0m\u001b[0;36m1\u001b[0m\u001b[0;34m,\u001b[0m\u001b[0;36m2\u001b[0m\u001b[0;34m)\u001b[0m\u001b[0;34m)\u001b[0m\u001b[0;34m==\u001b[0m\u001b[0;36m1\u001b[0m\u001b[0;34m:\u001b[0m\u001b[0;34m\u001b[0m\u001b[0;34m\u001b[0m\u001b[0m\n\u001b[0m\u001b[1;32m    110\u001b[0m                 \u001b[0mregions\u001b[0m\u001b[0;34m,\u001b[0m \u001b[0msucc_seed_pts\u001b[0m \u001b[0;34m=\u001b[0m \u001b[0mgenerate_regions\u001b[0m\u001b[0;34m(\u001b[0m\u001b[0mpts\u001b[0m\u001b[0;34m.\u001b[0m\u001b[0mreshape\u001b[0m\u001b[0;34m(\u001b[0m\u001b[0;36m1\u001b[0m\u001b[0;34m,\u001b[0m\u001b[0;36m2\u001b[0m\u001b[0;34m)\u001b[0m\u001b[0;34m,\u001b[0m \u001b[0mA_obs\u001b[0m\u001b[0;34m,\u001b[0m \u001b[0mb_obs\u001b[0m\u001b[0;34m,\u001b[0m \u001b[0mA_dom\u001b[0m\u001b[0;34m,\u001b[0m \u001b[0mb_dom\u001b[0m\u001b[0;34m)\u001b[0m\u001b[0;34m\u001b[0m\u001b[0;34m\u001b[0m\u001b[0m\n\u001b[1;32m    111\u001b[0m                 \u001b[0mcov\u001b[0m \u001b[0;34m=\u001b[0m \u001b[0mestimate_coverage\u001b[0m\u001b[0;34m(\u001b[0m\u001b[0mregions\u001b[0m\u001b[0;34m+\u001b[0m\u001b[0mold_regs\u001b[0m\u001b[0;34m)\u001b[0m\u001b[0;34m\u001b[0m\u001b[0;34m\u001b[0m\u001b[0m\n",
      "\u001b[0;31mValueError\u001b[0m: cannot reshape array of size 15 into shape (2)"
     ]
    }
   ],
   "source": []
  },
  {
   "cell_type": "code",
   "execution_count": 20,
   "id": "48bf4277",
   "metadata": {},
   "outputs": [],
   "source": [
    "village.plot_regions(r, opacity=0.4)"
   ]
  },
  {
   "cell_type": "code",
   "execution_count": null,
   "id": "b542518e",
   "metadata": {},
   "outputs": [],
   "source": []
  },
  {
   "cell_type": "code",
   "execution_count": 24,
   "id": "2aad1dab",
   "metadata": {},
   "outputs": [],
   "source": [
    "import numpy as np\n",
    "\n",
    "from meshcat import Visualizer\n",
    "from meshcat.geometry import Box, Sphere, Cylinder, MeshLambertMaterial\n",
    "from meshcat.transformations import translation_matrix, rotation_matrix\n",
    "from matplotlib.colors import to_hex as _to_hex\n",
    "from pydrake.all import HPolyhedron\n",
    "import mcubes\n",
    "from  pydrake.all import ( \n",
    "                          Rgba,TriangleSurfaceMesh, SurfaceTriangle,\n",
    "                          MathematicalProgram, SnoptSolver, le)\n",
    "import colorsys\n",
    "import itertools\n",
    "from fractions import Fraction\n",
    "import random\n",
    "from functools import partial\n",
    "from meshcat.geometry import TriangularMeshGeometry\n",
    "to_hex = lambda rgb: '0x' + _to_hex(rgb)[1:]\n",
    "def infinite_hues():\n",
    "    yield Fraction(0)\n",
    "    for k in itertools.count():\n",
    "        i = 2**k # zenos_dichotomy\n",
    "        for j in range(1,i,2):\n",
    "            yield Fraction(j,i)\n",
    "\n",
    "def hue_to_hsvs(h: Fraction):\n",
    "    # tweak values to adjust scheme\n",
    "    for s in [Fraction(6,10)]:\n",
    "        for v in [Fraction(6,10), Fraction(9,10)]:\n",
    "            yield (h, s, v)\n",
    "\n",
    "def rgb_to_css(rgb) -> str:\n",
    "    uint8tuple = map(lambda y: int(y*255), rgb)\n",
    "    return tuple(uint8tuple)\n",
    "\n",
    "def css_to_html(css):\n",
    "    return f\"<text style=background-color:{css}>&nbsp;&nbsp;&nbsp;&nbsp;</text>\"\n",
    "\n",
    "def n_colors(n=33, rgbs_ret = False):\n",
    "    hues = infinite_hues()\n",
    "    hsvs = itertools.chain.from_iterable(hue_to_hsvs(hue) for hue in hues)\n",
    "    rgbs = (colorsys.hsv_to_rgb(*hsv) for hsv in hsvs)\n",
    "    csss = (rgb_to_css(rgb) for rgb in rgbs)\n",
    "    to_ret = list(itertools.islice(csss, n)) if rgbs_ret else list(itertools.islice(csss, n))\n",
    "    return to_ret\n",
    "\n",
    "def n_colors_random(n=33, rgbs_ret = False):\n",
    "    colors = n_colors(100 * n, rgbs_ret)\n",
    "    return random.sample(colors, n)\n"
   ]
  },
  {
   "cell_type": "code",
   "execution_count": 34,
   "id": "9de8421a",
   "metadata": {},
   "outputs": [],
   "source": [
    "#village.plot_regions(r)\n",
    "self = village\n",
    "def plot_regions( regions, ellipses = None,\n",
    "                     region_suffix = '', colors = None,\n",
    "                     wireframe = False,\n",
    "                     opacity = 0.7,\n",
    "                     fill = True,\n",
    "                     line_width = 10,\n",
    "                     darken_factor = .2,\n",
    "                     el_opacity = 0.3):\n",
    "    if colors is None:\n",
    "        colors = n_colors_random(len(regions), rgbs_ret=True)\n",
    "\n",
    "    for i, region in enumerate(regions):\n",
    "        print(colors[i])\n",
    "        c = tuple([col/255 for col in colors[i]])#,opacity)\n",
    "\n",
    "        prefix = f\"/cfree/regions{region_suffix}/{i}\"\n",
    "        name = prefix + \"/hpoly\"\n",
    "        if region.ambient_dimension() == 3:\n",
    "            plot_hpoly3d(name, region,\n",
    "                         c, wireframe = wireframe, resolution = 30, opacity = opacity)\n",
    "            \n",
    "def get_AABB_limits( hpoly, dim = 3):\n",
    "    max_limits = []\n",
    "    min_limits = []\n",
    "    A = hpoly.A()\n",
    "    b = hpoly.b()\n",
    "\n",
    "    for idx in range(dim):\n",
    "        aabbprog = MathematicalProgram()\n",
    "        x = aabbprog.NewContinuousVariables(dim, 'x')\n",
    "        cost = x[idx]\n",
    "        aabbprog.AddCost(cost)\n",
    "        aabbprog.AddConstraint(le(A@x,b))\n",
    "        solver = SnoptSolver()\n",
    "        result = solver.Solve(aabbprog)\n",
    "        min_limits.append(result.get_optimal_cost()-0.01)\n",
    "        aabbprog = MathematicalProgram()\n",
    "        x = aabbprog.NewContinuousVariables(dim, 'x')\n",
    "        cost = -x[idx]\n",
    "        aabbprog.AddCost(cost)\n",
    "        aabbprog.AddConstraint(le(A@x,b))\n",
    "        solver = SnoptSolver()\n",
    "        result = solver.Solve(aabbprog)\n",
    "        max_limits.append(-result.get_optimal_cost() + 0.01)\n",
    "    return max_limits, min_limits\n",
    "\n",
    "def get_plot_poly_mesh(region, resolution):\n",
    "\n",
    "        def inpolycheck(q0, q1, q2, A, b):\n",
    "            q = np.array([q0, q1, q2])\n",
    "            res = np.min(1.0 * (A @ q - b <= 0))\n",
    "            # print(res)\n",
    "            return res\n",
    "\n",
    "        aabb_max, aabb_min = get_AABB_limits(region)\n",
    "\n",
    "        col_hand = partial(inpolycheck, A=region.A(), b=region.b())\n",
    "        vertices, triangles = mcubes.marching_cubes_func(tuple(aabb_min),\n",
    "                                                        tuple(aabb_max),\n",
    "                                                        resolution,\n",
    "                                                        resolution,\n",
    "                                                        resolution,\n",
    "                                                        col_hand,\n",
    "                                                        0.5)\n",
    "        tri_drake = [SurfaceTriangle(*t) for t in triangles]\n",
    "        return vertices, triangles #, #tri_drake\n",
    "\n",
    "def plot_hpoly3d(name, hpoly, color, wireframe = True, resolution = 30, opacity = 1.0):\n",
    "    verts, triangles = get_plot_poly_mesh(hpoly,\n",
    "                                            resolution=resolution)\n",
    "    \n",
    "    print(triangles)\n",
    "    box = self[name]\n",
    "    #pos = np.array(pos, dtype=float)\n",
    "    col = to_hex(color)\n",
    "    material = MeshLambertMaterial(color=col, opacity=opacity)\n",
    "    box.set_object(TriangularMeshGeometry(verts,triangles), material)\n",
    "    \n",
    "    # self.set_object(name, TriangleSurfaceMesh(triangles, verts),\n",
    "    #                         color, wireframe=wireframe)"
   ]
  },
  {
   "cell_type": "code",
   "execution_count": 35,
   "id": "5b0850a6",
   "metadata": {},
   "outputs": [
    {
     "name": "stdout",
     "output_type": "stream",
     "text": [
      "(61, 153, 94)\n",
      "[[   2    1    0]\n",
      " [   1    4    3]\n",
      " [   0    1    3]\n",
      " ...\n",
      " [3993 3992 3410]\n",
      " [3411 3993 3410]\n",
      " [3993 3411 3406]]\n",
      "(91, 229, 122)\n",
      "[[   2    1    0]\n",
      " [   1    4    3]\n",
      " [   0    1    3]\n",
      " ...\n",
      " [4277 4276 4078]\n",
      " [4079 4277 4078]\n",
      " [4277 4079 4075]]\n",
      "(100, 153, 61)\n",
      "[[   2    1    0]\n",
      " [   1    4    3]\n",
      " [   0    1    3]\n",
      " ...\n",
      " [3273 3272 3240]\n",
      " [3241 3273 3240]\n",
      " [3273 3241 3225]]\n",
      "(153, 104, 61)\n",
      "[[   2    1    0]\n",
      " [   1    4    3]\n",
      " [   0    1    3]\n",
      " ...\n",
      " [3651 3650 3605]\n",
      " [3606 3651 3605]\n",
      " [3651 3606 3597]]\n",
      "(118, 91, 229)\n",
      "[[   2    1    0]\n",
      " [   1    4    3]\n",
      " [   0    1    3]\n",
      " ...\n",
      " [3288 3832 3292]\n",
      " [3833 3291 3293]\n",
      " [3833 3293 3292]]\n"
     ]
    }
   ],
   "source": [
    "plot_regions(r)"
   ]
  },
  {
   "cell_type": "code",
   "execution_count": null,
   "id": "6287ac67",
   "metadata": {},
   "outputs": [],
   "source": []
  },
  {
   "cell_type": "code",
   "execution_count": 5,
   "id": "43309fa7",
   "metadata": {},
   "outputs": [
    {
     "name": "stdout",
     "output_type": "stream",
     "text": [
      "logdir exists\n",
      "[19:41:47] [VisSeeder] GuardInsertion attempts M: 13\n",
      "[19:41:47] [VisSeeder] 0.95 probability that unseen region is less than 20.0 '%' of Cfree \n"
     ]
    },
    {
     "name": "stderr",
     "output_type": "stream",
     "text": [
      "100%|██████████| 1/1 [00:00<00:00, 25266.89it/s]"
     ]
    },
    {
     "name": "stdout",
     "output_type": "stream",
     "text": [
      "[19:41:47] [VisSeeder] Found  1  hidden points\n",
      "[19:41:47]  1 / 1\n"
     ]
    },
    {
     "name": "stderr",
     "output_type": "stream",
     "text": [
      "\n",
      "100%|██████████| 1/1 [00:00<00:00, 6141.00it/s]\n"
     ]
    },
    {
     "name": "stdout",
     "output_type": "stream",
     "text": [
      "[19:41:52] [VisSeeder] Found  1  hidden points\n",
      "[19:41:52]  1 / 1\n"
     ]
    },
    {
     "name": "stderr",
     "output_type": "stream",
     "text": [
      "100%|██████████| 1/1 [00:00<00:00, 31068.92it/s]\n"
     ]
    },
    {
     "name": "stdout",
     "output_type": "stream",
     "text": [
      "[19:41:58] [VisSeeder] Found  1  hidden points\n",
      "[19:41:58]  1 / 1\n"
     ]
    },
    {
     "name": "stderr",
     "output_type": "stream",
     "text": [
      "100%|██████████| 1/1 [00:00<00:00, 29330.80it/s]\n"
     ]
    },
    {
     "name": "stdout",
     "output_type": "stream",
     "text": [
      "[19:42:03] [VisSeeder] Found  1  hidden points\n",
      "[19:42:03]  1 / 1\n"
     ]
    },
    {
     "name": "stderr",
     "output_type": "stream",
     "text": [
      "100%|██████████| 1/1 [00:00<00:00, 28926.23it/s]\n"
     ]
    },
    {
     "name": "stdout",
     "output_type": "stream",
     "text": [
      "[19:42:09] [VisSeeder] Found  1  hidden points\n",
      "[19:42:09]  1 / 1\n"
     ]
    },
    {
     "name": "stderr",
     "output_type": "stream",
     "text": [
      "100%|██████████| 1/1 [00:00<00:00, 30393.51it/s]\n"
     ]
    },
    {
     "name": "stdout",
     "output_type": "stream",
     "text": [
      "[19:42:14] [VisSeeder] Found  1  hidden points\n",
      "[19:42:14]  1 / 1\n"
     ]
    },
    {
     "name": "stderr",
     "output_type": "stream",
     "text": [
      "100%|██████████| 1/1 [00:00<00:00, 26214.40it/s]\n"
     ]
    },
    {
     "name": "stdout",
     "output_type": "stream",
     "text": [
      "[19:42:22] [VisSeeder] Found  1  hidden points\n",
      "[19:42:22]  1 / 1\n"
     ]
    },
    {
     "name": "stderr",
     "output_type": "stream",
     "text": [
      "100%|██████████| 1/1 [00:00<00:00, 30393.51it/s]\n"
     ]
    },
    {
     "name": "stdout",
     "output_type": "stream",
     "text": [
      "[19:42:31] [VisSeeder] Found  1  hidden points\n",
      "[19:42:31]  1 / 1\n"
     ]
    },
    {
     "name": "stderr",
     "output_type": "stream",
     "text": [
      "100%|██████████| 1/1 [00:00<00:00, 24244.53it/s]\n"
     ]
    },
    {
     "name": "stdout",
     "output_type": "stream",
     "text": [
      "[19:42:37] [VisSeeder] Found  1  hidden points\n",
      "[19:42:37]  1 / 1\n"
     ]
    },
    {
     "name": "stderr",
     "output_type": "stream",
     "text": [
      "100%|██████████| 1/1 [00:00<00:00, 30393.51it/s]\n"
     ]
    },
    {
     "name": "stdout",
     "output_type": "stream",
     "text": [
      "[19:42:44] [VisSeeder] Found  1  hidden points\n",
      "[19:42:44]  1 / 1\n"
     ]
    },
    {
     "name": "stderr",
     "output_type": "stream",
     "text": [
      "100%|██████████| 1/1 [00:00<00:00, 31300.78it/s]\n"
     ]
    },
    {
     "name": "stdout",
     "output_type": "stream",
     "text": [
      "[19:42:53] [VisSeeder] Found  1  hidden points\n",
      "[19:42:53]  1 / 1\n"
     ]
    },
    {
     "name": "stderr",
     "output_type": "stream",
     "text": [
      "100%|██████████| 1/1 [00:00<00:00, 31068.92it/s]\n"
     ]
    },
    {
     "name": "stdout",
     "output_type": "stream",
     "text": [
      "[19:43:01] [VisSeeder] Found  1  hidden points\n",
      "[19:43:01]  1 / 1\n"
     ]
    },
    {
     "name": "stderr",
     "output_type": "stream",
     "text": [
      "100%|██████████| 1/1 [00:00<00:00, 32513.98it/s]\n"
     ]
    },
    {
     "name": "stdout",
     "output_type": "stream",
     "text": [
      "[19:43:09] [VisSeeder] Found  1  hidden points\n",
      "[19:43:09]  1 / 1\n"
     ]
    },
    {
     "name": "stderr",
     "output_type": "stream",
     "text": [
      "100%|██████████| 1/1 [00:00<00:00, 30393.51it/s]\n"
     ]
    },
    {
     "name": "stdout",
     "output_type": "stream",
     "text": [
      "[19:43:14] [VisSeeder] Found  1  hidden points\n",
      "[19:43:14]  1 / 1\n"
     ]
    },
    {
     "name": "stderr",
     "output_type": "stream",
     "text": [
      "100%|██████████| 1/1 [00:00<00:00, 19784.45it/s]\n"
     ]
    },
    {
     "name": "stdout",
     "output_type": "stream",
     "text": [
      "[19:43:20] [VisSeeder] Found  1  hidden points\n",
      "[19:43:20]  1 / 1\n"
     ]
    },
    {
     "name": "stderr",
     "output_type": "stream",
     "text": [
      "100%|██████████| 1/1 [00:00<00:00, 29330.80it/s]\n"
     ]
    },
    {
     "name": "stdout",
     "output_type": "stream",
     "text": [
      "[19:43:26] [VisSeeder] Found  1  hidden points\n",
      "[19:43:26]  1 / 1\n"
     ]
    },
    {
     "name": "stderr",
     "output_type": "stream",
     "text": [
      "100%|██████████| 1/1 [00:00<00:00, 31068.92it/s]\n"
     ]
    },
    {
     "name": "stdout",
     "output_type": "stream",
     "text": [
      "[19:43:33] [VisSeeder] Found  1  hidden points\n",
      "[19:43:33]  1 / 1\n"
     ]
    },
    {
     "name": "stderr",
     "output_type": "stream",
     "text": [
      "100%|██████████| 1/1 [00:00<00:00, 30393.51it/s]\n"
     ]
    },
    {
     "name": "stdout",
     "output_type": "stream",
     "text": [
      "[19:43:39] [VisSeeder] Found  1  hidden points\n",
      "[19:43:39]  1 / 1\n"
     ]
    },
    {
     "name": "stderr",
     "output_type": "stream",
     "text": [
      "100%|██████████| 1/1 [00:00<00:00, 26886.56it/s]\n"
     ]
    },
    {
     "name": "stdout",
     "output_type": "stream",
     "text": [
      "[19:43:45] [VisSeeder] Found  1  hidden points\n",
      "[19:43:45]  1 / 1\n"
     ]
    },
    {
     "name": "stderr",
     "output_type": "stream",
     "text": [
      "100%|██████████| 1/1 [00:00<00:00, 31775.03it/s]\n"
     ]
    },
    {
     "name": "stdout",
     "output_type": "stream",
     "text": [
      "[19:43:50] [VisSeeder] Found  1  hidden points\n",
      "[19:43:50]  1 / 1\n"
     ]
    },
    {
     "name": "stderr",
     "output_type": "stream",
     "text": [
      "100%|██████████| 1/1 [00:00<00:00, 20661.60it/s]\n"
     ]
    },
    {
     "name": "stdout",
     "output_type": "stream",
     "text": [
      "[19:43:56] [VisSeeder] Found  1  hidden points\n",
      "[19:43:56]  1 / 1\n"
     ]
    },
    {
     "name": "stderr",
     "output_type": "stream",
     "text": [
      "100%|██████████| 1/1 [00:00<00:00, 28339.89it/s]\n"
     ]
    },
    {
     "name": "stdout",
     "output_type": "stream",
     "text": [
      "[19:44:03] [VisSeeder] Found  1  hidden points\n",
      "[19:44:03]  1 / 1\n"
     ]
    },
    {
     "name": "stderr",
     "output_type": "stream",
     "text": [
      "100%|██████████| 1/1 [00:00<00:00, 31536.12it/s]\n"
     ]
    },
    {
     "name": "stdout",
     "output_type": "stream",
     "text": [
      "[19:44:07] [VisSeeder] Found  1  hidden points\n",
      "[19:44:07]  1 / 1\n"
     ]
    },
    {
     "name": "stderr",
     "output_type": "stream",
     "text": [
      "100%|██████████| 1/1 [00:00<00:00, 24966.10it/s]\n"
     ]
    },
    {
     "name": "stdout",
     "output_type": "stream",
     "text": [
      "[19:44:18] [VisSeeder] Found  1  hidden points\n",
      "[19:44:18]  1 / 1\n"
     ]
    },
    {
     "name": "stderr",
     "output_type": "stream",
     "text": [
      "100%|██████████| 1/1 [00:00<00:00, 20262.34it/s]\n"
     ]
    },
    {
     "name": "stdout",
     "output_type": "stream",
     "text": [
      "[19:44:26] [VisSeeder] Found  1  hidden points\n",
      "[19:44:26]  1 / 1\n"
     ]
    },
    {
     "name": "stderr",
     "output_type": "stream",
     "text": [
      "100%|██████████| 1/1 [00:00<00:00, 31068.92it/s]\n"
     ]
    },
    {
     "name": "stdout",
     "output_type": "stream",
     "text": [
      "[19:44:34] [VisSeeder] Found  1  hidden points\n",
      "[19:44:34]  1 / 1\n"
     ]
    },
    {
     "name": "stderr",
     "output_type": "stream",
     "text": [
      "100%|██████████| 1/1 [00:00<00:00, 30393.51it/s]\n"
     ]
    },
    {
     "name": "stdout",
     "output_type": "stream",
     "text": [
      "[19:44:41] [VisSeeder] Found  1  hidden points\n",
      "[19:44:41]  1 / 1\n"
     ]
    },
    {
     "name": "stderr",
     "output_type": "stream",
     "text": [
      "100%|██████████| 1/1 [00:00<00:00, 31300.78it/s]\n"
     ]
    },
    {
     "name": "stdout",
     "output_type": "stream",
     "text": [
      "[19:44:53] [VisSeeder] Found  1  hidden points\n",
      "[19:44:53]  1 / 1\n"
     ]
    },
    {
     "name": "stderr",
     "output_type": "stream",
     "text": [
      "100%|██████████| 1/1 [00:00<00:00, 29746.84it/s]\n"
     ]
    },
    {
     "name": "stdout",
     "output_type": "stream",
     "text": [
      "[19:45:02] [VisSeeder] Found  1  hidden points\n",
      "[19:45:02]  1 / 1\n"
     ]
    },
    {
     "name": "stderr",
     "output_type": "stream",
     "text": [
      "100%|██████████| 1/1 [00:00<00:00, 29330.80it/s]\n"
     ]
    },
    {
     "name": "stdout",
     "output_type": "stream",
     "text": [
      "[19:45:12] [VisSeeder] Found  1  hidden points\n",
      "[19:45:12]  1 / 1\n"
     ]
    },
    {
     "name": "stderr",
     "output_type": "stream",
     "text": [
      "100%|██████████| 1/1 [00:00<00:00, 31068.92it/s]\n"
     ]
    },
    {
     "name": "stdout",
     "output_type": "stream",
     "text": [
      "[19:45:19] [VisSeeder] Found  1  hidden points\n",
      "[19:45:19]  1 / 1\n"
     ]
    },
    {
     "name": "stderr",
     "output_type": "stream",
     "text": [
      "100%|██████████| 1/1 [00:00<00:00, 30615.36it/s]\n"
     ]
    },
    {
     "name": "stdout",
     "output_type": "stream",
     "text": [
      "[19:45:26] [VisSeeder] Found  1  hidden points\n",
      "[19:45:26]  1 / 1\n"
     ]
    },
    {
     "name": "stderr",
     "output_type": "stream",
     "text": [
      "100%|██████████| 1/1 [00:00<00:00, 30393.51it/s]\n"
     ]
    },
    {
     "name": "stdout",
     "output_type": "stream",
     "text": [
      "[19:45:34] [VisSeeder] Found  1  hidden points\n",
      "[19:45:34]  1 / 1\n"
     ]
    },
    {
     "name": "stderr",
     "output_type": "stream",
     "text": [
      "100%|██████████| 1/1 [00:00<00:00, 26715.31it/s]\n"
     ]
    },
    {
     "name": "stdout",
     "output_type": "stream",
     "text": [
      "[19:45:44] [VisSeeder] Found  1  hidden points\n",
      "[19:45:44]  1 / 1\n"
     ]
    },
    {
     "name": "stderr",
     "output_type": "stream",
     "text": [
      "100%|██████████| 1/1 [00:00<00:00, 25266.89it/s]\n"
     ]
    },
    {
     "name": "stdout",
     "output_type": "stream",
     "text": [
      "[19:45:50] [VisSeeder] Found  1  hidden points\n",
      "[19:45:50]  1 / 1\n"
     ]
    },
    {
     "name": "stderr",
     "output_type": "stream",
     "text": [
      "100%|██████████| 1/1 [00:00<00:00, 21076.90it/s]\n"
     ]
    },
    {
     "name": "stdout",
     "output_type": "stream",
     "text": [
      "[19:45:55] [VisSeeder] Found  1  hidden points\n",
      "[19:45:55]  1 / 1\n"
     ]
    },
    {
     "name": "stderr",
     "output_type": "stream",
     "text": [
      "100%|██████████| 1/1 [00:00<00:00, 30840.47it/s]\n"
     ]
    },
    {
     "name": "stdout",
     "output_type": "stream",
     "text": [
      "[19:46:06] [VisSeeder] Found  1  hidden points\n",
      "[19:46:06]  1 / 1\n"
     ]
    },
    {
     "name": "stderr",
     "output_type": "stream",
     "text": [
      "100%|██████████| 1/1 [00:00<00:00, 27962.03it/s]\n"
     ]
    },
    {
     "name": "stdout",
     "output_type": "stream",
     "text": [
      "[19:46:11] [VisSeeder] Found  1  hidden points\n",
      "[19:46:11]  1 / 1\n"
     ]
    },
    {
     "name": "stderr",
     "output_type": "stream",
     "text": [
      "100%|██████████| 1/1 [00:00<00:00, 31300.78it/s]\n"
     ]
    },
    {
     "name": "stdout",
     "output_type": "stream",
     "text": [
      "[19:46:19] [VisSeeder] Found  1  hidden points\n",
      "[19:46:19]  1 / 1\n"
     ]
    },
    {
     "name": "stderr",
     "output_type": "stream",
     "text": [
      "100%|██████████| 1/1 [00:00<00:00, 31300.78it/s]\n"
     ]
    },
    {
     "name": "stdout",
     "output_type": "stream",
     "text": [
      "[19:46:27] [VisSeeder] Found  1  hidden points\n",
      "[19:46:27]  1 / 1\n"
     ]
    },
    {
     "name": "stderr",
     "output_type": "stream",
     "text": [
      "100%|██████████| 1/1 [00:00<00:00, 31068.92it/s]\n"
     ]
    },
    {
     "name": "stdout",
     "output_type": "stream",
     "text": [
      "[19:46:35] [VisSeeder] Found  1  hidden points\n",
      "[19:46:35]  1 / 1\n"
     ]
    },
    {
     "name": "stderr",
     "output_type": "stream",
     "text": [
      "100%|██████████| 1/1 [00:00<00:00, 30174.85it/s]\n"
     ]
    },
    {
     "name": "stdout",
     "output_type": "stream",
     "text": [
      "[19:46:40] [VisSeeder] Found  1  hidden points\n",
      "[19:46:40]  1 / 1\n"
     ]
    },
    {
     "name": "stderr",
     "output_type": "stream",
     "text": [
      "100%|██████████| 1/1 [00:00<00:00, 31536.12it/s]\n"
     ]
    },
    {
     "name": "stdout",
     "output_type": "stream",
     "text": [
      "[19:46:49] [VisSeeder] Found  1  hidden points\n",
      "[19:46:49]  1 / 1\n"
     ]
    },
    {
     "name": "stderr",
     "output_type": "stream",
     "text": [
      "100%|██████████| 1/1 [00:00<00:00, 31775.03it/s]\n"
     ]
    },
    {
     "name": "stdout",
     "output_type": "stream",
     "text": [
      "[19:46:54] [VisSeeder] Found  1  hidden points\n",
      "[19:46:54]  1 / 1\n"
     ]
    },
    {
     "name": "stderr",
     "output_type": "stream",
     "text": [
      "100%|██████████| 1/1 [00:00<00:00, 28926.23it/s]\n"
     ]
    },
    {
     "name": "stdout",
     "output_type": "stream",
     "text": [
      "[19:47:04] [VisSeeder] Found  1  hidden points\n",
      "[19:47:04]  1 / 1\n"
     ]
    },
    {
     "name": "stderr",
     "output_type": "stream",
     "text": [
      "100%|██████████| 1/1 [00:00<00:00, 32017.59it/s]\n"
     ]
    },
    {
     "name": "stdout",
     "output_type": "stream",
     "text": [
      "[19:47:10] [VisSeeder] Found  1  hidden points\n",
      "[19:47:10]  1 / 1\n"
     ]
    },
    {
     "name": "stderr",
     "output_type": "stream",
     "text": [
      "100%|██████████| 1/1 [00:00<00:00, 29537.35it/s]\n"
     ]
    },
    {
     "name": "stdout",
     "output_type": "stream",
     "text": [
      "[19:47:18] [VisSeeder] Found  1  hidden points\n",
      "[19:47:18]  1 / 1\n"
     ]
    },
    {
     "name": "stderr",
     "output_type": "stream",
     "text": [
      "100%|██████████| 1/1 [00:00<00:00, 30615.36it/s]\n"
     ]
    },
    {
     "name": "stdout",
     "output_type": "stream",
     "text": [
      "[19:47:26] [VisSeeder] Found  1  hidden points\n",
      "[19:47:26]  1 / 1\n"
     ]
    },
    {
     "name": "stderr",
     "output_type": "stream",
     "text": [
      "100%|██████████| 1/1 [00:00<00:00, 25890.77it/s]\n"
     ]
    },
    {
     "name": "stdout",
     "output_type": "stream",
     "text": [
      "[19:47:38] [VisSeeder] Found  1  hidden points\n",
      "[19:47:38]  1 / 1\n"
     ]
    },
    {
     "name": "stderr",
     "output_type": "stream",
     "text": [
      "100%|██████████| 1/1 [00:00<00:00, 28532.68it/s]\n"
     ]
    },
    {
     "name": "stdout",
     "output_type": "stream",
     "text": [
      "[19:47:44] [VisSeeder] Found  1  hidden points\n",
      "[19:47:44]  1 / 1\n"
     ]
    },
    {
     "name": "stderr",
     "output_type": "stream",
     "text": [
      "100%|██████████| 1/1 [00:00<00:00, 29959.31it/s]\n"
     ]
    },
    {
     "name": "stdout",
     "output_type": "stream",
     "text": [
      "[19:47:51] [VisSeeder] Found  1  hidden points\n",
      "[19:47:51]  1 / 1\n"
     ]
    },
    {
     "name": "stderr",
     "output_type": "stream",
     "text": [
      "100%|██████████| 1/1 [00:00<00:00, 31775.03it/s]\n"
     ]
    },
    {
     "name": "stdout",
     "output_type": "stream",
     "text": [
      "[19:48:00] [VisSeeder] Found  1  hidden points\n",
      "[19:48:00]  1 / 1\n"
     ]
    },
    {
     "name": "stderr",
     "output_type": "stream",
     "text": [
      "100%|██████████| 1/1 [00:00<00:00, 28532.68it/s]\n"
     ]
    },
    {
     "name": "stdout",
     "output_type": "stream",
     "text": [
      "[19:48:07] [VisSeeder] Found  1  hidden points\n",
      "[19:48:07]  1 / 1\n"
     ]
    },
    {
     "name": "stderr",
     "output_type": "stream",
     "text": [
      "100%|██████████| 1/1 [00:00<00:00, 28339.89it/s]\n"
     ]
    },
    {
     "name": "stdout",
     "output_type": "stream",
     "text": [
      "[19:48:12] [VisSeeder] Found  1  hidden points\n",
      "[19:48:12]  1 / 1\n"
     ]
    },
    {
     "name": "stderr",
     "output_type": "stream",
     "text": [
      "100%|██████████| 1/1 [00:00<00:00, 28339.89it/s]\n"
     ]
    },
    {
     "name": "stdout",
     "output_type": "stream",
     "text": [
      "[19:48:19] [VisSeeder] Found  1  hidden points\n",
      "[19:48:19]  1 / 1\n"
     ]
    },
    {
     "name": "stderr",
     "output_type": "stream",
     "text": [
      "100%|██████████| 1/1 [00:00<00:00, 30840.47it/s]\n"
     ]
    },
    {
     "name": "stdout",
     "output_type": "stream",
     "text": [
      "[19:48:25] [VisSeeder] Found  1  hidden points\n",
      "[19:48:25]  1 / 1\n"
     ]
    },
    {
     "name": "stderr",
     "output_type": "stream",
     "text": [
      "100%|██████████| 1/1 [00:00<00:00, 29537.35it/s]\n"
     ]
    },
    {
     "name": "stdout",
     "output_type": "stream",
     "text": [
      "[19:48:30] [VisSeeder] Found  1  hidden points\n",
      "[19:48:30]  1 / 1\n"
     ]
    },
    {
     "name": "stderr",
     "output_type": "stream",
     "text": [
      "100%|██████████| 1/1 [00:00<00:00, 31536.12it/s]\n"
     ]
    },
    {
     "name": "stdout",
     "output_type": "stream",
     "text": [
      "[19:48:40] [VisSeeder] Found  1  hidden points\n",
      "[19:48:40]  1 / 1\n"
     ]
    },
    {
     "name": "stderr",
     "output_type": "stream",
     "text": [
      "100%|██████████| 1/1 [00:00<00:00, 24818.37it/s]\n"
     ]
    },
    {
     "name": "stdout",
     "output_type": "stream",
     "text": [
      "[19:48:45] [VisSeeder] Found  1  hidden points\n",
      "[19:48:45]  1 / 1\n",
      "Iris failed at  [0.66016605 2.0220123  0.45910749]\n"
     ]
    },
    {
     "name": "stderr",
     "output_type": "stream",
     "text": [
      "100%|██████████| 1/1 [00:00<00:00, 29959.31it/s]\n"
     ]
    },
    {
     "name": "stdout",
     "output_type": "stream",
     "text": [
      "[19:48:51] [VisSeeder] Found  1  hidden points\n",
      "[19:48:51]  1 / 1\n"
     ]
    },
    {
     "name": "stderr",
     "output_type": "stream",
     "text": [
      "100%|██████████| 1/1 [00:00<00:00, 30840.47it/s]"
     ]
    }
   ],
   "source": []
  },
  {
   "cell_type": "code",
   "execution_count": 27,
   "id": "6533d4ba",
   "metadata": {},
   "outputs": [],
   "source": []
  },
  {
   "cell_type": "code",
   "execution_count": 28,
   "id": "03cb0450",
   "metadata": {},
   "outputs": [
    {
     "name": "stderr",
     "output_type": "stream",
     "text": [
      "  0%|          | 0/500 [00:00<?, ?it/s]"
     ]
    },
    {
     "name": "stderr",
     "output_type": "stream",
     "text": [
      " 42%|████▏     | 208/500 [02:03<02:53,  1.69it/s]\n"
     ]
    },
    {
     "ename": "KeyboardInterrupt",
     "evalue": "",
     "output_type": "error",
     "traceback": [
      "\u001b[0;31m---------------------------------------------------------------------------\u001b[0m",
      "\u001b[0;31mKeyboardInterrupt\u001b[0m                         Traceback (most recent call last)",
      "\u001b[0;32m<ipython-input-28-98be9c75e9ea>\u001b[0m in \u001b[0;36m<module>\u001b[0;34m\u001b[0m\n\u001b[0;32m----> 1\u001b[0;31m \u001b[0mad_mat\u001b[0m \u001b[0;34m=\u001b[0m \u001b[0mvgraph_builder\u001b[0m\u001b[0;34m(\u001b[0m\u001b[0mpts\u001b[0m\u001b[0;34m,\u001b[0m \u001b[0;34m[\u001b[0m\u001b[0;34m]\u001b[0m\u001b[0;34m,\u001b[0m \u001b[0;32mFalse\u001b[0m\u001b[0;34m)\u001b[0m\u001b[0;34m\u001b[0m\u001b[0;34m\u001b[0m\u001b[0m\n\u001b[0m",
      "\u001b[0;32m<ipython-input-23-fe5e22d6771f>\u001b[0m in \u001b[0;36mvgraph_builder\u001b[0;34m(points, regions, region_vis_obstacles)\u001b[0m\n\u001b[1;32m     28\u001b[0m                     \u001b[0madj_mat\u001b[0m\u001b[0;34m[\u001b[0m\u001b[0mi\u001b[0m\u001b[0;34m,\u001b[0m\u001b[0mj\u001b[0m\u001b[0;34m]\u001b[0m \u001b[0;34m=\u001b[0m \u001b[0madj_mat\u001b[0m\u001b[0;34m[\u001b[0m\u001b[0mj\u001b[0m\u001b[0;34m,\u001b[0m\u001b[0mi\u001b[0m\u001b[0;34m]\u001b[0m \u001b[0;34m=\u001b[0m \u001b[0;36m1\u001b[0m\u001b[0;34m\u001b[0m\u001b[0;34m\u001b[0m\u001b[0m\n\u001b[1;32m     29\u001b[0m             \u001b[0;32melse\u001b[0m\u001b[0;34m:\u001b[0m\u001b[0;34m\u001b[0m\u001b[0;34m\u001b[0m\u001b[0m\n\u001b[0;32m---> 30\u001b[0;31m                 \u001b[0;32mif\u001b[0m \u001b[0mvis_reg\u001b[0m\u001b[0;34m(\u001b[0m\u001b[0mpoint\u001b[0m\u001b[0;34m,\u001b[0m \u001b[0mother\u001b[0m\u001b[0;34m,\u001b[0m \u001b[0mvillage\u001b[0m\u001b[0;34m,\u001b[0m \u001b[0;34m[\u001b[0m\u001b[0;34m]\u001b[0m\u001b[0;34m)\u001b[0m\u001b[0;34m:\u001b[0m\u001b[0;34m\u001b[0m\u001b[0;34m\u001b[0m\u001b[0m\n\u001b[0m\u001b[1;32m     31\u001b[0m                     \u001b[0madj_mat\u001b[0m\u001b[0;34m[\u001b[0m\u001b[0mi\u001b[0m\u001b[0;34m,\u001b[0m\u001b[0mj\u001b[0m\u001b[0;34m]\u001b[0m \u001b[0;34m=\u001b[0m \u001b[0madj_mat\u001b[0m\u001b[0;34m[\u001b[0m\u001b[0mj\u001b[0m\u001b[0;34m,\u001b[0m\u001b[0mi\u001b[0m\u001b[0;34m]\u001b[0m \u001b[0;34m=\u001b[0m \u001b[0;36m1\u001b[0m\u001b[0;34m\u001b[0m\u001b[0;34m\u001b[0m\u001b[0m\n\u001b[1;32m     32\u001b[0m     \u001b[0;32mreturn\u001b[0m \u001b[0madj_mat\u001b[0m\u001b[0;34m.\u001b[0m\u001b[0mtoarray\u001b[0m\u001b[0;34m(\u001b[0m\u001b[0;34m)\u001b[0m\u001b[0;34m\u001b[0m\u001b[0;34m\u001b[0m\u001b[0m\n",
      "\u001b[0;32m~/git/visiris/seeding_utils.py\u001b[0m in \u001b[0;36mvis_reg\u001b[0;34m(point, other, world, regions, n_checks)\u001b[0m\n\u001b[1;32m     27\u001b[0m \u001b[0;34m\u001b[0m\u001b[0m\n\u001b[1;32m     28\u001b[0m \u001b[0;32mdef\u001b[0m \u001b[0mvis_reg\u001b[0m\u001b[0;34m(\u001b[0m\u001b[0mpoint\u001b[0m\u001b[0;34m,\u001b[0m \u001b[0mother\u001b[0m\u001b[0;34m,\u001b[0m \u001b[0mworld\u001b[0m\u001b[0;34m,\u001b[0m \u001b[0mregions\u001b[0m\u001b[0;34m,\u001b[0m \u001b[0mn_checks\u001b[0m \u001b[0;34m=\u001b[0m \u001b[0;36m50\u001b[0m\u001b[0;34m)\u001b[0m\u001b[0;34m:\u001b[0m\u001b[0;34m\u001b[0m\u001b[0;34m\u001b[0m\u001b[0m\n\u001b[0;32m---> 29\u001b[0;31m     \u001b[0;32mif\u001b[0m \u001b[0;32mnot\u001b[0m \u001b[0mworld\u001b[0m\u001b[0;34m.\u001b[0m\u001b[0mvisible\u001b[0m\u001b[0;34m(\u001b[0m\u001b[0mpoint\u001b[0m\u001b[0;34m,\u001b[0m \u001b[0mother\u001b[0m\u001b[0;34m)\u001b[0m\u001b[0;34m:\u001b[0m\u001b[0;34m\u001b[0m\u001b[0;34m\u001b[0m\u001b[0m\n\u001b[0m\u001b[1;32m     30\u001b[0m         \u001b[0;32mreturn\u001b[0m \u001b[0;32mFalse\u001b[0m\u001b[0;34m\u001b[0m\u001b[0;34m\u001b[0m\u001b[0m\n\u001b[1;32m     31\u001b[0m     \u001b[0;32melse\u001b[0m\u001b[0;34m:\u001b[0m\u001b[0;34m\u001b[0m\u001b[0;34m\u001b[0m\u001b[0m\n",
      "\u001b[0;32m~/git/visiris/uav_boxes.py\u001b[0m in \u001b[0;36mvisible\u001b[0;34m(self, a, b)\u001b[0m\n\u001b[1;32m    245\u001b[0m         \u001b[0;32mfor\u001b[0m \u001b[0mt\u001b[0m \u001b[0;32min\u001b[0m \u001b[0mtval\u001b[0m\u001b[0;34m:\u001b[0m\u001b[0;34m\u001b[0m\u001b[0;34m\u001b[0m\u001b[0m\n\u001b[1;32m    246\u001b[0m             \u001b[0mpt\u001b[0m \u001b[0;34m=\u001b[0m \u001b[0;34m(\u001b[0m\u001b[0;36m1\u001b[0m\u001b[0;34m-\u001b[0m\u001b[0mt\u001b[0m\u001b[0;34m)\u001b[0m\u001b[0;34m*\u001b[0m\u001b[0ma\u001b[0m \u001b[0;34m+\u001b[0m \u001b[0mt\u001b[0m\u001b[0;34m*\u001b[0m \u001b[0mb\u001b[0m\u001b[0;34m\u001b[0m\u001b[0;34m\u001b[0m\u001b[0m\n\u001b[0;32m--> 247\u001b[0;31m             \u001b[0;32mif\u001b[0m \u001b[0mself\u001b[0m\u001b[0;34m.\u001b[0m\u001b[0mcol_handle\u001b[0m\u001b[0;34m(\u001b[0m\u001b[0mpt\u001b[0m\u001b[0;34m)\u001b[0m\u001b[0;34m:\u001b[0m\u001b[0;34m\u001b[0m\u001b[0;34m\u001b[0m\u001b[0m\n\u001b[0m\u001b[1;32m    248\u001b[0m                 \u001b[0;32mreturn\u001b[0m \u001b[0;32mFalse\u001b[0m\u001b[0;34m\u001b[0m\u001b[0;34m\u001b[0m\u001b[0m\n\u001b[1;32m    249\u001b[0m         \u001b[0;32mreturn\u001b[0m \u001b[0;32mTrue\u001b[0m\u001b[0;34m\u001b[0m\u001b[0;34m\u001b[0m\u001b[0m\n",
      "\u001b[0;32m~/git/visiris/uav_boxes.py\u001b[0m in \u001b[0;36mcol_handle\u001b[0;34m(self, pt)\u001b[0m\n\u001b[1;32m    232\u001b[0m     \u001b[0;32mdef\u001b[0m \u001b[0mcol_handle\u001b[0m\u001b[0;34m(\u001b[0m\u001b[0mself\u001b[0m\u001b[0;34m,\u001b[0m \u001b[0mpt\u001b[0m\u001b[0;34m)\u001b[0m\u001b[0;34m:\u001b[0m\u001b[0;34m\u001b[0m\u001b[0;34m\u001b[0m\u001b[0m\n\u001b[1;32m    233\u001b[0m         \u001b[0;32mfor\u001b[0m \u001b[0mr\u001b[0m \u001b[0;32min\u001b[0m \u001b[0mself\u001b[0m\u001b[0;34m.\u001b[0m\u001b[0mobstacles\u001b[0m\u001b[0;34m:\u001b[0m\u001b[0;34m\u001b[0m\u001b[0;34m\u001b[0m\u001b[0m\n\u001b[0;32m--> 234\u001b[0;31m             \u001b[0;32mif\u001b[0m \u001b[0mr\u001b[0m\u001b[0;34m.\u001b[0m\u001b[0mPointInSet\u001b[0m\u001b[0;34m(\u001b[0m\u001b[0mpt\u001b[0m\u001b[0;34m)\u001b[0m\u001b[0;34m:\u001b[0m\u001b[0;34m\u001b[0m\u001b[0;34m\u001b[0m\u001b[0m\n\u001b[0m\u001b[1;32m    235\u001b[0m                 \u001b[0;32mreturn\u001b[0m \u001b[0;32mTrue\u001b[0m\u001b[0;34m\u001b[0m\u001b[0;34m\u001b[0m\u001b[0m\n\u001b[1;32m    236\u001b[0m         \u001b[0;32mreturn\u001b[0m \u001b[0;32mFalse\u001b[0m\u001b[0;34m\u001b[0m\u001b[0;34m\u001b[0m\u001b[0m\n",
      "\u001b[0;31mKeyboardInterrupt\u001b[0m: "
     ]
    }
   ],
   "source": []
  },
  {
   "cell_type": "code",
   "execution_count": 29,
   "id": "adfb63a9",
   "metadata": {},
   "outputs": [],
   "source": [
    "village.plot_points(pts, radius= 0.05)"
   ]
  },
  {
   "cell_type": "code",
   "execution_count": null,
   "id": "18dc3a17",
   "metadata": {},
   "outputs": [],
   "source": []
  },
  {
   "cell_type": "code",
   "execution_count": 3,
   "id": "8c50db30",
   "metadata": {},
   "outputs": [],
   "source": []
  },
  {
   "cell_type": "code",
   "execution_count": 7,
   "id": "c654dd30",
   "metadata": {},
   "outputs": [],
   "source": [
    "pts = village.sample_cfree(1000)"
   ]
  },
  {
   "cell_type": "code",
   "execution_count": 8,
   "id": "a66cc869",
   "metadata": {},
   "outputs": [],
   "source": []
  },
  {
   "cell_type": "code",
   "execution_count": 3,
   "id": "eaa59f07",
   "metadata": {},
   "outputs": [],
   "source": [
    "# numerical parameters\n",
    "village_height = 5 \n",
    "village_side = 19\n",
    "building_every = 5\n",
    "assert (village_side + 1) % building_every == 0"
   ]
  },
  {
   "cell_type": "code",
   "execution_count": 4,
   "id": "fa220992",
   "metadata": {},
   "outputs": [],
   "source": [
    "# helper functions for construction of village\n",
    "\n",
    "def direction():\n",
    "    I = np.eye(2)\n",
    "    directions = np.vstack((I, -I))\n",
    "    return directions[np.random.randint(0, 4)]\n",
    "\n",
    "def walk(m):\n",
    "    d1 = direction()\n",
    "    starts = [np.zeros(2)]\n",
    "    ends = [d1]\n",
    "    blocks = [np.zeros(2), d1]\n",
    "    for i in range(m):\n",
    "        d2 = direction()\n",
    "        blocks.append(blocks[-1] + d2)\n",
    "        if all(d2 == d1):\n",
    "            ends[-1] += d1\n",
    "        else:\n",
    "            starts.append(ends[-1])\n",
    "            ends.append(starts[-1] + d2)\n",
    "            d1 = d2\n",
    "    return np.array(starts), np.array(ends), np.array(blocks)\n",
    "\n",
    "def building(village, i, j, m):\n",
    "    starts, ends, blocks = walk(m)\n",
    "    offset = np.array([i, j]) + .5\n",
    "    starts += offset\n",
    "    ends += offset\n",
    "    blocks += [i, j]\n",
    "    for k, (s, e) in enumerate(zip(starts, ends)):\n",
    "        c = (s + e) / 2\n",
    "        d = np.abs(e - s) + 1\n",
    "        r = list(.5 * d) + [village_height / 2]\n",
    "        n = list(d) + [village_height]\n",
    "        village.building(f'building_{i}_{j}_{k}', c, r, n)\n",
    "    return blocks\n",
    "        \n",
    "def tree(village, i, j):\n",
    "    name = f'tree_{i}_{j}'\n",
    "    r = .5 # Radius of foliage.\n",
    "    r_trunk = .1\n",
    "    low = [i + .5, j + .5, 1]\n",
    "    high = [i + .5, j + .5, village_height - .5]\n",
    "    c = np.random.uniform(low, high)\n",
    "    village.tree(name, c, r, r_trunk)\n",
    "        \n",
    "def bush(village, i, j):\n",
    "    name = f'bush_{i}_{j}'\n",
    "    r = np.random.uniform(low=.1, high=.35) # Radius.\n",
    "    h = 4 * r # Height.\n",
    "    c = np.array([i + .5, j + .5])\n",
    "    village.bush(name, c, r, h)"
   ]
  },
  {
   "cell_type": "code",
   "execution_count": 5,
   "id": "4821014a",
   "metadata": {},
   "outputs": [],
   "source": [
    "village.delete()\n",
    "np.random.seed(0)\n",
    "\n",
    "# village ground\n",
    "ground_color = (.7, 1, .7)\n",
    "ground = village.ground(village_side, ground_color)\n",
    "\n",
    "# buildings\n",
    "blocks = []\n",
    "for i in range(village_side):\n",
    "    for j in range(village_side):\n",
    "        if (i + 1) % building_every == 0 and (j + 1) % building_every == 0:\n",
    "            blocks.append(building(village, i, j, 4))\n",
    "blocks = [tuple(b) for b in np.vstack(blocks)]\n",
    "    \n",
    "# trees and bushes\n",
    "for i in range(village_side):\n",
    "    for j in range(village_side):\n",
    "        if (i, j) not in blocks:\n",
    "            np.random.choice([tree, bush])(village, i, j)"
   ]
  },
  {
   "cell_type": "code",
   "execution_count": 6,
   "id": "d412ee00",
   "metadata": {},
   "outputs": [
    {
     "name": "stdout",
     "output_type": "stream",
     "text": [
      "(1780, 3) (1780, 3)\n"
     ]
    }
   ],
   "source": [
    "# all the obstacles are axis aligned boxes\n",
    "# each row of the matrices L adn U below is a box\n",
    "# the ith box is {x : L[i] <= x <= U[i]}\n",
    "L = np.array(village.L)\n",
    "U = np.array(village.U)\n",
    "print(L.shape, U.shape)"
   ]
  },
  {
   "cell_type": "code",
   "execution_count": null,
   "id": "595f9b20",
   "metadata": {},
   "outputs": [],
   "source": []
  }
 ],
 "metadata": {
  "kernelspec": {
   "display_name": "Python 3 (ipykernel)",
   "language": "python",
   "name": "python3"
  },
  "language_info": {
   "codemirror_mode": {
    "name": "ipython",
    "version": 3
   },
   "file_extension": ".py",
   "mimetype": "text/x-python",
   "name": "python",
   "nbconvert_exporter": "python",
   "pygments_lexer": "ipython3",
   "version": "3.8.10"
  }
 },
 "nbformat": 4,
 "nbformat_minor": 5
}
