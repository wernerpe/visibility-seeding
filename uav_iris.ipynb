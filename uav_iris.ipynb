{
 "cells": [
  {
   "cell_type": "code",
   "execution_count": 1,
   "id": "e6f7832b",
   "metadata": {},
   "outputs": [
    {
     "name": "stderr",
     "output_type": "stream",
     "text": [
      "/home/peter/.local/lib/python3.8/site-packages/scipy/__init__.py:143: UserWarning: A NumPy version >=1.19.5 and <1.27.0 is required for this version of SciPy (detected version 1.17.4)\n",
      "  warnings.warn(f\"A NumPy version >={np_minversion} and <{np_maxversion}\"\n"
     ]
    },
    {
     "name": "stdout",
     "output_type": "stream",
     "text": [
      "You can open the visualizer by visiting the following URL:\n",
      "http://127.0.0.1:7000/static/\n"
     ]
    },
    {
     "name": "stderr",
     "output_type": "stream",
     "text": [
      "INFO:drake:Meshcat listening for connections at http://localhost:7001\n",
      "INFO:drake:Allocating contexts to support 20 parallel queries given omp_num_threads 20 omp_max_threads 20 and omp_thread_limit 2147483647 OpenMP enabled in build? true\n"
     ]
    },
    {
     "name": "stdout",
     "output_type": "stream",
     "text": [
      "475\n"
     ]
    }
   ],
   "source": [
    "import numpy as np\n",
    "from uav_boxes import Village\n",
    "from seeding_utils import point_near_regions, vis_reg, point_in_regions\n",
    "from scipy.sparse import lil_matrix\n",
    "import numpy as np\n",
    "from tqdm import tqdm\n",
    "from region_generation import generate_regions_multi_threading\n",
    "\n",
    "\n",
    "seed = 46\n",
    "\n",
    "world = Village()\n",
    "village_side = 39\n",
    "village_height = 10\n",
    "world.build(village_height=village_height, village_side=village_side, building_every=5, density=0.15, seed=seed)\n",
    "#vgraph_builder = world.to_drake_plant()\n",
    "print(len(world.obstacles))"
   ]
  },
  {
   "cell_type": "code",
   "execution_count": 3,
   "id": "06fe47e5",
   "metadata": {},
   "outputs": [],
   "source": [
    "import pickle\n",
    "from pydrake.all import HPolyhedron, VPolytope\n",
    "\n",
    "\n",
    "regions = []\n",
    "with open('experiment_village_greedy_39_10_09_27_04_59_24___46_500_0.050_0.200/data/it_6.pkl', 'rb') as f:\n",
    "    data= pickle.load(f)\n",
    "\n",
    "for rga, rgb in zip(data['ra'], data['rb']):\n",
    "    for ra, rb in zip(rga, rgb):\n",
    "        regions.append(HPolyhedron(ra, rb))"
   ]
  },
  {
   "attachments": {},
   "cell_type": "markdown",
   "id": "3a227915",
   "metadata": {},
   "source": [
    "# Plotting Utils"
   ]
  },
  {
   "cell_type": "code",
   "execution_count": 4,
   "id": "c70d2111",
   "metadata": {},
   "outputs": [],
   "source": [
    "import os\n",
    "import mcubes\n",
    "from meshcat.geometry import TriangularMeshGeometry, MeshLambertMaterial\n",
    "from matplotlib.colors import to_hex as _to_hex\n",
    "\n",
    "to_hex = lambda rgb: '0x' + _to_hex(rgb)[1:]\n",
    "def col_hand(q1,q2,q3):\n",
    "    p =np.array([q1,q2,q3])\n",
    "    # if np.any(world.L_dom>p):\n",
    "    #     return 1\n",
    "    # if np.any(world.U_dom<p):\n",
    "    #     return 1\n",
    "    return 1.0*world.col_handle(np.array([q1,q2,q3]))\n",
    "\n",
    "def col_hand_neg(q1,q2,q3):\n",
    "    p =np.array([q1,q2,q3])\n",
    "    if np.any(world.L_dom>p):\n",
    "        return 0\n",
    "    if np.any(world.U_dom<p):\n",
    "        return 0\n",
    "    return 1- 1.0*world.col_handle(p)\n",
    "\n",
    "def plot_collision_constraint(N = 50, q_min = np.array(world.L_dom)-5, q_max= np.array(world.U_dom)+5):\n",
    "    if f\"col_cons{N}.pkl\" in os.listdir('tmp'):\n",
    "        with open(f\"tmp/col_cons{N}.pkl\", 'rb') as f:\n",
    "            d = pickle.load(f)\n",
    "            vertices = d['vertices']\n",
    "            triangles = d['triangles']\n",
    "    else:  \n",
    "        vertices, triangles = mcubes.marching_cubes_func(\n",
    "        tuple(\n",
    "                q_min), tuple(\n",
    "                q_max), N, N, N, col_hand, 0.5)\n",
    "        with open(f\"tmp/col_cons{N}.pkl\", 'wb') as f:\n",
    "                d = {'vertices': vertices, 'triangles': triangles}\n",
    "                pickle.dump(d, f)\n",
    "\n",
    "    #tri_drake = [SurfaceTriangle(*t) for t in triangles]\n",
    "\n",
    "    #vertices += _offset_meshcat_2.reshape(-1,3)\n",
    "    obj = world['col']\n",
    "    color = to_hex((1,0,0))\n",
    "    material = MeshLambertMaterial(color=color, opacity=0.4,  wireframe=False)\n",
    "    obj.set_object(TriangularMeshGeometry(vertices, triangles),\n",
    "                                   material)\n",
    "\n",
    "def plot_collision_constraint_neg(N = 50, q_min = np.array(world.L_dom)-5, q_max= np.array(world.U_dom)+5):\n",
    "    if f\"col_cons{N}_n.pkl\" in os.listdir('tmp'):\n",
    "        with open(f\"tmp/col_cons{N}_n.pkl\", 'rb') as f:\n",
    "            d = pickle.load(f)\n",
    "            vertices = d['vertices']\n",
    "            triangles = d['triangles']\n",
    "    else:  \n",
    "        vertices, triangles = mcubes.marching_cubes_func(\n",
    "        tuple(\n",
    "                q_min), tuple(\n",
    "                q_max), N, N, N, col_hand_neg, 0.5)\n",
    "        with open(f\"tmp/col_cons{N}_n.pkl\", 'wb') as f:\n",
    "                d = {'vertices': vertices, 'triangles': triangles}\n",
    "                pickle.dump(d, f)\n",
    "\n",
    "    #tri_drake = [SurfaceTriangle(*t) for t in triangles]\n",
    "\n",
    "    #vertices += _offset_meshcat_2.reshape(-1,3)\n",
    "    obj = world['col_n']\n",
    "    color = to_hex((0,1,0))\n",
    "    material = MeshLambertMaterial(color=color, opacity=0.3,  wireframe=False)\n",
    "    obj.set_object(TriangularMeshGeometry(vertices, triangles),\n",
    "                                   material)\n",
    "from meshcat.geometry import Cylinder\n",
    "import meshcat.transformations as tf\n",
    "from meshcat.geometry import MeshLambertMaterial\n",
    "\n",
    "def compute_rotation_matrix(a, b):\n",
    "    # Normalize the points\n",
    "    a = a / np.linalg.norm(a)\n",
    "    b = b / np.linalg.norm(b)\n",
    "    \n",
    "    # Calculate the rotation axis\n",
    "    rotation_axis = np.cross(a, b)\n",
    "    rotation_axis /= np.linalg.norm(rotation_axis)\n",
    "    \n",
    "    # Calculate the rotation angle\n",
    "    dot_product = np.dot(a, b)\n",
    "    rotation_angle = np.arccos(np.clip(dot_product, -1.0, 1.0))\n",
    "    \n",
    "    # Construct the rotation matrix using Rodrigues' formula\n",
    "    skew_matrix = np.array([[0, -rotation_axis[2], rotation_axis[1]],\n",
    "                            [rotation_axis[2], 0, -rotation_axis[0]],\n",
    "                            [-rotation_axis[1], rotation_axis[0], 0]])\n",
    "    rotation_matrix = np.eye(3) + np.sin(rotation_angle) * skew_matrix + (1 - np.cos(rotation_angle)) * np.dot(skew_matrix, skew_matrix)\n",
    "    \n",
    "    return rotation_matrix\n",
    "\n",
    "def plot_edge(pt1, pt2, name, color, opacity, size = 0.01):\n",
    "    \n",
    "    material = MeshLambertMaterial(color=color, opacity=opacity)\n",
    "    world[name].set_object(\n",
    "                        Cylinder(np.linalg.norm(pt1-pt2), size),\n",
    "                        material)\n",
    "    \n",
    "    dir = pt2-pt1\n",
    "    rot = compute_rotation_matrix(np.array([0,1,0]), dir )\n",
    "    #print(rot)\n",
    "    offs = rot@np.array([0,np.linalg.norm(pt1-pt2)/2,0])\n",
    "    tfmat = np.zeros((4,4))\n",
    "    tfmat[:3,:3] = rot\n",
    "    tfmat[:3,-1] = offs + pt1.squeeze()\n",
    "    tfmat[3,3] = 1\n",
    "    world[name].set_transform(tfmat)\n",
    "    \n",
    "def plot_edges(edges, name, color, opacity  = 1, size = 0.01):\n",
    "    for i, e in enumerate(edges):\n",
    "         plot_edge(e[0], e[1], name + f\"/e_{i}\", color, opacity, size=size)\n",
    "\n",
    "#plot_edge(np.zeros(3), 5*np.ones(3), 'test', (1,0,0), 1, 0.8)"
   ]
  },
  {
   "cell_type": "code",
   "execution_count": 5,
   "id": "0eda8658",
   "metadata": {},
   "outputs": [],
   "source": [
    "world.plot_regions(regions, opacity=0.6)\n",
    "from utils import plot_regions\n",
    " #this is for debugging the meldis meshcat -> activate kproximity to see the world\n",
    "plot_regions(world.meshcat_drake, regions)"
   ]
  },
  {
   "attachments": {},
   "cell_type": "markdown",
   "id": "503241d7",
   "metadata": {},
   "source": [
    "# Dummy Pathplanning and plotting of the resulting trajectory"
   ]
  },
  {
   "cell_type": "code",
   "execution_count": 6,
   "id": "bff81881",
   "metadata": {},
   "outputs": [
    {
     "name": "stdout",
     "output_type": "stream",
     "text": [
      "[DijkstraSPP] Pre-Building adjacency matrix  0 / 83\n",
      "[DijkstraSPP] Pre-Building adjacency matrix  10 / 83\n",
      "[DijkstraSPP] Pre-Building adjacency matrix  20 / 83\n",
      "[DijkstraSPP] Pre-Building adjacency matrix  30 / 83\n",
      "[DijkstraSPP] Pre-Building adjacency matrix  40 / 83\n",
      "[DijkstraSPP] Pre-Building adjacency matrix  50 / 83\n",
      "[DijkstraSPP] Pre-Building adjacency matrix  60 / 83\n",
      "[DijkstraSPP] Pre-Building adjacency matrix  70 / 83\n",
      "[DijkstraSPP] Pre-Building adjacency matrix  80 / 83\n",
      "[DijkstraSPP] Pre-Building d-adjacency matrix  0 / 293\n"
     ]
    }
   ],
   "source": [
    "from dijkstraspp import DijkstraSPPsolver\n",
    "\n",
    "def conv_dummy(q):\n",
    "    return q\n",
    "\n",
    "dspp = DijkstraSPPsolver(regions, conv_dummy)"
   ]
  },
  {
   "cell_type": "code",
   "execution_count": 7,
   "id": "5de6cad5",
   "metadata": {},
   "outputs": [
    {
     "data": {
      "text/plain": [
       "True"
      ]
     },
     "execution_count": 7,
     "metadata": {},
     "output_type": "execute_result"
    }
   ],
   "source": [
    "point_in_regions(np.array([0,0, 0.5]), regions)\n",
    "point_in_regions(np.array([38,38, 6.5]), regions)\n"
   ]
  },
  {
   "cell_type": "code",
   "execution_count": 8,
   "id": "50f6c653",
   "metadata": {},
   "outputs": [
    {
     "name": "stdout",
     "output_type": "stream",
     "text": [
      "[DijkstraSPP] optimized distance/ start-distance = 60.22 / 69.35 = 0.87\n"
     ]
    }
   ],
   "source": [
    "wps, dist = dspp.solve(np.array([0,0, 0.5]), np.array([38,38, 6.5]), refine_path=True)\n"
   ]
  },
  {
   "cell_type": "code",
   "execution_count": 9,
   "id": "36610a42",
   "metadata": {},
   "outputs": [],
   "source": [
    "edges = []\n",
    "for idx, wp in enumerate(wps[:-1]):\n",
    "    edges.append([wp, wps[idx+1]])\n",
    "\n",
    "plot_edges(edges, 'traj', (1,1,0), 0.5, 0.1 )"
   ]
  },
  {
   "cell_type": "code",
   "execution_count": 11,
   "id": "c715c9e5",
   "metadata": {},
   "outputs": [],
   "source": [
    "from meshcat.transformations import translation_matrix, rotation_matrix\n",
    "sign_size = [20.4, 20.2]  # Width and height of the sign\n",
    "sign_position = [-20.0, 0.0, 10.0]  # X, Y, Z position of the sign\n",
    "sign_color = [0.7, 0.7, 0.7]  # RGB color for the sign\n",
    "from meshcat.geometry import MeshLambertMaterial, ImageTexture, Box\n",
    "from PIL import Image\n",
    "import meshcat\n",
    "# Add the sign as a rectangle\n",
    "\n",
    "# Load an image to put on the sign\n",
    "image_path = \"village_sign.png\"\n",
    "\n",
    "# Create a textured material for the sign\n",
    "texture = ImageTexture(image = meshcat.geometry.PngImage.from_file(image_path))\n",
    "textured_material = MeshLambertMaterial(map=texture)\n",
    "sign = Box((sign_size[0], sign_size[1], 0.1))\n",
    "world[\"sign\"].set_object(sign, textured_material)\n",
    "transl = translation_matrix(sign_position)\n",
    "rot = rotation_matrix(np.pi/2, [1,0,0])\n",
    "rot = rot@rotation_matrix(np.pi/2, [0,1,0])\n",
    "rot[:,3] = transl[:,3]\n",
    "world[\"sign\"].set_transform(rot)\n",
    "\n"
   ]
  },
  {
   "cell_type": "code",
   "execution_count": null,
   "id": "79964bcb",
   "metadata": {},
   "outputs": [],
   "source": [
    "# this saves the result to a html which you can share\n",
    "# file = world.static_html()\n",
    "# with open('Village.html', 'w') as f:\n",
    "#     f.write(file)"
   ]
  },
  {
   "cell_type": "code",
   "execution_count": 9,
   "id": "f83bb295",
   "metadata": {},
   "outputs": [],
   "source": [
    "# if f\"col_cons{100}_n.pkl\" in os.listdir('tmp'):\n",
    "#     with open(f\"tmp/col_cons{100}_n.pkl\", 'rb') as f:\n",
    "#         d = pickle.load(f)\n",
    "#         vertices = d['vertices']\n",
    "#         triangles = d['triangles']\n",
    "\n",
    "# output_file_path = \"output_mesh.obj\"\n",
    "\n",
    "# # Write the mesh data to the .obj file\n",
    "# with open(output_file_path, 'w') as obj_file:\n",
    "#     obj_file.write(\"# Triangle Mesh\\n\")\n",
    "    \n",
    "#     # Write vertex coordinates\n",
    "#     for vertex in vertices:\n",
    "#         vertex = vertex\n",
    "#         obj_file.write(f\"v {' '.join(map(str, vertex))}\\n\")\n",
    "    \n",
    "#     # Write triangle definitions\n",
    "#     for triangle in triangles:\n",
    "#         # Add 1 to vertex indices because .obj files use 1-based indexing\n",
    "#         obj_file.write(f\"f {' '.join(map(lambda x: str(x + 1), triangle))}\\n\")\n",
    "\n",
    "# print(f\"Mesh saved to {output_file_path}\")"
   ]
  },
  {
   "cell_type": "code",
   "execution_count": 44,
   "id": "1bf679a4",
   "metadata": {},
   "outputs": [],
   "source": []
  },
  {
   "cell_type": "code",
   "execution_count": 3,
   "id": "a6f5b4b9",
   "metadata": {},
   "outputs": [],
   "source": []
  },
  {
   "cell_type": "code",
   "execution_count": 4,
   "id": "cb76001a",
   "metadata": {},
   "outputs": [],
   "source": []
  }
 ],
 "metadata": {
  "kernelspec": {
   "display_name": "Python 3 (ipykernel)",
   "language": "python",
   "name": "python3"
  },
  "language_info": {
   "codemirror_mode": {
    "name": "ipython",
    "version": 3
   },
   "file_extension": ".py",
   "mimetype": "text/x-python",
   "name": "python",
   "nbconvert_exporter": "python",
   "pygments_lexer": "ipython3",
   "version": "3.8.10"
  }
 },
 "nbformat": 4,
 "nbformat_minor": 5
}
