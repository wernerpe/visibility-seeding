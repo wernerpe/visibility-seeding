{
 "cells": [
  {
   "cell_type": "code",
   "execution_count": 1,
   "metadata": {},
   "outputs": [
    {
     "name": "stderr",
     "output_type": "stream",
     "text": [
      "/home/peter/.local/lib/python3.8/site-packages/scipy/__init__.py:143: UserWarning: A NumPy version >=1.19.5 and <1.27.0 is required for this version of SciPy (detected version 1.17.4)\n",
      "  warnings.warn(f\"A NumPy version >={np_minversion} and <{np_maxversion}\"\n"
     ]
    }
   ],
   "source": [
    "from cgdataset import World\n",
    "import matplotlib.pyplot as plt\n",
    "import numpy as np\n",
    "from seeding_utils import point_in_regions, point_near_regions, vis_reg, compute_kernels, sorted_vertices\n",
    "from independent_set_solver import solve_max_independent_set_integer\n",
    "from scipy.sparse import lil_matrix\n",
    "from tqdm import tqdm\n",
    "from shapely.ops import cascaded_union\n",
    "import shapely\n",
    "from region_generation import generate_regions_ellipses_multi_threading\n",
    "from doublegreedyhiddenset import DoubleGreedySeeding, HiddensetDoubleGreedy\n",
    "from pydrake.geometry.optimization import (\n",
    "    HPolyhedron, VPolytope, Iris, IrisOptions, Hyperellipsoid)\n",
    "from functools import partial\n",
    "from vislogging import Logger\n",
    "from time import strftime, gmtime\n"
   ]
  },
  {
   "cell_type": "code",
   "execution_count": 2,
   "metadata": {},
   "outputs": [],
   "source": [
    "eps_sample = -0.05\n",
    "eps = 0.05\n",
    "alpha = 0.05\n",
    "N=4000\n",
    "seed = 1\n",
    "use_region_obstacles_iris = 1\n",
    "#use_region_visibility_obstacles = 0\n",
    "region_pullback=0.25\n",
    "\n",
    "world_name = \"cheese102.instance.json\"#small_polys[1] #\"cheese205.instance.json\"#fpg-poly_0000000060_h1.instance.json\"#\"srpg_iso_aligned_mc0000172.instance.json\"##\"fpg-poly_0000000070_h1.instance.json\"\n",
    "world = World(\"./data/evalexamples/\"+world_name)\n",
    "world.build_offset_cfree(eps_sample)"
   ]
  },
  {
   "cell_type": "code",
   "execution_count": 3,
   "metadata": {},
   "outputs": [],
   "source": [
    "def sample_cfree_handle(n, m, regions=None):\n",
    "\tpoints = np.zeros((n,2))\n",
    "\tif regions is None: regions = []\t\t\n",
    "\tfor i in range(n):\n",
    "\t\tbt_tries = 0\n",
    "\t\twhile bt_tries<m:\n",
    "\t\t\tpoint = world.sample_cfree_distance(1, eps = eps_sample)[0]\n",
    "\t\t\t#point = world.sample_cfree(1)[0]\n",
    "\t\t\tif point_near_regions(point, regions, tries = 100, eps = 0.1):\n",
    "\t\t\t\tbt_tries+=1\n",
    "\t\t\telse:\n",
    "\t\t\t\tbreak\n",
    "\t\tif bt_tries == m:\n",
    "\t\t\treturn points, True\n",
    "\t\t\n",
    "\t\tpoints[i] = point\n",
    "\treturn points, False\n",
    "\n",
    "\n",
    "def mut_visreg(point, other, regions, world):\n",
    "\treturn vis_reg(point.squeeze(), other.squeeze(), world, regions, n_checks=100)\n",
    "\n",
    "los_handle = partial(mut_visreg, world = world)\n",
    "\n",
    "def compute_coverage(regions):\n",
    "    shapely_regions = []\n",
    "    for r in regions:\n",
    "        verts = sorted_vertices(VPolytope(r))\n",
    "        shapely_regions.append(shapely.Polygon(verts.T))\n",
    "    union_of_Polyhedra = cascaded_union(shapely_regions)\n",
    "    return union_of_Polyhedra.area/world.cfree_polygon.area\n",
    "\n",
    "def compute_coverage_cfree_tot(regions):\n",
    "    shapely_regions = []\n",
    "    for r in regions:\n",
    "        verts = sorted_vertices(VPolytope(r))\n",
    "        shapely_regions.append(shapely.Polygon(verts.T))\n",
    "    union_of_Polyhedra = cascaded_union(shapely_regions)\n",
    "    return union_of_Polyhedra.area/world.cfree_polygon.area\n",
    "\n",
    "def iris_w_obstacles(points, ellipsoids, region_obstacles, old_regions = None, use_region_obstacles = use_region_obstacles_iris):\n",
    "    if N>1:\n",
    "        #+ region_obstacles\n",
    "        obstacles = [r for r in world.obstacle_triangles]\n",
    "        if use_region_obstacles:\n",
    "            obstacles += region_obstacles\n",
    "        regions, _, is_full = generate_regions_ellipses_multi_threading(points, ellipsoids, obstacles, world.iris_domain, compute_coverage, coverage_threshold=1-eps, old_regs = old_regions)\n",
    "    else:\n",
    "        #if N=1 coverage estimate happens at every step\n",
    "        obstacles = [r for r in world.obstacle_triangles]\n",
    "        if use_region_obstacles:\n",
    "            obstacles += region_obstacles\n",
    "        regions, _, _ = generate_regions_ellipses_multi_threading(points, ellipsoids, obstacles, world.iris_domain)\n",
    "        is_full = 1-eps <= compute_coverage(old_regions+regions)\n",
    "    return regions, is_full\n"
   ]
  },
  {
   "cell_type": "code",
   "execution_count": 4,
   "metadata": {},
   "outputs": [],
   "source": [
    "from ellipse_utils import get_lj_ellipse\n",
    "\n",
    "def get_kernel_iris_metrics(dg):\n",
    "    hidden_set_idx = dg.hidden_set\n",
    "    hidden_set = [dg.points[i] for i in hidden_set_idx]\n",
    "    kernels = [dg.compute_kernel_of_hidden_point(i) for i in hidden_set_idx]\n",
    "    for idx in range(len(kernels)):\n",
    "        kernels[idx].append(dg.points[hidden_set_idx[idx]])\n",
    "    kernelmats = [np.array(k).squeeze().reshape(-1,2) for k in kernels]\n",
    "    seed_ellipses = [get_lj_ellipse(k) for k in kernelmats]\n",
    "    seed_points = []\n",
    "    for k,se in zip(kernels, seed_ellipses):\n",
    "        center = se.center()\n",
    "        if not los_handle(center, center, []):\n",
    "            distances = np.linalg.norm(np.array(k).reshape(-1,2) - center, axis = 1).rehsape(-1)\n",
    "            mindist_idx = np.argmin(distances)\n",
    "            seed_points.append(k[mindist_idx])\n",
    "        else:\n",
    "            seed_points.append(center)\n",
    "\n",
    "    #rescale seed_ellipses\n",
    "    mean_eig_scaling = 1000\n",
    "    seed_ellipses_scaled = []\n",
    "    for e in seed_ellipses:\n",
    "        eigs, _ = np.linalg.eig(e.A())\n",
    "        mean_eig_size = np.mean(eigs)\n",
    "        seed_ellipses_scaled.append(Hyperellipsoid(e.A()*(mean_eig_scaling/mean_eig_size), e.center()))\n",
    "    return hidden_set, seed_ellipses_scaled, seed_ellipses, kernelmats"
   ]
  },
  {
   "cell_type": "code",
   "execution_count": 5,
   "metadata": {},
   "outputs": [
    {
     "name": "stdout",
     "output_type": "stream",
     "text": [
      "[18:54:05] [DoubleGreedy] Point insertion attempts M: 92098\n",
      "[18:54:05] [DoubleGreedy] 0.9999 probability that unseen region is less than 0.01 \"%\" of Cfree \n",
      "[18:54:05] [DoubleGreedy] New hidden point placed N =  0 it =  0\n",
      "[18:54:05] [DoubleGreedy] New hidden point placed N =  1 it =  1\n",
      "[18:54:05] [DoubleGreedy] New hidden point placed N =  2 it =  1\n",
      "[18:54:05] [DoubleGreedy] New hidden point placed N =  3 it =  4\n",
      "[18:54:05] [DoubleGreedy] New hidden point placed N =  4 it =  2\n",
      "[18:54:05] [DoubleGreedy] New hidden point placed N =  5 it =  25\n",
      "[18:54:05] [DoubleGreedy] New hidden point placed N =  6 it =  2\n",
      "[18:54:05] [DoubleGreedy] New hidden point placed N =  7 it =  1\n",
      "[18:54:05] [DoubleGreedy] New hidden point placed N =  8 it =  38\n",
      "[18:54:05] [DoubleGreedy] New hidden point placed N =  9 it =  11\n",
      "[18:54:06] [DoubleGreedy] New hidden point placed N =  10 it =  93\n",
      "[18:54:07] [DoubleGreedy] New hidden point placed N =  11 it =  192\n",
      "[18:54:07] [DoubleGreedy] New hidden point placed N =  12 it =  62\n",
      "[18:54:08] [DoubleGreedy] New hidden point placed N =  13 it =  107\n",
      "[18:54:15] [DoubleGreedy] New hidden point placed N =  14 it =  1106\n",
      "[18:54:19] [DoubleGreedy] New hidden point placed N =  15 it =  511\n",
      "[18:54:20] [DoubleGreedy] New hidden point placed N =  16 it =  56\n",
      "[18:54:33] [DoubleGreedy] Point budget exceeded 4000\n",
      "[18:54:33] [DoubleGreedy] Kernel of size 20 found\n"
     ]
    },
    {
     "name": "stderr",
     "output_type": "stream",
     "text": [
      "100%|██████████| 21/21 [00:00<00:00, 163.37it/s]\n"
     ]
    },
    {
     "name": "stdout",
     "output_type": "stream",
     "text": [
      "[18:54:33] [DoubleGreedy] Kernel of size 33 found\n"
     ]
    },
    {
     "name": "stderr",
     "output_type": "stream",
     "text": [
      "100%|██████████| 34/34 [00:00<00:00, 95.02it/s] \n"
     ]
    },
    {
     "name": "stdout",
     "output_type": "stream",
     "text": [
      "[18:54:34] [DoubleGreedy] Kernel of size 73 found\n"
     ]
    },
    {
     "name": "stderr",
     "output_type": "stream",
     "text": [
      "100%|██████████| 74/74 [00:01<00:00, 45.79it/s] \n"
     ]
    },
    {
     "name": "stdout",
     "output_type": "stream",
     "text": [
      "[18:54:35] [DoubleGreedy] Kernel of size 148 found\n"
     ]
    },
    {
     "name": "stderr",
     "output_type": "stream",
     "text": [
      "100%|██████████| 149/149 [00:06<00:00, 22.21it/s]\n"
     ]
    },
    {
     "name": "stdout",
     "output_type": "stream",
     "text": [
      "[18:54:42] [DoubleGreedy] Kernel of size 42 found\n"
     ]
    },
    {
     "name": "stderr",
     "output_type": "stream",
     "text": [
      "100%|██████████| 43/43 [00:00<00:00, 78.56it/s] \n"
     ]
    },
    {
     "name": "stdout",
     "output_type": "stream",
     "text": [
      "[18:54:43] [DoubleGreedy] Kernel of size 10 found\n"
     ]
    },
    {
     "name": "stderr",
     "output_type": "stream",
     "text": [
      "100%|██████████| 11/11 [00:00<00:00, 353.48it/s]\n"
     ]
    },
    {
     "name": "stdout",
     "output_type": "stream",
     "text": [
      "[18:54:43] [DoubleGreedy] Kernel of size 25 found\n"
     ]
    },
    {
     "name": "stderr",
     "output_type": "stream",
     "text": [
      "100%|██████████| 26/26 [00:00<00:00, 130.51it/s]\n"
     ]
    },
    {
     "name": "stdout",
     "output_type": "stream",
     "text": [
      "[18:54:43] [DoubleGreedy] Kernel of size 32 found\n"
     ]
    },
    {
     "name": "stderr",
     "output_type": "stream",
     "text": [
      "100%|██████████| 33/33 [00:00<00:00, 103.02it/s]\n"
     ]
    },
    {
     "name": "stdout",
     "output_type": "stream",
     "text": [
      "[18:54:44] [DoubleGreedy] Kernel of size 0 found\n",
      "[18:54:44] [DoubleGreedy] Kernel of size 28 found\n"
     ]
    },
    {
     "name": "stderr",
     "output_type": "stream",
     "text": [
      "100%|██████████| 29/29 [00:00<00:00, 116.53it/s]\n"
     ]
    },
    {
     "name": "stdout",
     "output_type": "stream",
     "text": [
      "[18:54:44] [DoubleGreedy] Kernel of size 23 found\n"
     ]
    },
    {
     "name": "stderr",
     "output_type": "stream",
     "text": [
      "100%|██████████| 24/24 [00:00<00:00, 142.13it/s]\n"
     ]
    },
    {
     "name": "stdout",
     "output_type": "stream",
     "text": [
      "[18:54:44] [DoubleGreedy] Kernel of size 9 found\n"
     ]
    },
    {
     "name": "stderr",
     "output_type": "stream",
     "text": [
      "100%|██████████| 10/10 [00:00<00:00, 357.85it/s]\n"
     ]
    },
    {
     "name": "stdout",
     "output_type": "stream",
     "text": [
      "[18:54:44] [DoubleGreedy] Kernel of size 4 found\n"
     ]
    },
    {
     "name": "stderr",
     "output_type": "stream",
     "text": [
      "100%|██████████| 5/5 [00:00<00:00, 777.30it/s]\n"
     ]
    },
    {
     "name": "stdout",
     "output_type": "stream",
     "text": [
      "[18:54:44] [DoubleGreedy] Kernel of size 5 found\n"
     ]
    },
    {
     "name": "stderr",
     "output_type": "stream",
     "text": [
      "100%|██████████| 6/6 [00:00<00:00, 633.20it/s]\n"
     ]
    },
    {
     "name": "stdout",
     "output_type": "stream",
     "text": [
      "[18:54:44] [DoubleGreedy] Kernel of size 3 found\n"
     ]
    },
    {
     "name": "stderr",
     "output_type": "stream",
     "text": [
      "100%|██████████| 4/4 [00:00<00:00, 985.39it/s]\n"
     ]
    },
    {
     "name": "stdout",
     "output_type": "stream",
     "text": [
      "[18:54:44] [DoubleGreedy] Kernel of size 0 found\n",
      "[18:54:44] [DoubleGreedy] Kernel of size 2 found\n"
     ]
    },
    {
     "name": "stderr",
     "output_type": "stream",
     "text": [
      "100%|██████████| 3/3 [00:00<00:00, 1276.42it/s]\n"
     ]
    },
    {
     "name": "stdout",
     "output_type": "stream",
     "text": [
      "[18:54:44] [DoubleGreedy] Hidden point found to split into 3\n",
      "[18:54:49] [DoubleGreedy] Kernel of size 20 found\n"
     ]
    },
    {
     "name": "stderr",
     "output_type": "stream",
     "text": [
      "100%|██████████| 21/21 [00:00<00:00, 160.31it/s]\n"
     ]
    },
    {
     "name": "stdout",
     "output_type": "stream",
     "text": [
      "[18:54:49] [DoubleGreedy] Kernel of size 35 found\n"
     ]
    },
    {
     "name": "stderr",
     "output_type": "stream",
     "text": [
      "100%|██████████| 36/36 [00:00<00:00, 91.61it/s] \n"
     ]
    },
    {
     "name": "stdout",
     "output_type": "stream",
     "text": [
      "[18:54:50] [DoubleGreedy] Kernel of size 73 found\n"
     ]
    },
    {
     "name": "stderr",
     "output_type": "stream",
     "text": [
      "100%|██████████| 74/74 [00:01<00:00, 45.01it/s] \n"
     ]
    },
    {
     "name": "stdout",
     "output_type": "stream",
     "text": [
      "[18:54:51] [DoubleGreedy] Kernel of size 40 found\n"
     ]
    },
    {
     "name": "stderr",
     "output_type": "stream",
     "text": [
      "100%|██████████| 41/41 [00:00<00:00, 80.54it/s] \n"
     ]
    },
    {
     "name": "stdout",
     "output_type": "stream",
     "text": [
      "[18:54:52] [DoubleGreedy] Kernel of size 5 found\n"
     ]
    },
    {
     "name": "stderr",
     "output_type": "stream",
     "text": [
      "100%|██████████| 6/6 [00:00<00:00, 690.70it/s]\n"
     ]
    },
    {
     "name": "stdout",
     "output_type": "stream",
     "text": [
      "[18:54:52] [DoubleGreedy] Kernel of size 14 found\n"
     ]
    },
    {
     "name": "stderr",
     "output_type": "stream",
     "text": [
      "100%|██████████| 15/15 [00:00<00:00, 228.51it/s]\n"
     ]
    },
    {
     "name": "stdout",
     "output_type": "stream",
     "text": [
      "[18:54:52] [DoubleGreedy] Kernel of size 17 found\n"
     ]
    },
    {
     "name": "stderr",
     "output_type": "stream",
     "text": [
      "100%|██████████| 18/18 [00:00<00:00, 192.69it/s]\n"
     ]
    },
    {
     "name": "stdout",
     "output_type": "stream",
     "text": [
      "[18:54:52] [DoubleGreedy] Kernel of size 0 found\n",
      "[18:54:52] [DoubleGreedy] Kernel of size 28 found\n"
     ]
    },
    {
     "name": "stderr",
     "output_type": "stream",
     "text": [
      "100%|██████████| 29/29 [00:00<00:00, 113.10it/s]\n"
     ]
    },
    {
     "name": "stdout",
     "output_type": "stream",
     "text": [
      "[18:54:52] [DoubleGreedy] Kernel of size 23 found\n"
     ]
    },
    {
     "name": "stderr",
     "output_type": "stream",
     "text": [
      "100%|██████████| 24/24 [00:00<00:00, 139.15it/s]\n"
     ]
    },
    {
     "name": "stdout",
     "output_type": "stream",
     "text": [
      "[18:54:52] [DoubleGreedy] Kernel of size 9 found\n"
     ]
    },
    {
     "name": "stderr",
     "output_type": "stream",
     "text": [
      "100%|██████████| 10/10 [00:00<00:00, 350.76it/s]\n"
     ]
    },
    {
     "name": "stdout",
     "output_type": "stream",
     "text": [
      "[18:54:52] [DoubleGreedy] Kernel of size 4 found\n"
     ]
    },
    {
     "name": "stderr",
     "output_type": "stream",
     "text": [
      "100%|██████████| 5/5 [00:00<00:00, 763.68it/s]\n"
     ]
    },
    {
     "name": "stdout",
     "output_type": "stream",
     "text": [
      "[18:54:52] [DoubleGreedy] Kernel of size 5 found\n"
     ]
    },
    {
     "name": "stderr",
     "output_type": "stream",
     "text": [
      "100%|██████████| 6/6 [00:00<00:00, 622.89it/s]\n"
     ]
    },
    {
     "name": "stdout",
     "output_type": "stream",
     "text": [
      "[18:54:53] [DoubleGreedy] Kernel of size 3 found\n"
     ]
    },
    {
     "name": "stderr",
     "output_type": "stream",
     "text": [
      "100%|██████████| 4/4 [00:00<00:00, 973.33it/s]\n"
     ]
    },
    {
     "name": "stdout",
     "output_type": "stream",
     "text": [
      "[18:54:53] [DoubleGreedy] Kernel of size 0 found\n",
      "[18:54:53] [DoubleGreedy] Kernel of size 2 found\n"
     ]
    },
    {
     "name": "stderr",
     "output_type": "stream",
     "text": [
      "100%|██████████| 3/3 [00:00<00:00, 1377.44it/s]\n"
     ]
    },
    {
     "name": "stdout",
     "output_type": "stream",
     "text": [
      "[18:54:53] [DoubleGreedy] Kernel of size 5 found\n"
     ]
    },
    {
     "name": "stderr",
     "output_type": "stream",
     "text": [
      "100%|██████████| 6/6 [00:00<00:00, 624.46it/s]\n"
     ]
    },
    {
     "name": "stdout",
     "output_type": "stream",
     "text": [
      "[18:54:53] [DoubleGreedy] Kernel of size 5 found\n"
     ]
    },
    {
     "name": "stderr",
     "output_type": "stream",
     "text": [
      "100%|██████████| 6/6 [00:00<00:00, 627.56it/s]\n"
     ]
    },
    {
     "name": "stdout",
     "output_type": "stream",
     "text": [
      "[18:54:53] [DoubleGreedy] Kernel of size 0 found\n",
      "[18:54:53] [DoubleGreedy] Hidden point found to split into 2\n",
      "[18:54:56] [DoubleGreedy] Kernel of size 20 found\n"
     ]
    },
    {
     "name": "stderr",
     "output_type": "stream",
     "text": [
      "100%|██████████| 21/21 [00:00<00:00, 160.39it/s]\n"
     ]
    },
    {
     "name": "stdout",
     "output_type": "stream",
     "text": [
      "[18:54:56] [DoubleGreedy] Kernel of size 35 found\n"
     ]
    },
    {
     "name": "stderr",
     "output_type": "stream",
     "text": [
      "100%|██████████| 36/36 [00:00<00:00, 91.84it/s] \n"
     ]
    },
    {
     "name": "stdout",
     "output_type": "stream",
     "text": [
      "[18:54:57] [DoubleGreedy] Kernel of size 40 found\n"
     ]
    },
    {
     "name": "stderr",
     "output_type": "stream",
     "text": [
      "100%|██████████| 41/41 [00:00<00:00, 80.62it/s] \n"
     ]
    },
    {
     "name": "stdout",
     "output_type": "stream",
     "text": [
      "[18:54:57] [DoubleGreedy] Kernel of size 5 found\n"
     ]
    },
    {
     "name": "stderr",
     "output_type": "stream",
     "text": [
      "100%|██████████| 6/6 [00:00<00:00, 719.00it/s]\n"
     ]
    },
    {
     "name": "stdout",
     "output_type": "stream",
     "text": [
      "[18:54:57] [DoubleGreedy] Kernel of size 14 found\n"
     ]
    },
    {
     "name": "stderr",
     "output_type": "stream",
     "text": [
      "100%|██████████| 15/15 [00:00<00:00, 191.44it/s]\n"
     ]
    },
    {
     "name": "stdout",
     "output_type": "stream",
     "text": [
      "[18:54:57] [DoubleGreedy] Kernel of size 17 found\n"
     ]
    },
    {
     "name": "stderr",
     "output_type": "stream",
     "text": [
      "100%|██████████| 18/18 [00:00<00:00, 192.55it/s]\n"
     ]
    },
    {
     "name": "stdout",
     "output_type": "stream",
     "text": [
      "[18:54:57] [DoubleGreedy] Kernel of size 5 found\n"
     ]
    },
    {
     "name": "stderr",
     "output_type": "stream",
     "text": [
      "100%|██████████| 6/6 [00:00<00:00, 616.87it/s]\n"
     ]
    },
    {
     "name": "stdout",
     "output_type": "stream",
     "text": [
      "[18:54:57] [DoubleGreedy] Kernel of size 28 found\n"
     ]
    },
    {
     "name": "stderr",
     "output_type": "stream",
     "text": [
      "100%|██████████| 29/29 [00:00<00:00, 114.12it/s]\n"
     ]
    },
    {
     "name": "stdout",
     "output_type": "stream",
     "text": [
      "[18:54:58] [DoubleGreedy] Kernel of size 23 found\n"
     ]
    },
    {
     "name": "stderr",
     "output_type": "stream",
     "text": [
      "100%|██████████| 24/24 [00:00<00:00, 138.98it/s]\n"
     ]
    },
    {
     "name": "stdout",
     "output_type": "stream",
     "text": [
      "[18:54:58] [DoubleGreedy] Kernel of size 9 found\n"
     ]
    },
    {
     "name": "stderr",
     "output_type": "stream",
     "text": [
      "100%|██████████| 10/10 [00:00<00:00, 350.80it/s]\n"
     ]
    },
    {
     "name": "stdout",
     "output_type": "stream",
     "text": [
      "[18:54:58] [DoubleGreedy] Kernel of size 5 found\n"
     ]
    },
    {
     "name": "stderr",
     "output_type": "stream",
     "text": [
      "100%|██████████| 6/6 [00:00<00:00, 616.19it/s]\n"
     ]
    },
    {
     "name": "stdout",
     "output_type": "stream",
     "text": [
      "[18:54:58] [DoubleGreedy] Kernel of size 5 found\n"
     ]
    },
    {
     "name": "stderr",
     "output_type": "stream",
     "text": [
      "100%|██████████| 6/6 [00:00<00:00, 621.47it/s]\n"
     ]
    },
    {
     "name": "stdout",
     "output_type": "stream",
     "text": [
      "[18:54:58] [DoubleGreedy] Kernel of size 7 found\n"
     ]
    },
    {
     "name": "stderr",
     "output_type": "stream",
     "text": [
      "100%|██████████| 8/8 [00:00<00:00, 452.77it/s]\n"
     ]
    },
    {
     "name": "stdout",
     "output_type": "stream",
     "text": [
      "[18:54:58] [DoubleGreedy] Kernel of size 0 found\n",
      "[18:54:58] [DoubleGreedy] Kernel of size 2 found\n"
     ]
    },
    {
     "name": "stderr",
     "output_type": "stream",
     "text": [
      "100%|██████████| 3/3 [00:00<00:00, 1350.39it/s]\n"
     ]
    },
    {
     "name": "stdout",
     "output_type": "stream",
     "text": [
      "[18:54:58] [DoubleGreedy] Kernel of size 5 found\n"
     ]
    },
    {
     "name": "stderr",
     "output_type": "stream",
     "text": [
      "100%|██████████| 6/6 [00:00<00:00, 623.35it/s]\n"
     ]
    },
    {
     "name": "stdout",
     "output_type": "stream",
     "text": [
      "[18:54:58] [DoubleGreedy] Kernel of size 5 found\n"
     ]
    },
    {
     "name": "stderr",
     "output_type": "stream",
     "text": [
      "100%|██████████| 6/6 [00:00<00:00, 624.32it/s]\n"
     ]
    },
    {
     "name": "stdout",
     "output_type": "stream",
     "text": [
      "[18:54:58] [DoubleGreedy] Kernel of size 0 found\n",
      "[18:54:58] [DoubleGreedy] Kernel of size 14 found\n"
     ]
    },
    {
     "name": "stderr",
     "output_type": "stream",
     "text": [
      "100%|██████████| 15/15 [00:00<00:00, 227.11it/s]\n"
     ]
    },
    {
     "name": "stdout",
     "output_type": "stream",
     "text": [
      "[18:54:58] [DoubleGreedy] Kernel of size 27 found\n"
     ]
    },
    {
     "name": "stderr",
     "output_type": "stream",
     "text": [
      "100%|██████████| 28/28 [00:00<00:00, 118.52it/s]\n"
     ]
    },
    {
     "name": "stdout",
     "output_type": "stream",
     "text": [
      "[18:54:58] [DoubleGreedy] Hidden point found to split into 2\n",
      "[18:55:02] [DoubleGreedy] Kernel of size 20 found\n"
     ]
    },
    {
     "name": "stderr",
     "output_type": "stream",
     "text": [
      "100%|██████████| 21/21 [00:00<00:00, 160.10it/s]\n"
     ]
    },
    {
     "name": "stdout",
     "output_type": "stream",
     "text": [
      "[18:55:02] [DoubleGreedy] Kernel of size 33 found\n"
     ]
    },
    {
     "name": "stderr",
     "output_type": "stream",
     "text": [
      "100%|██████████| 34/34 [00:00<00:00, 97.51it/s] \n"
     ]
    },
    {
     "name": "stdout",
     "output_type": "stream",
     "text": [
      "[18:55:02] [DoubleGreedy] Kernel of size 15 found\n"
     ]
    },
    {
     "name": "stderr",
     "output_type": "stream",
     "text": [
      "100%|██████████| 16/16 [00:00<00:00, 214.90it/s]\n"
     ]
    },
    {
     "name": "stdout",
     "output_type": "stream",
     "text": [
      "[18:55:02] [DoubleGreedy] Kernel of size 14 found\n"
     ]
    },
    {
     "name": "stderr",
     "output_type": "stream",
     "text": [
      "100%|██████████| 15/15 [00:00<00:00, 227.74it/s]\n"
     ]
    },
    {
     "name": "stdout",
     "output_type": "stream",
     "text": [
      "[18:55:02] [DoubleGreedy] Kernel of size 17 found\n"
     ]
    },
    {
     "name": "stderr",
     "output_type": "stream",
     "text": [
      "100%|██████████| 18/18 [00:00<00:00, 192.56it/s]\n"
     ]
    },
    {
     "name": "stdout",
     "output_type": "stream",
     "text": [
      "[18:55:02] [DoubleGreedy] Kernel of size 5 found\n"
     ]
    },
    {
     "name": "stderr",
     "output_type": "stream",
     "text": [
      "100%|██████████| 6/6 [00:00<00:00, 630.69it/s]\n"
     ]
    },
    {
     "name": "stdout",
     "output_type": "stream",
     "text": [
      "[18:55:02] [DoubleGreedy] Kernel of size 29 found\n"
     ]
    },
    {
     "name": "stderr",
     "output_type": "stream",
     "text": [
      "100%|██████████| 30/30 [00:00<00:00, 110.09it/s]\n"
     ]
    },
    {
     "name": "stdout",
     "output_type": "stream",
     "text": [
      "[18:55:03] [DoubleGreedy] Kernel of size 23 found\n"
     ]
    },
    {
     "name": "stderr",
     "output_type": "stream",
     "text": [
      "100%|██████████| 24/24 [00:00<00:00, 138.99it/s]\n"
     ]
    },
    {
     "name": "stdout",
     "output_type": "stream",
     "text": [
      "[18:55:03] [DoubleGreedy] Kernel of size 9 found\n"
     ]
    },
    {
     "name": "stderr",
     "output_type": "stream",
     "text": [
      "100%|██████████| 10/10 [00:00<00:00, 355.24it/s]\n"
     ]
    },
    {
     "name": "stdout",
     "output_type": "stream",
     "text": [
      "[18:55:03] [DoubleGreedy] Kernel of size 5 found\n"
     ]
    },
    {
     "name": "stderr",
     "output_type": "stream",
     "text": [
      "100%|██████████| 6/6 [00:00<00:00, 620.80it/s]\n"
     ]
    },
    {
     "name": "stdout",
     "output_type": "stream",
     "text": [
      "[18:55:03] [DoubleGreedy] Kernel of size 5 found\n"
     ]
    },
    {
     "name": "stderr",
     "output_type": "stream",
     "text": [
      "100%|██████████| 6/6 [00:00<00:00, 594.74it/s]\n"
     ]
    },
    {
     "name": "stdout",
     "output_type": "stream",
     "text": [
      "[18:55:03] [DoubleGreedy] Kernel of size 7 found\n"
     ]
    },
    {
     "name": "stderr",
     "output_type": "stream",
     "text": [
      "100%|██████████| 8/8 [00:00<00:00, 451.92it/s]\n"
     ]
    },
    {
     "name": "stdout",
     "output_type": "stream",
     "text": [
      "[18:55:03] [DoubleGreedy] Kernel of size 0 found\n",
      "[18:55:03] [DoubleGreedy] Kernel of size 2 found\n"
     ]
    },
    {
     "name": "stderr",
     "output_type": "stream",
     "text": [
      "100%|██████████| 3/3 [00:00<00:00, 1528.91it/s]\n"
     ]
    },
    {
     "name": "stdout",
     "output_type": "stream",
     "text": [
      "[18:55:03] [DoubleGreedy] Kernel of size 5 found\n"
     ]
    },
    {
     "name": "stderr",
     "output_type": "stream",
     "text": [
      "100%|██████████| 6/6 [00:00<00:00, 472.12it/s]\n"
     ]
    },
    {
     "name": "stdout",
     "output_type": "stream",
     "text": [
      "[18:55:03] [DoubleGreedy] Kernel of size 5 found\n"
     ]
    },
    {
     "name": "stderr",
     "output_type": "stream",
     "text": [
      "100%|██████████| 6/6 [00:00<00:00, 465.28it/s]\n"
     ]
    },
    {
     "name": "stdout",
     "output_type": "stream",
     "text": [
      "[18:55:03] [DoubleGreedy] Kernel of size 0 found\n",
      "[18:55:03] [DoubleGreedy] Kernel of size 14 found\n"
     ]
    },
    {
     "name": "stderr",
     "output_type": "stream",
     "text": [
      "100%|██████████| 15/15 [00:00<00:00, 228.11it/s]\n"
     ]
    },
    {
     "name": "stdout",
     "output_type": "stream",
     "text": [
      "[18:55:03] [DoubleGreedy] Kernel of size 27 found\n"
     ]
    },
    {
     "name": "stderr",
     "output_type": "stream",
     "text": [
      "100%|██████████| 28/28 [00:00<00:00, 118.25it/s]\n"
     ]
    },
    {
     "name": "stdout",
     "output_type": "stream",
     "text": [
      "[18:55:03] [DoubleGreedy] Kernel of size 1 found\n"
     ]
    },
    {
     "name": "stderr",
     "output_type": "stream",
     "text": [
      "100%|██████████| 2/2 [00:00<00:00, 2717.40it/s]\n"
     ]
    },
    {
     "name": "stdout",
     "output_type": "stream",
     "text": [
      "[18:55:03] [DoubleGreedy] Kernel of size 1 found\n"
     ]
    },
    {
     "name": "stderr",
     "output_type": "stream",
     "text": [
      "100%|██████████| 2/2 [00:00<00:00, 2724.46it/s]\n"
     ]
    },
    {
     "name": "stdout",
     "output_type": "stream",
     "text": [
      "[18:55:03] [DoubleGreedy] Hidden point found to split into 2\n",
      "[18:55:07] [DoubleGreedy] Kernel of size 20 found\n"
     ]
    },
    {
     "name": "stderr",
     "output_type": "stream",
     "text": [
      "100%|██████████| 21/21 [00:00<00:00, 160.73it/s]\n"
     ]
    },
    {
     "name": "stdout",
     "output_type": "stream",
     "text": [
      "[18:55:07] [DoubleGreedy] Kernel of size 8 found\n"
     ]
    },
    {
     "name": "stderr",
     "output_type": "stream",
     "text": [
      "100%|██████████| 9/9 [00:00<00:00, 395.60it/s]\n"
     ]
    },
    {
     "name": "stdout",
     "output_type": "stream",
     "text": [
      "[18:55:07] [DoubleGreedy] Kernel of size 14 found\n"
     ]
    },
    {
     "name": "stderr",
     "output_type": "stream",
     "text": [
      "100%|██████████| 15/15 [00:00<00:00, 228.33it/s]\n"
     ]
    },
    {
     "name": "stdout",
     "output_type": "stream",
     "text": [
      "[18:55:07] [DoubleGreedy] Kernel of size 17 found\n"
     ]
    },
    {
     "name": "stderr",
     "output_type": "stream",
     "text": [
      "100%|██████████| 18/18 [00:00<00:00, 192.38it/s]\n"
     ]
    },
    {
     "name": "stdout",
     "output_type": "stream",
     "text": [
      "[18:55:07] [DoubleGreedy] Kernel of size 5 found\n"
     ]
    },
    {
     "name": "stderr",
     "output_type": "stream",
     "text": [
      "100%|██████████| 6/6 [00:00<00:00, 619.83it/s]\n"
     ]
    },
    {
     "name": "stdout",
     "output_type": "stream",
     "text": [
      "[18:55:07] [DoubleGreedy] Kernel of size 29 found\n"
     ]
    },
    {
     "name": "stderr",
     "output_type": "stream",
     "text": [
      "100%|██████████| 30/30 [00:00<00:00, 110.49it/s]\n"
     ]
    },
    {
     "name": "stdout",
     "output_type": "stream",
     "text": [
      "[18:55:07] [DoubleGreedy] Kernel of size 23 found\n"
     ]
    },
    {
     "name": "stderr",
     "output_type": "stream",
     "text": [
      "100%|██████████| 24/24 [00:00<00:00, 139.66it/s]\n"
     ]
    },
    {
     "name": "stdout",
     "output_type": "stream",
     "text": [
      "[18:55:08] [DoubleGreedy] Kernel of size 9 found\n"
     ]
    },
    {
     "name": "stderr",
     "output_type": "stream",
     "text": [
      "100%|██████████| 10/10 [00:00<00:00, 350.49it/s]\n"
     ]
    },
    {
     "name": "stdout",
     "output_type": "stream",
     "text": [
      "[18:55:08] [DoubleGreedy] Kernel of size 4 found\n"
     ]
    },
    {
     "name": "stderr",
     "output_type": "stream",
     "text": [
      "100%|██████████| 5/5 [00:00<00:00, 752.21it/s]\n"
     ]
    },
    {
     "name": "stdout",
     "output_type": "stream",
     "text": [
      "[18:55:08] [DoubleGreedy] Kernel of size 5 found\n"
     ]
    },
    {
     "name": "stderr",
     "output_type": "stream",
     "text": [
      "100%|██████████| 6/6 [00:00<00:00, 616.48it/s]\n"
     ]
    },
    {
     "name": "stdout",
     "output_type": "stream",
     "text": [
      "[18:55:08] [DoubleGreedy] Kernel of size 7 found\n"
     ]
    },
    {
     "name": "stderr",
     "output_type": "stream",
     "text": [
      "100%|██████████| 8/8 [00:00<00:00, 451.04it/s]\n"
     ]
    },
    {
     "name": "stdout",
     "output_type": "stream",
     "text": [
      "[18:55:08] [DoubleGreedy] Kernel of size 0 found\n",
      "[18:55:08] [DoubleGreedy] Kernel of size 2 found\n"
     ]
    },
    {
     "name": "stderr",
     "output_type": "stream",
     "text": [
      "100%|██████████| 3/3 [00:00<00:00, 1365.63it/s]\n"
     ]
    },
    {
     "name": "stdout",
     "output_type": "stream",
     "text": [
      "[18:55:08] [DoubleGreedy] Kernel of size 5 found\n"
     ]
    },
    {
     "name": "stderr",
     "output_type": "stream",
     "text": [
      "100%|██████████| 6/6 [00:00<00:00, 621.72it/s]\n"
     ]
    },
    {
     "name": "stdout",
     "output_type": "stream",
     "text": [
      "[18:55:08] [DoubleGreedy] Kernel of size 5 found\n"
     ]
    },
    {
     "name": "stderr",
     "output_type": "stream",
     "text": [
      "100%|██████████| 6/6 [00:00<00:00, 613.73it/s]\n"
     ]
    },
    {
     "name": "stdout",
     "output_type": "stream",
     "text": [
      "[18:55:08] [DoubleGreedy] Kernel of size 0 found\n",
      "[18:55:08] [DoubleGreedy] Kernel of size 14 found\n"
     ]
    },
    {
     "name": "stderr",
     "output_type": "stream",
     "text": [
      "100%|██████████| 15/15 [00:00<00:00, 226.78it/s]\n"
     ]
    },
    {
     "name": "stdout",
     "output_type": "stream",
     "text": [
      "[18:55:08] [DoubleGreedy] Kernel of size 13 found\n"
     ]
    },
    {
     "name": "stderr",
     "output_type": "stream",
     "text": [
      "100%|██████████| 14/14 [00:00<00:00, 244.21it/s]\n"
     ]
    },
    {
     "name": "stdout",
     "output_type": "stream",
     "text": [
      "[18:55:08] [DoubleGreedy] Kernel of size 1 found\n"
     ]
    },
    {
     "name": "stderr",
     "output_type": "stream",
     "text": [
      "100%|██████████| 2/2 [00:00<00:00, 2255.61it/s]\n"
     ]
    },
    {
     "name": "stdout",
     "output_type": "stream",
     "text": [
      "[18:55:08] [DoubleGreedy] Kernel of size 1 found\n"
     ]
    },
    {
     "name": "stderr",
     "output_type": "stream",
     "text": [
      "100%|██████████| 2/2 [00:00<00:00, 2200.58it/s]\n"
     ]
    },
    {
     "name": "stdout",
     "output_type": "stream",
     "text": [
      "[18:55:08] [DoubleGreedy] Kernel of size 0 found\n",
      "[18:55:08] [DoubleGreedy] Kernel of size 0 found\n",
      "[18:55:08] [DoubleGreedy] Hidden point found to split into 2\n",
      "[18:55:11] [DoubleGreedy] Kernel of size 20 found\n"
     ]
    },
    {
     "name": "stderr",
     "output_type": "stream",
     "text": [
      "100%|██████████| 21/21 [00:00<00:00, 163.44it/s]\n"
     ]
    },
    {
     "name": "stdout",
     "output_type": "stream",
     "text": [
      "[18:55:11] [DoubleGreedy] Kernel of size 9 found\n"
     ]
    },
    {
     "name": "stderr",
     "output_type": "stream",
     "text": [
      "100%|██████████| 10/10 [00:00<00:00, 358.82it/s]\n"
     ]
    },
    {
     "name": "stdout",
     "output_type": "stream",
     "text": [
      "[18:55:11] [DoubleGreedy] Kernel of size 14 found\n"
     ]
    },
    {
     "name": "stderr",
     "output_type": "stream",
     "text": [
      "100%|██████████| 15/15 [00:00<00:00, 231.76it/s]\n"
     ]
    },
    {
     "name": "stdout",
     "output_type": "stream",
     "text": [
      "[18:55:11] [DoubleGreedy] Kernel of size 5 found\n"
     ]
    },
    {
     "name": "stderr",
     "output_type": "stream",
     "text": [
      "100%|██████████| 6/6 [00:00<00:00, 634.09it/s]\n"
     ]
    },
    {
     "name": "stdout",
     "output_type": "stream",
     "text": [
      "[18:55:11] [DoubleGreedy] Kernel of size 29 found\n"
     ]
    },
    {
     "name": "stderr",
     "output_type": "stream",
     "text": [
      "100%|██████████| 30/30 [00:00<00:00, 112.04it/s]\n"
     ]
    },
    {
     "name": "stdout",
     "output_type": "stream",
     "text": [
      "[18:55:12] [DoubleGreedy] Kernel of size 23 found\n"
     ]
    },
    {
     "name": "stderr",
     "output_type": "stream",
     "text": [
      "100%|██████████| 24/24 [00:00<00:00, 141.38it/s]\n"
     ]
    },
    {
     "name": "stdout",
     "output_type": "stream",
     "text": [
      "[18:55:12] [DoubleGreedy] Kernel of size 9 found\n"
     ]
    },
    {
     "name": "stderr",
     "output_type": "stream",
     "text": [
      "100%|██████████| 10/10 [00:00<00:00, 351.36it/s]\n"
     ]
    },
    {
     "name": "stdout",
     "output_type": "stream",
     "text": [
      "[18:55:12] [DoubleGreedy] Kernel of size 4 found\n"
     ]
    },
    {
     "name": "stderr",
     "output_type": "stream",
     "text": [
      "100%|██████████| 5/5 [00:00<00:00, 763.29it/s]\n"
     ]
    },
    {
     "name": "stdout",
     "output_type": "stream",
     "text": [
      "[18:55:12] [DoubleGreedy] Kernel of size 5 found\n"
     ]
    },
    {
     "name": "stderr",
     "output_type": "stream",
     "text": [
      "100%|██████████| 6/6 [00:00<00:00, 613.10it/s]\n"
     ]
    },
    {
     "name": "stdout",
     "output_type": "stream",
     "text": [
      "[18:55:12] [DoubleGreedy] Kernel of size 7 found\n"
     ]
    },
    {
     "name": "stderr",
     "output_type": "stream",
     "text": [
      "100%|██████████| 8/8 [00:00<00:00, 458.15it/s]\n"
     ]
    },
    {
     "name": "stdout",
     "output_type": "stream",
     "text": [
      "[18:55:12] [DoubleGreedy] Kernel of size 0 found\n",
      "[18:55:12] [DoubleGreedy] Kernel of size 2 found\n"
     ]
    },
    {
     "name": "stderr",
     "output_type": "stream",
     "text": [
      "100%|██████████| 3/3 [00:00<00:00, 1364.89it/s]\n"
     ]
    },
    {
     "name": "stdout",
     "output_type": "stream",
     "text": [
      "[18:55:12] [DoubleGreedy] Kernel of size 5 found\n"
     ]
    },
    {
     "name": "stderr",
     "output_type": "stream",
     "text": [
      "100%|██████████| 6/6 [00:00<00:00, 611.09it/s]\n"
     ]
    },
    {
     "name": "stdout",
     "output_type": "stream",
     "text": [
      "[18:55:12] [DoubleGreedy] Kernel of size 4 found\n"
     ]
    },
    {
     "name": "stderr",
     "output_type": "stream",
     "text": [
      "100%|██████████| 5/5 [00:00<00:00, 769.88it/s]\n"
     ]
    },
    {
     "name": "stdout",
     "output_type": "stream",
     "text": [
      "[18:55:12] [DoubleGreedy] Kernel of size 0 found\n",
      "[18:55:12] [DoubleGreedy] Kernel of size 14 found\n"
     ]
    },
    {
     "name": "stderr",
     "output_type": "stream",
     "text": [
      "100%|██████████| 15/15 [00:00<00:00, 230.10it/s]\n"
     ]
    },
    {
     "name": "stdout",
     "output_type": "stream",
     "text": [
      "[18:55:12] [DoubleGreedy] Kernel of size 13 found\n"
     ]
    },
    {
     "name": "stderr",
     "output_type": "stream",
     "text": [
      "100%|██████████| 14/14 [00:00<00:00, 249.14it/s]\n"
     ]
    },
    {
     "name": "stdout",
     "output_type": "stream",
     "text": [
      "[18:55:12] [DoubleGreedy] Kernel of size 1 found\n"
     ]
    },
    {
     "name": "stderr",
     "output_type": "stream",
     "text": [
      "100%|██████████| 2/2 [00:00<00:00, 2038.54it/s]\n"
     ]
    },
    {
     "name": "stdout",
     "output_type": "stream",
     "text": [
      "[18:55:12] [DoubleGreedy] Kernel of size 1 found\n"
     ]
    },
    {
     "name": "stderr",
     "output_type": "stream",
     "text": [
      "100%|██████████| 2/2 [00:00<00:00, 2111.94it/s]\n"
     ]
    },
    {
     "name": "stdout",
     "output_type": "stream",
     "text": [
      "[18:55:12] [DoubleGreedy] Kernel of size 0 found\n",
      "[18:55:12] [DoubleGreedy] Kernel of size 0 found\n",
      "[18:55:12] [DoubleGreedy] Kernel of size 4 found\n"
     ]
    },
    {
     "name": "stderr",
     "output_type": "stream",
     "text": [
      "100%|██████████| 5/5 [00:00<00:00, 765.44it/s]\n"
     ]
    },
    {
     "name": "stdout",
     "output_type": "stream",
     "text": [
      "[18:55:12] [DoubleGreedy] Kernel of size 1 found\n"
     ]
    },
    {
     "name": "stderr",
     "output_type": "stream",
     "text": [
      "100%|██████████| 2/2 [00:00<00:00, 2007.32it/s]\n"
     ]
    },
    {
     "name": "stdout",
     "output_type": "stream",
     "text": [
      "[18:55:12]  1 / 1\n",
      "[18:55:14]  1 / 1\n"
     ]
    },
    {
     "name": "stderr",
     "output_type": "stream",
     "text": [
      "<ipython-input-3-2ab3c8399630>:30: ShapelyDeprecationWarning: The 'cascaded_union()' function is deprecated. Use 'unary_union()' instead.\n",
      "  union_of_Polyhedra = cascaded_union(shapely_regions)\n"
     ]
    },
    {
     "name": "stdout",
     "output_type": "stream",
     "text": [
      "[18:55:16]  1 / 1\n",
      "[18:55:17]  1 / 1\n",
      "[18:55:19]  1 / 1\n",
      "[18:55:20]  1 / 1\n",
      "[18:55:21]  1 / 1\n",
      "[18:55:23]  1 / 1\n",
      "[18:55:25]  1 / 1\n",
      "[18:55:28]  1 / 1\n",
      "[18:55:30]  1 / 1\n",
      "[18:55:33]  1 / 1\n",
      "[18:55:35]  1 / 1\n",
      "[18:55:37]  1 / 1\n",
      "[18:55:39]  1 / 1\n",
      "[18:55:42]  1 / 1\n",
      "[18:55:45]  1 / 1\n",
      "[18:55:47]  1 / 1\n",
      "[18:55:48]  1 / 1\n",
      "[18:55:51]  1 / 1\n",
      "[18:55:53]  1 / 1\n",
      "[18:55:55]  1 / 1\n",
      "[18:55:58]  1 / 1\n"
     ]
    }
   ],
   "source": [
    "dg = HiddensetDoubleGreedy(\n",
    "        alpha=0.0001,\n",
    "        eps = 0.0001,\n",
    "        max_samples = N,\n",
    "        sample_node_handle=sample_cfree_handle,\n",
    "        los_handle= los_handle,\n",
    "        verbose=True\n",
    "        ) \n",
    "dg.construct_independent_set([])\n",
    "dg.refine_independent_set_greedy([])\n",
    "hiddenset, seed_ellipses_scaled, seed_ellipses, kernels = get_kernel_iris_metrics(dg)\n",
    "regions_step, is_full_iris = iris_w_obstacles(np.array(hiddenset).squeeze().reshape(len(hiddenset),-1), seed_ellipses_scaled, [], [])"
   ]
  },
  {
   "cell_type": "code",
   "execution_count": 6,
   "metadata": {},
   "outputs": [],
   "source": [
    "from pydrake.all import Hyperellipsoid\n",
    "from ellipse_utils import plot_ellipse\n",
    "\n",
    "\n",
    "\n",
    "seed_ell_plot = seed_ellipses #[Hyperellipsoid(h.A()*0.1, h.center()) for h in seed_ellipses]"
   ]
  },
  {
   "cell_type": "code",
   "execution_count": 7,
   "metadata": {},
   "outputs": [
    {
     "data": {
      "image/png": "[encoded data removed]",
      "text/plain": [
       "<Figure size 720x720 with 1 Axes>"
      ]
     },
     "metadata": {
      "needs_background": "light"
     },
     "output_type": "display_data"
    }
   ],
   "source": [
    "from utils import generate_random_colors\n",
    "\n",
    "fig,ax = plt.subplots(nrows=1, ncols=1, figsize = (10,10))\n",
    "world.plot_cfree(ax)\n",
    "\n",
    "hs = np.array(hiddenset).squeeze()\n",
    "plt.scatter(hs[:,0], hs[:,1], c = 'r', zorder=10)\n",
    "\n",
    "colors = generate_random_colors(len(kernels))\n",
    "for k,e, c, r in zip(kernels, seed_ell_plot, colors, regions_step):\n",
    "    g = plt.scatter(k[:, 0], k[:, 1], color = c)\n",
    "    plot_ellipse(ax, e, 100,color=c)\n",
    "    world.plot_HPoly(ax, r, color = c)\n"
   ]
  },
  {
   "cell_type": "code",
   "execution_count": 8,
   "metadata": {},
   "outputs": [
    {
     "data": {
      "text/plain": [
       "23"
      ]
     },
     "execution_count": 8,
     "metadata": {},
     "output_type": "execute_result"
    }
   ],
   "source": [
    "len(regions_step)"
   ]
  },
  {
   "cell_type": "code",
   "execution_count": 9,
   "metadata": {},
   "outputs": [
    {
     "name": "stderr",
     "output_type": "stream",
     "text": [
      "<ipython-input-3-2ab3c8399630>:30: ShapelyDeprecationWarning: The 'cascaded_union()' function is deprecated. Use 'unary_union()' instead.\n",
      "  union_of_Polyhedra = cascaded_union(shapely_regions)\n"
     ]
    },
    {
     "data": {
      "text/plain": [
       "0.790441214502968"
      ]
     },
     "execution_count": 9,
     "metadata": {},
     "output_type": "execute_result"
    }
   ],
   "source": [
    "compute_coverage(regions_step)"
   ]
  }
 ],
 "metadata": {
  "kernelspec": {
   "display_name": "Python 3",
   "language": "python",
   "name": "python3"
  },
  "language_info": {
   "codemirror_mode": {
    "name": "ipython",
    "version": 3
   },
   "file_extension": ".py",
   "mimetype": "text/x-python",
   "name": "python",
   "nbconvert_exporter": "python",
   "pygments_lexer": "ipython3",
   "version": "3.8.10"
  },
  "orig_nbformat": 4
 },
 "nbformat": 4,
 "nbformat_minor": 2
}
